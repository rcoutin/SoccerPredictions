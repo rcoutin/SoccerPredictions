{
 "cells": [
  {
   "cell_type": "code",
   "execution_count": 1,
   "metadata": {},
   "outputs": [],
   "source": [
    "import sqlite3 as db \n",
    "import pandas as pd\n",
    "conn = db.connect('soccer/database.sqlite')\n",
    "\n",
    "##\n",
    "from sklearn.preprocessing import MinMaxScaler\n",
    "\n",
    "home_adv_factor = 1\n",
    "# #'attacking_work_rate', 'defensive_work_rate'\n",
    "# attr_cols = ['overall_rating',\n",
    "#        'potential', 'crossing', 'finishing', 'heading_accuracy',\n",
    "#        'short_passing', 'volleys', 'dribbling', 'curve', 'free_kick_accuracy',\n",
    "#        'long_passing', 'ball_control', 'acceleration', 'sprint_speed',\n",
    "#        'agility', 'reactions', 'balance', 'shot_power', 'jumping', 'stamina',\n",
    "#        'strength', 'long_shots', 'aggression', 'interceptions', 'positioning',\n",
    "#        'vision', 'penalties', 'marking', 'standing_tackle', 'sliding_tackle',\n",
    "#        'gk_diving', 'gk_handling', 'gk_kicking', 'gk_positioning',\n",
    "#        'gk_reflexes']\n",
    "\n",
    "attr_cols = ['crossing', 'finishing', 'heading_accuracy','short_passing', 'volleys', 'dribbling', 'free_kick_accuracy',\n",
    "       'long_passing', 'ball_control', 'acceleration', 'sprint_speed',\n",
    "       'agility', 'reactions', 'balance', 'shot_power', 'jumping', 'stamina',\n",
    "       'strength', 'long_shots', 'aggression', 'interceptions', 'positioning',\n",
    "       'vision', 'penalties', 'marking', 'standing_tackle', 'sliding_tackle',\n",
    "       'gk_positioning','gk_reflexes']\n",
    "\n",
    "cols = ['Position']\n",
    "\n",
    "\n",
    "def normalize(df):\n",
    "    for key in attr_cols:\n",
    "        #df[key] = pd.to_numeric(df[key])\n",
    "        scaler = MinMaxScaler()\n",
    "        df[key] = scaler.fit_transform(df[key].values.reshape(-1,1))\n",
    "    return df\n",
    "        "
   ]
  },
  {
   "cell_type": "code",
   "execution_count": 2,
   "metadata": {},
   "outputs": [],
   "source": [
    "# import unidecode as ud\n",
    "# import json\n",
    "\n",
    "# player_pos = json.load(open('player_pos_14.json','r'))\n",
    "# player_pos_dec = {ud.unidecode(key):value for (key,value) in player_pos.items()}\n",
    "# print(len(player_pos))\n",
    "# print(len(player_pos_dec))\n",
    "\n"
   ]
  },
  {
   "cell_type": "code",
   "execution_count": 3,
   "metadata": {},
   "outputs": [],
   "source": [
    "norm_team_name = {}\n",
    "norm_team_name['Man Utd'] = 'Manchester United'\n",
    "norm_team_name['Newcastle'] = 'Newcastle United'\n",
    "norm_team_name['Huddersfield'] = 'Huddersfield Town'\n",
    "norm_team_name['Wolves'] = 'Wolverhampton Wanderers'\n",
    "norm_team_name['Cardiff'] = 'Cardiff City'\n",
    "norm_team_name['Leicester'] = 'Leicester City'\n",
    "norm_team_name['Spurs'] = 'Tottenham Hotspur'\n",
    "norm_team_name['West Ham'] = 'West Ham United'\n",
    "norm_team_name['Brighton'] = 'Brighton & Hove Albion'\n",
    "norm_team_name['Man City'] = 'Manchester City'\n",
    "norm_team_name['West Ham'] = 'West Ham United'\n",
    "norm_team_name['Bournemouth'] = 'AFC Bournemouth'\n",
    "\n",
    "year_data = {'2014': 'statbunker-football-stats/Player Stats 2014-15.csv' , \n",
    "             '2015': 'statbunker-football-stats/Player Stats 2015-16.csv' ,\n",
    "             '2016': 'statbunker-football-stats/Player Stats 2016-17.csv'}\n"
   ]
  },
  {
   "cell_type": "code",
   "execution_count": 4,
   "metadata": {},
   "outputs": [],
   "source": [
    "def get_all_players_info(year):\n",
    "    data = pd.read_csv('fifa-19-player-database/FIFA 19 Player DB.csv', encoding = \"ISO-8859-1\")\n",
    "    fixtures = pd.read_csv('fifa-19-player-database/epl-2018-GMTStandardTime.csv', encoding = \"ISO-8859-1\")\n",
    "    data = data[data['League'] == 'Premier League']\n",
    "    data = data.sort_values(by=['Club'])\n",
    "    return data\n"
   ]
  },
  {
   "cell_type": "code",
   "execution_count": 5,
   "metadata": {},
   "outputs": [],
   "source": [
    "def norm_player_names(all_players_info):\n",
    "    \n",
    "    for key,value in norm_team_name.items():\n",
    "        all_players_info.loc[lambda df: df['Home Team'] == key, 'Home Team'] = value\n",
    "        all_players_info.loc[lambda df: df['Away Team'] == key, 'Away Team'] = value\n",
    "    \n",
    "    return all_players_info"
   ]
  },
  {
   "cell_type": "code",
   "execution_count": 6,
   "metadata": {},
   "outputs": [],
   "source": [
    "def get_full_data(year):\n",
    "    \n",
    "    joined  = get_all_players_info(year)\n",
    "        \n",
    "    return joined\n"
   ]
  },
  {
   "cell_type": "code",
   "execution_count": 7,
   "metadata": {},
   "outputs": [],
   "source": [
    "def create_team(data, name):\n",
    "    \n",
    "    full_team = data[data['Club'].str.startswith(name)]\n",
    "    \n",
    "    return full_team\n",
    "        \n",
    "#     team_agg = {}\n",
    "    \n",
    "#     team_df = {}\n",
    "    \n",
    "#     df_start = full_team[full_team['Team'] == 'THIS DOES NOT EXIST']\n",
    "    \n",
    "#     pos_sel = {'Defender': 4, 'Midfielder': 4, 'Forward': 2, 'Goalkeeper':1}\n",
    "\n",
    "#     if (len(df_start[df_start['Position'] == 'Forward']) < 3 ):\n",
    "#         forwards = len(df_start[df_start['Position'] == 'Forward'])\n",
    "#         print(forwards)\n",
    "#         pos_sel['Forward'] = forwards\n",
    "#         pos_sel['Midfielder'] = 6 - forwards\n",
    "\n",
    "#     for key,value in pos_sel.items():\n",
    "        \n",
    "#         grp = full_team[full_team['Position'] == key].sort_values(by = ['overall_rating'], ascending = False).head(value)\n",
    "#         df_start = df_start.append(grp)\n",
    "#         avg = grp.mean()\n",
    "#         team_agg[key] = avg\n",
    "    \n",
    "#     return df_start"
   ]
  },
  {
   "cell_type": "code",
   "execution_count": 8,
   "metadata": {},
   "outputs": [],
   "source": [
    "def agg_attrs_all(team):\n",
    "    \n",
    "    agg_attrs = {}\n",
    "    team_atts = team[attr_cols]\n",
    "    for key in team_atts.keys():\n",
    "        if key.startswith('gk'):\n",
    "            agg_attrs[key] = team.sort_values(by = [key], ascending = False)[key].head(2).mean()\n",
    "        else:\n",
    "            agg_attrs[key] = team.sort_values(by = [key], ascending = False)[key].head(10).mean()\n",
    "        \n",
    "    agg_attrs_df = pd.DataFrame([agg_attrs]).astype(float)\n",
    "    return agg_attrs_df\n",
    "\n",
    "\n",
    "def agg_attributes(team):\n",
    "    \n",
    "    team.loc[lambda df: df['Position'] == 'Goalkeeper', 'Position'] = 'Defender'\n",
    "    \n",
    "    g = team.groupby(['Position'] , as_index=False).mean()\n",
    "    return g.transpose()"
   ]
  },
  {
   "cell_type": "code",
   "execution_count": 9,
   "metadata": {},
   "outputs": [],
   "source": [
    "def get_fixtures(year):\n",
    "    \n",
    "    fixtures = pd.read_csv('fifa-19-player-database/epl-2018-GMTStandardTime.csv', encoding = \"ISO-8859-1\")\n",
    "    fixtures = norm_player_names(fixtures)\n",
    "    \n",
    "    return fixtures\n",
    "    \n"
   ]
  },
  {
   "cell_type": "code",
   "execution_count": 10,
   "metadata": {},
   "outputs": [],
   "source": [
    "def combine_metrics_4(i,row,home_attrs,away_attrs):\n",
    "   \n",
    "    norm_attrs = {}\n",
    "    \n",
    "    for key in home_attrs.keys():\n",
    "        norm_attrs['h_'+key] = float(home_attrs[key])\n",
    "        norm_attrs['a_'+key] = float(away_attrs[key])\n",
    "    \n",
    "    norm_attrs['Home_Team'] = row['Home Team']\n",
    "    norm_attrs['Away_Team'] = row['Away Team']\n",
    "#     norm_attrs['Result'] = 1 if row['FTHG'] - row['FTAG'] > 0  else (-1 if row['FTHG'] - row['FTAG'] < 0 else 0)\n",
    "    norm_attrs['Game_Week'] = (i//10) + 1\n",
    "#     norm_attrs['FTHG'] = row['FTHG']\n",
    "#     norm_attrs['FTAG'] = row['FTAG']\n",
    "    \n",
    "    norm_df = pd.DataFrame(norm_attrs, index = [str(i)])\n",
    "    \n",
    "    return norm_df "
   ]
  },
  {
   "cell_type": "code",
   "execution_count": 11,
   "metadata": {},
   "outputs": [],
   "source": [
    "team_state = {}\n"
   ]
  },
  {
   "cell_type": "code",
   "execution_count": 12,
   "metadata": {},
   "outputs": [],
   "source": [
    "def get_all_team_data(year):\n",
    "    \n",
    "    data = {}\n",
    "\n",
    "    joined_data = get_full_data(year)\n",
    "\n",
    "    f = get_fixtures(year)\n",
    "    teams = f['Home Team'].unique() #get all unique teams\n",
    "\n",
    "    for team in teams:\n",
    "        team_data = create_team(joined_data, team)\n",
    "        team_attr = agg_attrs_all(team_data)\n",
    "        data[team] = (team_data, team_attr)\n",
    "    return data\n"
   ]
  },
  {
   "cell_type": "code",
   "execution_count": 13,
   "metadata": {},
   "outputs": [],
   "source": [
    "def construct_training_data(years):\n",
    "    \n",
    "    full_res_df = pd.DataFrame()\n",
    "    \n",
    "    for year in years:\n",
    "        \n",
    "        team_store = get_all_team_data(year)\n",
    "        i = 0\n",
    "        res_df = pd.DataFrame()\n",
    "        f = get_fixtures(year)\n",
    "        for key,row in f.iterrows():\n",
    "        #     print(\"MATCHING UP: %s vs %s\"%(row['HomeTeam'], row['AwayTeam']))\n",
    "            home = row['Home Team']\n",
    "            away = row['Away Team']\n",
    "\n",
    "            home_attrs = team_store[home][1]\n",
    "            away_attrs = team_store[away][1]\n",
    "\n",
    "            res_df = res_df.append(combine_metrics_4(i,row,home_attrs,away_attrs))\n",
    "\n",
    "            i = i + 1\n",
    "        \n",
    "        full_res_df = full_res_df.append(res_df)\n",
    "\n",
    "    return full_res_df"
   ]
  },
  {
   "cell_type": "code",
   "execution_count": 14,
   "metadata": {},
   "outputs": [
    {
     "name": "stderr",
     "output_type": "stream",
     "text": [
      "/usr/local/lib/python3.7/site-packages/ipykernel_launcher.py:7: DtypeWarning: Columns (66) have mixed types. Specify dtype option on import or set low_memory=False.\n",
      "  import sys\n"
     ]
    }
   ],
   "source": [
    "tr_data = construct_training_data(['2018'])\n"
   ]
  },
  {
   "cell_type": "code",
   "execution_count": 15,
   "metadata": {},
   "outputs": [],
   "source": [
    "tr_data.to_csv('Full_Data_feats_ha.csv')"
   ]
  }
 ],
 "metadata": {
  "kernelspec": {
   "display_name": "Python 3",
   "language": "python",
   "name": "python3"
  },
  "language_info": {
   "codemirror_mode": {
    "name": "ipython",
    "version": 3
   },
   "file_extension": ".py",
   "mimetype": "text/x-python",
   "name": "python",
   "nbconvert_exporter": "python",
   "pygments_lexer": "ipython3",
   "version": "3.7.0"
  }
 },
 "nbformat": 4,
 "nbformat_minor": 2
}
