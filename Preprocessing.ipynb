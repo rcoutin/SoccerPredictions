{
 "cells": [
  {
   "cell_type": "code",
   "execution_count": 19,
   "metadata": {},
   "outputs": [],
   "source": [
    "import pandas as pd\n",
    "pd.set_option('display.height', 1000)\n",
    "pd.set_option('display.max_rows', 500)\n",
    "pd.set_option('display.max_columns', 500)\n",
    "pd.set_option('display.width', 1000)\n",
    "from sklearn.model_selection import train_test_split\n",
    "x_attr_cols = ['Away_Att','Away_Def','Away_Mid','Home_Att','Home_Mid','Home_Def','Home_Form','Away_Form']\n",
    "x_form_cols = ['Home_Form','Away_Form']\n",
    "x_diff_cols = ['Att_Score','Def_Score','Mid_Score','Form_Score']\n",
    "\n",
    "y_cols = ['Result']\n",
    "\n",
    "bins= [0.0,0.2,0.4,0.6,0.8,1.0]\n",
    "labels = [0,1,2,3]"
   ]
  },
  {
   "cell_type": "code",
   "execution_count": 20,
   "metadata": {},
   "outputs": [],
   "source": [
    "def quantile_bin(df):\n",
    "    #Trying a Kbins discretizer\n",
    "# from sklearn.preprocessing import KBinsDiscretizer\n",
    "\n",
    "# dis = KBinsDiscretizer(n_bins = 5, encode = 'onehot', strategy = 'uniform')\n",
    "\n",
    "# x_all_disc = dis.fit_transform(x_all)\n",
    "\n",
    "#print(x_all_binned)\n",
    "    for key in df:\n",
    "        if key in x_norm_cols:\n",
    "            bins = df[key].quantile([0, .25, .5, .75, 1.])\n",
    "            df[key]= pd.cut(df[key],bins.values, labels = labels, include_lowest = True)\n",
    "            \n",
    "    return df    \n",
    "\n",
    "x_norm_cols = x_attr_cols + x_form_cols\n",
    "\n",
    "def normalize(df):\n",
    "    for key in df:\n",
    "        if key in x_norm_cols:\n",
    "            mn = df[key].min()\n",
    "            mx = df[key].max()\n",
    "            diff = mx - mn\n",
    "            \n",
    "            df[key] = df[key].apply(lambda x : (x-mn)/diff)\n",
    "    return df\n",
    "        \n",
    "def stdize(df):\n",
    "    for key in df:\n",
    "        if key in x_norm_cols:\n",
    "            mean = df[key].mean()\n",
    "            std = df[key].std()\n",
    "            df[key ] = df[key].apply(lambda x : (x-mean)/std)\n",
    "    return df"
   ]
  },
  {
   "cell_type": "code",
   "execution_count": 27,
   "metadata": {},
   "outputs": [],
   "source": [
    "data = pd.read_csv('Full_Data_Form.csv' )\n",
    "\n",
    "tr_data = normalize(data)\n",
    "\n",
    "tr_data['Def_Score'] = tr_data['Home_Def'] - tr_data['Away_Def']\n",
    "tr_data['Att_Score'] = tr_data['Home_Att'] - tr_data['Away_Att']\n",
    "tr_data['Mid_Score'] = tr_data['Home_Mid'] - tr_data['Away_Mid']\n",
    "tr_data['Form_Score'] = tr_data['Home_Form'] - tr_data['Away_Form']\n",
    "tr_data['Total'] = tr_data['Def_Score'] + tr_data['Att_Score'] + tr_data['Mid_Score']\n",
    "diff_df = data[x_diff_cols + ['Total'] + y_cols]\n"
   ]
  },
  {
   "cell_type": "code",
   "execution_count": 29,
   "metadata": {},
   "outputs": [],
   "source": [
    "diff_df.to_csv('Diff_Form_Total.csv')"
   ]
  },
  {
   "cell_type": "code",
   "execution_count": null,
   "metadata": {},
   "outputs": [],
   "source": []
  }
 ],
 "metadata": {
  "kernelspec": {
   "display_name": "Python 3",
   "language": "python",
   "name": "python3"
  },
  "language_info": {
   "codemirror_mode": {
    "name": "ipython",
    "version": 3
   },
   "file_extension": ".py",
   "mimetype": "text/x-python",
   "name": "python",
   "nbconvert_exporter": "python",
   "pygments_lexer": "ipython3",
   "version": "3.6.4"
  }
 },
 "nbformat": 4,
 "nbformat_minor": 2
}
