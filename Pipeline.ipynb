{
 "cells": [
  {
   "cell_type": "code",
   "execution_count": 9,
   "metadata": {},
   "outputs": [],
   "source": [
    "#from models import keras_1, keras_2\n",
    "from sklearn.model_selection import train_test_split\n",
    "from preprocess import onehot,inv_onehot\n",
    "from evaluation import *\n",
    "from common import *\n",
    "# train a feats model\n",
    "from gen_feats_data import get_feats_data\n",
    "from gen_fieldpos_data import get_fieldpos_data\n"
   ]
  },
  {
   "cell_type": "code",
   "execution_count": 10,
   "metadata": {},
   "outputs": [],
   "source": [
    "feats_tr_data = get_feats_data(['2014','2015','2016'])\n",
    "feats_val_data = get_feats_data(['2017'])"
   ]
  },
  {
   "cell_type": "code",
   "execution_count": null,
   "metadata": {},
   "outputs": [],
   "source": [
    "print(feats_val_data)"
   ]
  },
  {
   "cell_type": "code",
   "execution_count": 12,
   "metadata": {},
   "outputs": [],
   "source": [
    "import keras\n",
    "from keras.models import Sequential\n",
    "from keras.layers import Dense, Activation, Dropout\n",
    "from keras import regularizers\n",
    "import numpy as np\n",
    "\n",
    "# class_weights = compute_class_weight('balanced', np.unique(y_integers), y_integers)\n",
    "# sample_weights = compute_sample_weight('balanced', y_integers)\n",
    "\n",
    "def keras_1(x_train,y_train,val_tuple):\n",
    "#     from sklearn.utils import compute_class_weight\n",
    "#     classWeight = compute_class_weight('balanced', np.unique(y_train), y_train)\n",
    "#     classWeight = dict(enumerate(classWeight,1))\n",
    "#     print(classWeight)\n",
    "    \n",
    "    from keras.optimizers import SGD\n",
    "    opt = SGD(lr=0.05)\n",
    "    \"\"\" Creates a Sequential model made out of Densely connected Neural Network layers. All parameters are configured as per specification for Q4\"\"\"\n",
    "\n",
    "    model = Sequential()\n",
    "    model.add(Dense(100,input_dim = x_train.shape[1], activation = 'sigmoid'))\n",
    "    model.add(Dense(200, activation = 'sigmoid',kernel_regularizer = regularizers.l2(0.01)))\n",
    "    model.add(Dropout(0.25))\n",
    "    model.add(Dense(50, activation = 'sigmoid'))\n",
    "    model.add(Dense(3, activation = 'sigmoid'))\n",
    "    \n",
    "    model.compile(loss = 'binary_crossentropy', optimizer ='adam',metrics = ['accuracy'])\n",
    "\n",
    "    model.fit(x_train,y_train,epochs = 50, batch_size = 32, validation_data = val_tuple)\n",
    "    print(model.evaluate(val_tuple[0],val_tuple[1]))\n",
    "    print(model.metrics_names)\n",
    "    return model#.predict(val_tuple[0])\n",
    "   \n",
    "def keras_2(x_train,y_train,val_tuple):\n",
    "    \"\"\" Creates a Sequential model made out of Densely connected Neural Network layers. All parameters are configured as per specification for Q4\"\"\"\n",
    "\n",
    "    from keras.optimizers import SGD\n",
    "    opt = SGD(lr=0.05)\n",
    "    \"\"\" Creates a Sequential model made out of Densely connected Neural Network layers. All parameters are configured as per specification for Q4\"\"\"\n",
    "\n",
    "    model = Sequential()\n",
    "    model.add(Dense(100,input_dim = x_train.shape[1], activation = 'sigmoid'))\n",
    "    model.add(Dense(200, activation = 'sigmoid'))\n",
    "    model.add(Dropout(0.3))\n",
    "    model.add(Dense(3, activation = 'sigmoid'))\n",
    "    \n",
    "    model.compile(loss = 'binary_crossentropy', optimizer ='adam',metrics = ['accuracy'])\n",
    "\n",
    "    model.fit(x_train,y_train,epochs = 50, batch_size = 32, validation_data = val_tuple)\n",
    "    #print(model.evaluate())\n",
    "    #print(model.metrics)\n",
    "    return model#.predict(val_tuple[0])"
   ]
  },
  {
   "cell_type": "code",
   "execution_count": null,
   "metadata": {},
   "outputs": [],
   "source": [
    "model = keras_1(feats_tr_data[0],onehot(feats_tr_data[1]),(feats_val_data[0],onehot(feats_val_data[1])))\n",
    "# inv_pred = inv_onehot(feats_pred).reshape(1,-1)[0]\n",
    "# acc = accuracy_score(inv_pred,feats_val_data[1])\n",
    "# #acc\n"
   ]
  },
  {
   "cell_type": "code",
   "execution_count": 14,
   "metadata": {},
   "outputs": [],
   "source": [
    "feats_test_data = get_feats_data(['2018'])"
   ]
  },
  {
   "cell_type": "code",
   "execution_count": 15,
   "metadata": {},
   "outputs": [
    {
     "name": "stdout",
     "output_type": "stream",
     "text": [
      "<keras.engine.sequential.Sequential object at 0x000002BB30B19128>\n",
      "[[0.55901843 0.24686281 0.17961143]\n",
      " [0.1782027  0.2628504  0.62956333]\n",
      " [0.50141716 0.2510468  0.2212069 ]\n",
      " ...\n",
      " [0.49208578 0.25220537 0.2282843 ]\n",
      " [0.595212   0.24312663 0.15686604]\n",
      " [0.24575745 0.2617829  0.5106326 ]]\n"
     ]
    }
   ],
   "source": [
    "print(model)\n",
    "test_pred = model.predict(feats_test_data[0])\n",
    "print(test_pred)\n",
    "inv_test_pred = inv_onehot(test_pred).reshape(1,-1)[0]\n"
   ]
  },
  {
   "cell_type": "code",
   "execution_count": 16,
   "metadata": {},
   "outputs": [],
   "source": [
    "fieldpos_tr_data = get_fieldpos_data(['2014','2015','2016'])\n",
    "fieldpos_val_data = get_fieldpos_data(['2017'])"
   ]
  },
  {
   "cell_type": "code",
   "execution_count": 17,
   "metadata": {},
   "outputs": [],
   "source": [
    "fieldpos_test_data = get_fieldpos_data(['2018'])"
   ]
  },
  {
   "cell_type": "code",
   "execution_count": 18,
   "metadata": {},
   "outputs": [
    {
     "name": "stderr",
     "output_type": "stream",
     "text": [
      "D:\\Apps\\Anaconda3\\lib\\site-packages\\sklearn\\preprocessing\\_encoders.py:363: FutureWarning: The handling of integer data will change in version 0.22. Currently, the categories are determined based on the range [0, max(values)], while in the future they will be determined based on the unique values.\n",
      "If you want the future behaviour and silence this warning, you can specify \"categories='auto'\".\n",
      "In case you used a LabelEncoder before this OneHotEncoder to convert the categories to integers, then you can now use the OneHotEncoder directly.\n",
      "  warnings.warn(msg, FutureWarning)\n",
      "D:\\Apps\\Anaconda3\\lib\\site-packages\\sklearn\\preprocessing\\_encoders.py:363: FutureWarning: The handling of integer data will change in version 0.22. Currently, the categories are determined based on the range [0, max(values)], while in the future they will be determined based on the unique values.\n",
      "If you want the future behaviour and silence this warning, you can specify \"categories='auto'\".\n",
      "In case you used a LabelEncoder before this OneHotEncoder to convert the categories to integers, then you can now use the OneHotEncoder directly.\n",
      "  warnings.warn(msg, FutureWarning)\n"
     ]
    },
    {
     "name": "stdout",
     "output_type": "stream",
     "text": [
      "Train on 1140 samples, validate on 380 samples\n",
      "Epoch 1/50\n",
      "1140/1140 [==============================] - 0s 382us/step - loss: 0.6289 - acc: 0.6690 - val_loss: 0.5815 - val_acc: 0.7184\n",
      "Epoch 2/50\n",
      "1140/1140 [==============================] - 0s 71us/step - loss: 0.6037 - acc: 0.6947 - val_loss: 0.5780 - val_acc: 0.7140\n",
      "Epoch 3/50\n",
      "1140/1140 [==============================] - 0s 65us/step - loss: 0.6064 - acc: 0.6962 - val_loss: 0.5789 - val_acc: 0.7114\n",
      "Epoch 4/50\n",
      "1140/1140 [==============================] - 0s 73us/step - loss: 0.5952 - acc: 0.6927 - val_loss: 0.5817 - val_acc: 0.7096\n",
      "Epoch 5/50\n",
      "1140/1140 [==============================] - 0s 65us/step - loss: 0.5931 - acc: 0.6924 - val_loss: 0.5821 - val_acc: 0.7070\n",
      "Epoch 6/50\n",
      "1140/1140 [==============================] - 0s 62us/step - loss: 0.5933 - acc: 0.7003 - val_loss: 0.5812 - val_acc: 0.7026\n",
      "Epoch 7/50\n",
      "1140/1140 [==============================] - 0s 66us/step - loss: 0.5879 - acc: 0.7000 - val_loss: 0.5826 - val_acc: 0.7070\n",
      "Epoch 8/50\n",
      "1140/1140 [==============================] - 0s 67us/step - loss: 0.5905 - acc: 0.6933 - val_loss: 0.5826 - val_acc: 0.7044\n",
      "Epoch 9/50\n",
      "1140/1140 [==============================] - 0s 66us/step - loss: 0.5881 - acc: 0.7009 - val_loss: 0.5883 - val_acc: 0.6912\n",
      "Epoch 10/50\n",
      "1140/1140 [==============================] - 0s 64us/step - loss: 0.5924 - acc: 0.6977 - val_loss: 0.5911 - val_acc: 0.6912\n",
      "Epoch 11/50\n",
      "1140/1140 [==============================] - 0s 66us/step - loss: 0.5841 - acc: 0.7015 - val_loss: 0.5857 - val_acc: 0.7000\n",
      "Epoch 12/50\n",
      "1140/1140 [==============================] - 0s 66us/step - loss: 0.5822 - acc: 0.7026 - val_loss: 0.5830 - val_acc: 0.7044\n",
      "Epoch 13/50\n",
      "1140/1140 [==============================] - 0s 68us/step - loss: 0.5873 - acc: 0.7009 - val_loss: 0.5844 - val_acc: 0.6974\n",
      "Epoch 14/50\n",
      "1140/1140 [==============================] - 0s 62us/step - loss: 0.5819 - acc: 0.7038 - val_loss: 0.5827 - val_acc: 0.7035\n",
      "Epoch 15/50\n",
      "1140/1140 [==============================] - 0s 66us/step - loss: 0.5829 - acc: 0.7012 - val_loss: 0.5829 - val_acc: 0.7009\n",
      "Epoch 16/50\n",
      "1140/1140 [==============================] - 0s 68us/step - loss: 0.5810 - acc: 0.7082 - val_loss: 0.5855 - val_acc: 0.6974\n",
      "Epoch 17/50\n",
      "1140/1140 [==============================] - 0s 74us/step - loss: 0.5790 - acc: 0.7070 - val_loss: 0.5837 - val_acc: 0.6982\n",
      "Epoch 18/50\n",
      "1140/1140 [==============================] - 0s 66us/step - loss: 0.5774 - acc: 0.7023 - val_loss: 0.5866 - val_acc: 0.6991\n",
      "Epoch 19/50\n",
      "1140/1140 [==============================] - 0s 67us/step - loss: 0.5792 - acc: 0.7079 - val_loss: 0.5831 - val_acc: 0.7044\n",
      "Epoch 20/50\n",
      "1140/1140 [==============================] - 0s 65us/step - loss: 0.5789 - acc: 0.7041 - val_loss: 0.5832 - val_acc: 0.7061\n",
      "Epoch 21/50\n",
      "1140/1140 [==============================] - 0s 65us/step - loss: 0.5728 - acc: 0.7061 - val_loss: 0.5846 - val_acc: 0.6965\n",
      "Epoch 22/50\n",
      "1140/1140 [==============================] - 0s 65us/step - loss: 0.5778 - acc: 0.7047 - val_loss: 0.5830 - val_acc: 0.6991\n",
      "Epoch 23/50\n",
      "1140/1140 [==============================] - 0s 66us/step - loss: 0.5764 - acc: 0.7111 - val_loss: 0.5851 - val_acc: 0.6991\n",
      "Epoch 24/50\n",
      "1140/1140 [==============================] - 0s 62us/step - loss: 0.5724 - acc: 0.7064 - val_loss: 0.5831 - val_acc: 0.7009\n",
      "Epoch 25/50\n",
      "1140/1140 [==============================] - 0s 66us/step - loss: 0.5702 - acc: 0.7061 - val_loss: 0.5861 - val_acc: 0.6947\n",
      "Epoch 26/50\n",
      "1140/1140 [==============================] - 0s 65us/step - loss: 0.5728 - acc: 0.7123 - val_loss: 0.5854 - val_acc: 0.6956\n",
      "Epoch 27/50\n",
      "1140/1140 [==============================] - 0s 83us/step - loss: 0.5730 - acc: 0.7061 - val_loss: 0.5860 - val_acc: 0.7000\n",
      "Epoch 28/50\n",
      "1140/1140 [==============================] - 0s 70us/step - loss: 0.5726 - acc: 0.7085 - val_loss: 0.5892 - val_acc: 0.6921\n",
      "Epoch 29/50\n",
      "1140/1140 [==============================] - 0s 68us/step - loss: 0.5736 - acc: 0.7073 - val_loss: 0.5841 - val_acc: 0.7009\n",
      "Epoch 30/50\n",
      "1140/1140 [==============================] - 0s 75us/step - loss: 0.5715 - acc: 0.7088 - val_loss: 0.5834 - val_acc: 0.7000\n",
      "Epoch 31/50\n",
      "1140/1140 [==============================] - 0s 71us/step - loss: 0.5748 - acc: 0.7114 - val_loss: 0.5883 - val_acc: 0.6965\n",
      "Epoch 32/50\n",
      "1140/1140 [==============================] - 0s 70us/step - loss: 0.5723 - acc: 0.7117 - val_loss: 0.5878 - val_acc: 0.6956\n",
      "Epoch 33/50\n",
      "1140/1140 [==============================] - 0s 67us/step - loss: 0.5711 - acc: 0.7079 - val_loss: 0.5888 - val_acc: 0.6974\n",
      "Epoch 34/50\n",
      "1140/1140 [==============================] - 0s 65us/step - loss: 0.5706 - acc: 0.7105 - val_loss: 0.5935 - val_acc: 0.6904\n",
      "Epoch 35/50\n",
      "1140/1140 [==============================] - 0s 71us/step - loss: 0.5686 - acc: 0.7105 - val_loss: 0.5891 - val_acc: 0.6947\n",
      "Epoch 36/50\n",
      "1140/1140 [==============================] - 0s 71us/step - loss: 0.5680 - acc: 0.7164 - val_loss: 0.5863 - val_acc: 0.7018\n",
      "Epoch 37/50\n",
      "1140/1140 [==============================] - 0s 67us/step - loss: 0.5689 - acc: 0.7091 - val_loss: 0.5853 - val_acc: 0.7009\n",
      "Epoch 38/50\n",
      "1140/1140 [==============================] - 0s 79us/step - loss: 0.5670 - acc: 0.7123 - val_loss: 0.5915 - val_acc: 0.6930\n",
      "Epoch 39/50\n",
      "1140/1140 [==============================] - 0s 71us/step - loss: 0.5662 - acc: 0.7120 - val_loss: 0.5895 - val_acc: 0.6956\n",
      "Epoch 40/50\n",
      "1140/1140 [==============================] - 0s 64us/step - loss: 0.5682 - acc: 0.7129 - val_loss: 0.5888 - val_acc: 0.6974\n",
      "Epoch 41/50\n",
      "1140/1140 [==============================] - 0s 70us/step - loss: 0.5643 - acc: 0.7155 - val_loss: 0.5882 - val_acc: 0.6939\n",
      "Epoch 42/50\n",
      "1140/1140 [==============================] - 0s 80us/step - loss: 0.5617 - acc: 0.7161 - val_loss: 0.5918 - val_acc: 0.6991\n",
      "Epoch 43/50\n",
      "1140/1140 [==============================] - 0s 61us/step - loss: 0.5604 - acc: 0.7167 - val_loss: 0.5864 - val_acc: 0.6991\n",
      "Epoch 44/50\n",
      "1140/1140 [==============================] - 0s 70us/step - loss: 0.5641 - acc: 0.7152 - val_loss: 0.5929 - val_acc: 0.6965\n",
      "Epoch 45/50\n",
      "1140/1140 [==============================] - 0s 66us/step - loss: 0.5644 - acc: 0.7152 - val_loss: 0.5936 - val_acc: 0.6921\n",
      "Epoch 46/50\n",
      "1140/1140 [==============================] - 0s 73us/step - loss: 0.5617 - acc: 0.7158 - val_loss: 0.5908 - val_acc: 0.6965\n",
      "Epoch 47/50\n",
      "1140/1140 [==============================] - 0s 67us/step - loss: 0.5590 - acc: 0.7199 - val_loss: 0.5930 - val_acc: 0.6965\n",
      "Epoch 48/50\n",
      "1140/1140 [==============================] - 0s 66us/step - loss: 0.5590 - acc: 0.7190 - val_loss: 0.5898 - val_acc: 0.6974\n",
      "Epoch 49/50\n",
      "1140/1140 [==============================] - 0s 69us/step - loss: 0.5563 - acc: 0.7199 - val_loss: 0.5909 - val_acc: 0.6965\n",
      "Epoch 50/50\n",
      "1140/1140 [==============================] - 0s 66us/step - loss: 0.5560 - acc: 0.7137 - val_loss: 0.5964 - val_acc: 0.6930\n",
      "<keras.engine.sequential.Sequential object at 0x000002BB34A2FF60>\n"
     ]
    }
   ],
   "source": [
    "model_2 = keras_2(fieldpos_tr_data[0],onehot(fieldpos_tr_data[1]),(fieldpos_val_data[0],onehot(fieldpos_val_data[1])))\n",
    "# print(fieldpos_pred)\n",
    "# inv_pred = inv_onehot(fieldpos_pred).reshape(1,-1)[0]\n",
    "# print(inv_pred)\n",
    "\n",
    "#accuracy_score(inv_pred,fieldpos_val_data[1])\n",
    "print(model_2)\n",
    "test_pred_2 = model_2.predict(fieldpos_test_data[0])\n",
    "inv_test_pred_2 = inv_onehot(test_pred_2).reshape(1,-1)[0]\n"
   ]
  },
  {
   "cell_type": "code",
   "execution_count": 19,
   "metadata": {},
   "outputs": [
    {
     "ename": "NameError",
     "evalue": "name 'feats_pred' is not defined",
     "output_type": "error",
     "traceback": [
      "\u001b[1;31m---------------------------------------------------------------------------\u001b[0m",
      "\u001b[1;31mNameError\u001b[0m                                 Traceback (most recent call last)",
      "\u001b[1;32m<ipython-input-19-f64cdc178e6b>\u001b[0m in \u001b[0;36m<module>\u001b[1;34m()\u001b[0m\n\u001b[0;32m      5\u001b[0m \u001b[1;33m\u001b[0m\u001b[0m\n\u001b[0;32m      6\u001b[0m \u001b[1;32mfor\u001b[0m \u001b[0mi\u001b[0m \u001b[1;32min\u001b[0m \u001b[0mrange\u001b[0m\u001b[1;33m(\u001b[0m\u001b[1;36m0\u001b[0m\u001b[1;33m,\u001b[0m\u001b[0mlen\u001b[0m\u001b[1;33m(\u001b[0m\u001b[0mfeats_val_data\u001b[0m\u001b[1;33m[\u001b[0m\u001b[1;36m1\u001b[0m\u001b[1;33m]\u001b[0m\u001b[1;33m)\u001b[0m\u001b[1;33m)\u001b[0m\u001b[1;33m:\u001b[0m\u001b[1;33m\u001b[0m\u001b[0m\n\u001b[1;32m----> 7\u001b[1;33m     \u001b[0mprint\u001b[0m\u001b[1;33m(\u001b[0m\u001b[0mfeats_pred\u001b[0m\u001b[1;33m[\u001b[0m\u001b[0mi\u001b[0m\u001b[1;33m]\u001b[0m\u001b[1;33m,\u001b[0m \u001b[0mfieldpos_pred\u001b[0m\u001b[1;33m[\u001b[0m\u001b[0mi\u001b[0m\u001b[1;33m]\u001b[0m\u001b[1;33m,\u001b[0m\u001b[0mfeats_val_data\u001b[0m\u001b[1;33m[\u001b[0m\u001b[1;36m1\u001b[0m\u001b[1;33m]\u001b[0m\u001b[1;33m[\u001b[0m\u001b[0mi\u001b[0m\u001b[1;33m]\u001b[0m\u001b[1;33m,\u001b[0m  \u001b[1;33m[\u001b[0m\u001b[0mfeats_pred\u001b[0m\u001b[1;33m[\u001b[0m\u001b[0mi\u001b[0m\u001b[1;33m]\u001b[0m\u001b[1;33m[\u001b[0m\u001b[1;36m0\u001b[0m\u001b[1;33m]\u001b[0m \u001b[1;33m+\u001b[0m   \u001b[0mfieldpos_pred\u001b[0m\u001b[1;33m[\u001b[0m\u001b[0mi\u001b[0m\u001b[1;33m]\u001b[0m\u001b[1;33m[\u001b[0m\u001b[1;36m0\u001b[0m\u001b[1;33m]\u001b[0m\u001b[1;33m,\u001b[0m  \u001b[0mfeats_pred\u001b[0m\u001b[1;33m[\u001b[0m\u001b[0mi\u001b[0m\u001b[1;33m]\u001b[0m\u001b[1;33m[\u001b[0m\u001b[1;36m1\u001b[0m\u001b[1;33m]\u001b[0m \u001b[1;33m+\u001b[0m \u001b[0mfieldpos_pred\u001b[0m\u001b[1;33m[\u001b[0m\u001b[0mi\u001b[0m\u001b[1;33m]\u001b[0m\u001b[1;33m[\u001b[0m\u001b[1;36m1\u001b[0m\u001b[1;33m]\u001b[0m\u001b[1;33m,\u001b[0m  \u001b[0mfeats_pred\u001b[0m\u001b[1;33m[\u001b[0m\u001b[0mi\u001b[0m\u001b[1;33m]\u001b[0m\u001b[1;33m[\u001b[0m\u001b[1;36m2\u001b[0m\u001b[1;33m]\u001b[0m \u001b[1;33m+\u001b[0m \u001b[0mfieldpos_pred\u001b[0m\u001b[1;33m[\u001b[0m\u001b[0mi\u001b[0m\u001b[1;33m]\u001b[0m\u001b[1;33m[\u001b[0m\u001b[1;36m2\u001b[0m\u001b[1;33m]\u001b[0m\u001b[1;33m]\u001b[0m\u001b[1;33m)\u001b[0m\u001b[1;33m\u001b[0m\u001b[0m\n\u001b[0m",
      "\u001b[1;31mNameError\u001b[0m: name 'feats_pred' is not defined"
     ]
    }
   ],
   "source": [
    "\n",
    "\n",
    "\n",
    "it = feats_val_data[0].iterrows()\n",
    "\n",
    "for i in range(0,len(feats_val_data[1])):\n",
    "    print(feats_pred[i], fieldpos_pred[i],feats_val_data[1][i],  [feats_pred[i][0] +   fieldpos_pred[i][0],  feats_pred[i][1] + fieldpos_pred[i][1],  feats_pred[i][2] + fieldpos_pred[i][2]])\n"
   ]
  },
  {
   "cell_type": "code",
   "execution_count": null,
   "metadata": {},
   "outputs": [],
   "source": [
    "import operator\n",
    "\n",
    "it = feats_val_data[0].iterrows()\n",
    "z = 0\n",
    "for i in range(0,len(feats_val_data[1])):\n",
    "    a = [0,feats_pred[i][0],feats_pred[i][1],feats_pred[i][2],0,fieldpos_pred[i][0], fieldpos_pred[i][1],fieldpos_pred[i][2]]\n",
    "    m = max(a)\n",
    "    i = a.index(m)\n",
    "    if (i)%4 ==feats_val_data[1][i] :\n",
    "        z = z + 1\n",
    "z/len(feats_val_data[1])"
   ]
  },
  {
   "cell_type": "code",
   "execution_count": null,
   "metadata": {},
   "outputs": [],
   "source": [
    "def generate_final_table(fixtures, results):\n",
    "    team_points = {}\n",
    "\n",
    "    for i in range(10):\n",
    "        team_points[fixtures.iloc[i]['HomeTeam']] = 0\n",
    "        team_points[fixtures.iloc[i]['AwayTeam']] = 0\n",
    "\n",
    "    for i in range(380):\n",
    "        result = results[i]\n",
    "        fixture = fixtures.iloc[i]\n",
    "        if(result == 1):\n",
    "            team_points[fixture['HomeTeam']] += 3\n",
    "        elif(result == 2):\n",
    "            team_points[fixture['HomeTeam']] += 1\n",
    "            team_points[fixture['AwayTeam']] += 1\n",
    "        elif(result == 3):\n",
    "            team_points[fixture['AwayTeam']] += 3\n",
    "\n",
    "    sorted_team_points = sorted(team_points.items(), key=lambda kv: kv[1])\n",
    "    sorted_team_points.reverse()\n",
    "    return dict(sorted_team_points)"
   ]
  },
  {
   "cell_type": "code",
   "execution_count": null,
   "metadata": {},
   "outputs": [],
   "source": [
    "import pandas as pd\n",
    "\n",
    "results = []\n",
    "fixtures = get_fixtures('2018')\n"
   ]
  },
  {
   "cell_type": "code",
   "execution_count": null,
   "metadata": {},
   "outputs": [],
   "source": [
    "\n",
    "final_table = pd.DataFrame.from_dict(generate_final_table(fixtures, inv_test_pred_2), orient = 'index')\n",
    "final_table"
   ]
  },
  {
   "cell_type": "code",
   "execution_count": null,
   "metadata": {},
   "outputs": [],
   "source": [
    "feats_pred = test_pred\n",
    "fieldpos_pred = test_pred_2\n",
    "times = 0\n",
    "count = 0\n",
    "home_wins = 0\n",
    "\n",
    "for i in range(0,len(fieldpos_test_data[1])):\n",
    "    #print(fieldpos_test_data[1][i],feats_pred[i], fieldpos_pred[i], [(feats_pred[i][0] +   fieldpos_pred[i][0])/2,  (feats_pred[i][1] + fieldpos_pred[i][1])/2,  (feats_pred[i][2] + fieldpos_pred[i][2])/2])\n",
    "    a = [(feats_pred[i][0] *  fieldpos_pred[i][0]),  (feats_pred[i][1] * fieldpos_pred[i][1]),  (feats_pred[i][2] * fieldpos_pred[i][2])]\n",
    "    #a = [feats_pred[i][0],  feats_pred[i][1],  feats_pred[i][2] ]\n",
    "    #a = [fieldpos_pred[i][0],  fieldpos_pred[i][1],  fieldpos_pred[i][2] ]\n",
    "\n",
    "    m = max(a)\n",
    "    it = a.index(m) + 1\n",
    "    #predict vs actual\n",
    "    if it == fieldpos_test_data[1][i]:\n",
    "        times = times + 1\n",
    "        if it == 1 or it == 3:\n",
    "            home_wins +=1\n",
    "        \n",
    "    count = count + 1\n",
    "    if count == 131:\n",
    "        break\n",
    "print(times, count)\n",
    "print(times/count)\n",
    "print(home_wins/count)"
   ]
  },
  {
   "cell_type": "code",
   "execution_count": null,
   "metadata": {},
   "outputs": [],
   "source": []
  },
  {
   "cell_type": "code",
   "execution_count": null,
   "metadata": {},
   "outputs": [],
   "source": []
  }
 ],
 "metadata": {
  "kernelspec": {
   "display_name": "Python 3",
   "language": "python",
   "name": "python3"
  },
  "language_info": {
   "codemirror_mode": {
    "name": "ipython",
    "version": 3
   },
   "file_extension": ".py",
   "mimetype": "text/x-python",
   "name": "python",
   "nbconvert_exporter": "python",
   "pygments_lexer": "ipython3",
   "version": "3.6.4"
  }
 },
 "nbformat": 4,
 "nbformat_minor": 2
}
