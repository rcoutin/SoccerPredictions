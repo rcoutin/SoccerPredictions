{
 "cells": [
  {
   "cell_type": "code",
   "execution_count": 2,
   "metadata": {},
   "outputs": [],
   "source": [
    "import pandas as pd"
   ]
  },
  {
   "cell_type": "code",
   "execution_count": 19,
   "metadata": {},
   "outputs": [],
   "source": [
    "norm_team_name = {}\n",
    "norm_team_name['Man Utd'] = 'Manchester United'\n",
    "norm_team_name['Newcastle'] = 'Newcastle United'\n",
    "norm_team_name['Huddersfield'] = 'Huddersfield Town'\n",
    "norm_team_name['Wolves'] = 'Wolverhampton Wanderers'\n",
    "norm_team_name['Cardiff'] = 'Cardiff City'\n",
    "norm_team_name['Leicester'] = 'Leicester City'\n",
    "norm_team_name['Spurs'] = 'Tottenham Hotspur'\n",
    "norm_team_name['West Ham'] = 'West Ham United'\n",
    "norm_team_name['Brighton'] = 'Brighton & Hove Albion'\n",
    "norm_team_name['Man City'] = 'Manchester City'\n",
    "norm_team_name['West Ham'] = 'West Ham United'\n",
    "norm_team_name['Bournemouth'] = 'AFC Bournemouth'"
   ]
  },
  {
   "cell_type": "code",
   "execution_count": 20,
   "metadata": {},
   "outputs": [
    {
     "name": "stderr",
     "output_type": "stream",
     "text": [
      "C:\\ProgramData\\Anaconda3\\lib\\site-packages\\IPython\\core\\interactiveshell.py:2785: DtypeWarning: Columns (66) have mixed types. Specify dtype option on import or set low_memory=False.\n",
      "  interactivity=interactivity, compiler=compiler, result=result)\n"
     ]
    }
   ],
   "source": [
    "data = pd.read_csv('fifa-19-player-database/FIFA 19 Player DB.csv', encoding = \"ISO-8859-1\")\n",
    "fixtures = pd.read_csv('fifa-19-player-database/epl-2018-GMTStandardTime.csv', encoding = \"ISO-8859-1\")\n",
    "data = data[data['League'] == 'Premier League']\n",
    "data = data.sort_values(by=['Club'])"
   ]
  },
  {
   "cell_type": "code",
   "execution_count": 22,
   "metadata": {},
   "outputs": [],
   "source": [
    "def norm_player_names(all_players_info):\n",
    "    \n",
    "    for key,value in norm_team_name.items():\n",
    "        all_players_info.loc[lambda df: df['Home Team'] == key, 'Home Team'] = value\n",
    "        all_players_info.loc[lambda df: df['Away Team'] == key, 'Away Team'] = value\n",
    "    \n",
    "    return all_players_info"
   ]
  },
  {
   "cell_type": "code",
   "execution_count": 26,
   "metadata": {},
   "outputs": [],
   "source": [
    "fixtures = norm_player_names(fixtures)"
   ]
  },
  {
   "cell_type": "code",
   "execution_count": 28,
   "metadata": {},
   "outputs": [
    {
     "data": {
      "text/plain": [
       "Index(['Player Name', 'Overall', 'Club', 'League', 'Nationality', 'Position',\n",
       "       'Age', 'Height (cm)', 'Weight (Kg)', 'Pace', 'Acceleration',\n",
       "       'Sprint Speed', 'Dribbling', 'Agility', 'Balance', 'Reactions',\n",
       "       'Ball Control', 'Composure', 'Shooting', 'Positioning', 'Finishing',\n",
       "       'Shot Power', 'Long Shots', 'Volleys', 'Penalties', 'Passing', 'Vision',\n",
       "       'Crossing', 'Free Kick', 'Short Pass', 'Long Pass', 'Pass Curve',\n",
       "       'Defending', 'Interceptions', 'Heading', 'Marking', 'Standing Tackle',\n",
       "       'Sliding Tackle', 'Physicality', 'Jumping', 'Stamina', 'Strength',\n",
       "       'Aggression', 'Diving', 'Reflexes', 'Handling', 'Speed', 'Kicking',\n",
       "       'Positoning', 'Preferred Foot', 'Attacking Workrate',\n",
       "       'Defensive Workrate', 'Weak Foot', 'Skill Moves', 'CB', 'RB', 'LB',\n",
       "       'RWB', 'LWB', 'CDM', 'CM', 'RM', 'LM', 'CAM', 'CF', 'RF', 'LF', 'RW',\n",
       "       'LW', 'ST'],\n",
       "      dtype='object')"
      ]
     },
     "execution_count": 28,
     "metadata": {},
     "output_type": "execute_result"
    }
   ],
   "source": [
    "data.keys()"
   ]
  },
  {
   "cell_type": "code",
   "execution_count": null,
   "metadata": {},
   "outputs": [],
   "source": []
  }
 ],
 "metadata": {
  "kernelspec": {
   "display_name": "Python 3",
   "language": "python",
   "name": "python3"
  },
  "language_info": {
   "codemirror_mode": {
    "name": "ipython",
    "version": 3
   },
   "file_extension": ".py",
   "mimetype": "text/x-python",
   "name": "python",
   "nbconvert_exporter": "python",
   "pygments_lexer": "ipython3",
   "version": "3.7.0"
  }
 },
 "nbformat": 4,
 "nbformat_minor": 2
}
