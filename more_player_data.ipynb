{
 "cells": [
  {
   "cell_type": "code",
   "execution_count": 29,
   "metadata": {},
   "outputs": [],
   "source": [
    "norm_team_name = {}\n",
    "norm_team_name['Man Utd'] = 'Manchester United'\n",
    "norm_team_name['Man United'] = 'Manchester United'\n",
    "norm_team_name['Manchester Utd'] = 'Manchester United'\n",
    "norm_team_name['QPR'] = 'Queens Park Rangers'\n",
    "norm_team_name['Newcastle'] = 'Newcastle United'\n",
    "norm_team_name['Newcastle Utd'] = 'Newcastle United'\n",
    "norm_team_name['Huddersfield'] = 'Huddersfield Town'\n",
    "norm_team_name['Wolves'] = 'Wolverhampton Wanderers'\n",
    "norm_team_name['Cardiff'] = 'Cardiff City'\n",
    "norm_team_name['Leicester'] = 'Leicester City'\n",
    "norm_team_name['Spurs'] = 'Tottenham Hotspur'\n",
    "norm_team_name['West Ham'] = 'West Ham United'\n",
    "norm_team_name['Brighton'] = 'Brighton & Hove Albion'\n",
    "norm_team_name['Man City'] = 'Manchester City'\n",
    "norm_team_name['West Brom'] = 'West Bromwich Albion'\n",
    "norm_team_name['Bournemouth'] = 'Bournemouth'\n",
    "norm_team_name['Stoke'] = 'Stoke City'\n",
    "norm_team_name['Swansea'] = 'Swansea City'\n",
    "\n",
    "\n",
    "import pandas as pd\n",
    "\n",
    "attr_cols = ['crossing', 'finishing', 'heading_accuracy','short_passing', 'volleys', 'dribbling', 'free_kick_accuracy',\n",
    "       'long_passing', 'ball_control', 'acceleration', 'sprint_speed',\n",
    "       'agility', 'reactions', 'balance', 'shot_power', 'jumping', 'stamina',\n",
    "       'strength', 'long_shots', 'aggression', 'interceptions',\n",
    "       'vision', 'penalties', 'marking', 'standing_tackle', 'sliding_tackle',\n",
    "       'gk_positioning','gk_reflexes']\n",
    "\n",
    "player_cols = ['player_name','position','team','overall_rating']\n",
    "\n",
    "df17 = pd.read_csv('fifa2017_player_attributes/17_data.csv')\n",
    "z = df17.rename(lambda c : c.replace(' ','_').lower(), axis='columns')\n",
    "z['position'] = z['preffered_position'].str.partition('/',expand = True)[0]\n",
    "z['overall_rating'] = z['rating']\n",
    "z['player_name'] = z['name']\n",
    "\n",
    "z['team'] = z['club']\n",
    "\n",
    "n17 = z[player_cols + attr_cols].replace(norm_team_name)\n",
    "\n",
    "n17.to_csv('epl2016_fifa17.csv')"
   ]
  },
  {
   "cell_type": "code",
   "execution_count": 2,
   "metadata": {},
   "outputs": [],
   "source": [
    "# df18 = pd.read_csv('fifa2018_player_attributes/18_player_attr_data.csv')\n",
    "\n",
    "# k = df18.rename(lambda c : c.replace(' ','_').lower(), axis='columns')\n",
    "\n",
    "# k['position'] = k['preferred_positions'].str.partition()[0]\n",
    "# k['overall_rating'] = k['overall']\n",
    "# k[player_cols + attr_cols].to_csv('epl17_fifa18.csv')"
   ]
  },
  {
   "cell_type": "code",
   "execution_count": 30,
   "metadata": {},
   "outputs": [
    {
     "name": "stderr",
     "output_type": "stream",
     "text": [
      "D:\\Apps\\Anaconda3\\lib\\site-packages\\IPython\\core\\interactiveshell.py:2728: DtypeWarning: Columns (66) have mixed types. Specify dtype option on import or set low_memory=False.\n",
      "  interactivity=interactivity, compiler=compiler, result=result)\n"
     ]
    }
   ],
   "source": [
    "df19 = pd.read_csv('fifa-19-player-database/FIFA 19 Player DB.csv',encoding = \"ISO-8859-1\")\n",
    "p = df19.rename(lambda c : c.replace(' ','_').lower(), axis='columns')\n",
    "\n",
    "p['team'] = p['club']\n",
    "n18 = p[player_cols + attr_cols].replace(norm_team_name)\n",
    "\n",
    "n18.to_csv('epl2018_fifa19.csv')"
   ]
  },
  {
   "cell_type": "code",
   "execution_count": 31,
   "metadata": {},
   "outputs": [],
   "source": [
    "c18 = pd.read_csv('fifa2018_player_attributes/complete.csv')\n",
    "pos_cols = ['rw','rm','rb','rwb','st','lw','cf','cam','cm','lm','cdm','cb','lb','lwb','lf','gk']\n",
    "z = c18[pos_cols].idxmax(axis = 1)\n",
    "c18['position'] = c18[pos_cols].idxmax(axis = 1).str.upper()\n",
    "c18['overall_rating'] = c18['overall']\n",
    "c18['team'] = c18['club']\n",
    "c18['player_name'] = c18['name']\n",
    "\n",
    "n19 = c18[player_cols + attr_cols].replace(norm_team_name)\n",
    "n19.to_csv('epl2017_fifa18.csv')\n"
   ]
  },
  {
   "cell_type": "code",
   "execution_count": 36,
   "metadata": {},
   "outputs": [],
   "source": [
    "fx = pd.read_csv('fifa-19-player-database/epl-2018-GMTStandardTime.csv')\n",
    "fx['Div'] = 'E0'\n",
    "fx['Season'] = '2018-19'\n",
    "fx['HomeTeam'] = fx.pop('Home Team')\n",
    "fx['AwayTeam'] = fx.pop('Away Team')\n",
    "fx['FTHG'] = fx['Result'].str.partition(' - ')[0]\n",
    "fx['FTAG'] = fx['Result'].str.partition(' - ')[2]\n",
    "fx.to_csv('epl18fixtures.csv')"
   ]
  },
  {
   "cell_type": "code",
   "execution_count": null,
   "metadata": {},
   "outputs": [],
   "source": []
  }
 ],
 "metadata": {
  "kernelspec": {
   "display_name": "Python 3",
   "language": "python",
   "name": "python3"
  },
  "language_info": {
   "codemirror_mode": {
    "name": "ipython",
    "version": 3
   },
   "file_extension": ".py",
   "mimetype": "text/x-python",
   "name": "python",
   "nbconvert_exporter": "python",
   "pygments_lexer": "ipython3",
   "version": "3.6.4"
  }
 },
 "nbformat": 4,
 "nbformat_minor": 2
}
