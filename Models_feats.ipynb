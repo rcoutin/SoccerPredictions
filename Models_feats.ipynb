{
 "cells": [
  {
   "cell_type": "code",
   "execution_count": null,
   "metadata": {},
   "outputs": [],
   "source": [
    "import pandas as pd\n",
    "from sklearn.model_selection import train_test_split\n",
    "from sklearn.metrics import accuracy_score, mean_squared_error\n",
    "\n",
    "x_cols = ['crossing', 'finishing', 'heading_accuracy','short_passing', 'volleys', 'dribbling', 'free_kick_accuracy',\n",
    "       'long_passing', 'ball_control', 'acceleration', 'sprint_speed',\n",
    "       'agility', 'reactions', 'balance', 'shot_power', 'jumping', 'stamina',\n",
    "       'strength', 'long_shots', 'aggression', 'interceptions', 'positioning',\n",
    "       'vision', 'penalties', 'marking', 'standing_tackle', 'sliding_tackle',\n",
    "       'gk_positioning','gk_reflexes']\n",
    "\n",
    "y_cols = ['Result']\n",
    "\n",
    "full_data = pd.read_csv('Full_Data_feats.csv' )\n",
    "\n",
    "print(full_data[x_cols].describe())\n",
    "\n",
    "#Finding misclassifications\n",
    "\n",
    "def misclassification_report(df, y_pred, y_test ):\n",
    "    \n",
    "    misclassified = pd.DataFrame()\n",
    "    \n",
    "    for count,value  in enumerate(y_test.iterrows()):\n",
    "        \n",
    "        if y_pred[count]!=int(value[1]['Result']):\n",
    "            new_row = df.iloc[value[0]]\n",
    "            new_row['Predicted'] = y_pred[count]\n",
    "            misclassified = misclassified.append(new_row)\n",
    "    return misclassified\n"
   ]
  },
  {
   "cell_type": "code",
   "execution_count": 88,
   "metadata": {},
   "outputs": [],
   "source": [
    "x_all = full_data[x_cols[:]]\n",
    "y_all = full_data[['Result']]\n"
   ]
  },
  {
   "cell_type": "code",
   "execution_count": 89,
   "metadata": {},
   "outputs": [],
   "source": [
    "# from sklearn.decomposition import PCA\n",
    "# comps = 10\n",
    "# pca = PCA(n_components=comps, svd_solver='full')\n",
    "# x_pca = pca.fit_transform(x_all)  \n",
    "# print(x_pca.shape)"
   ]
  },
  {
   "cell_type": "code",
   "execution_count": 90,
   "metadata": {},
   "outputs": [],
   "source": [
    "x_train,x_test,y_train,y_test = train_test_split(x_pca, y_all, test_size = 0.25, random_state = 42)\n"
   ]
  },
  {
   "cell_type": "code",
   "execution_count": 91,
   "metadata": {},
   "outputs": [
    {
     "name": "stdout",
     "output_type": "stream",
     "text": [
      "285\n",
      "Epoch 1/50\n",
      "285/285 [==============================] - 1s 3ms/step - loss: 0.7518 - acc: 0.4316\n",
      "Epoch 2/50\n",
      "285/285 [==============================] - 0s 70us/step - loss: 0.6920 - acc: 0.3509\n",
      "Epoch 3/50\n",
      "285/285 [==============================] - 0s 70us/step - loss: 0.6767 - acc: 0.3333\n",
      "Epoch 4/50\n",
      "285/285 [==============================] - 0s 70us/step - loss: 0.6528 - acc: 0.3684\n",
      "Epoch 5/50\n",
      "285/285 [==============================] - 0s 70us/step - loss: 0.6363 - acc: 0.3719\n",
      "Epoch 6/50\n",
      "285/285 [==============================] - 0s 56us/step - loss: 0.6212 - acc: 0.3614\n",
      "Epoch 7/50\n",
      "285/285 [==============================] - 0s 56us/step - loss: 0.6131 - acc: 0.3649\n",
      "Epoch 8/50\n",
      "285/285 [==============================] - 0s 56us/step - loss: 0.6080 - acc: 0.3965\n",
      "Epoch 9/50\n",
      "285/285 [==============================] - 0s 42us/step - loss: 0.5994 - acc: 0.4035\n",
      "Epoch 10/50\n",
      "285/285 [==============================] - 0s 56us/step - loss: 0.5939 - acc: 0.4000\n",
      "Epoch 11/50\n",
      "285/285 [==============================] - 0s 56us/step - loss: 0.5885 - acc: 0.4211\n",
      "Epoch 12/50\n",
      "285/285 [==============================] - 0s 56us/step - loss: 0.5807 - acc: 0.4351\n",
      "Epoch 13/50\n",
      "285/285 [==============================] - 0s 70us/step - loss: 0.5800 - acc: 0.4000\n",
      "Epoch 14/50\n",
      "285/285 [==============================] - 0s 56us/step - loss: 0.5706 - acc: 0.4386\n",
      "Epoch 15/50\n",
      "285/285 [==============================] - 0s 56us/step - loss: 0.5684 - acc: 0.4351\n",
      "Epoch 16/50\n",
      "285/285 [==============================] - 0s 56us/step - loss: 0.5641 - acc: 0.4386\n",
      "Epoch 17/50\n",
      "285/285 [==============================] - 0s 70us/step - loss: 0.5587 - acc: 0.4491\n",
      "Epoch 18/50\n",
      "285/285 [==============================] - 0s 56us/step - loss: 0.5565 - acc: 0.4456\n",
      "Epoch 19/50\n",
      "285/285 [==============================] - 0s 70us/step - loss: 0.5505 - acc: 0.4561\n",
      "Epoch 20/50\n",
      "285/285 [==============================] - 0s 70us/step - loss: 0.5477 - acc: 0.4632\n",
      "Epoch 21/50\n",
      "285/285 [==============================] - 0s 70us/step - loss: 0.5421 - acc: 0.4632\n",
      "Epoch 22/50\n",
      "285/285 [==============================] - 0s 84us/step - loss: 0.5394 - acc: 0.4632\n",
      "Epoch 23/50\n",
      "285/285 [==============================] - 0s 70us/step - loss: 0.5393 - acc: 0.4596\n",
      "Epoch 24/50\n",
      "285/285 [==============================] - 0s 70us/step - loss: 0.5361 - acc: 0.4596\n",
      "Epoch 25/50\n",
      "285/285 [==============================] - 0s 70us/step - loss: 0.5285 - acc: 0.4807\n",
      "Epoch 26/50\n",
      "285/285 [==============================] - 0s 56us/step - loss: 0.5282 - acc: 0.4877\n",
      "Epoch 27/50\n",
      "285/285 [==============================] - 0s 56us/step - loss: 0.5218 - acc: 0.4737\n",
      "Epoch 28/50\n",
      "285/285 [==============================] - 0s 70us/step - loss: 0.5198 - acc: 0.4842\n",
      "Epoch 29/50\n",
      "285/285 [==============================] - 0s 14us/step - loss: 0.5170 - acc: 0.4912\n",
      "Epoch 30/50\n",
      "285/285 [==============================] - 0s 120us/step - loss: 0.5129 - acc: 0.4947\n",
      "Epoch 31/50\n",
      "285/285 [==============================] - 0s 70us/step - loss: 0.5138 - acc: 0.4842\n",
      "Epoch 32/50\n",
      "285/285 [==============================] - 0s 84us/step - loss: 0.5086 - acc: 0.4982\n",
      "Epoch 33/50\n",
      "285/285 [==============================] - 0s 56us/step - loss: 0.5056 - acc: 0.4947\n",
      "Epoch 34/50\n",
      "285/285 [==============================] - 0s 70us/step - loss: 0.5039 - acc: 0.4877\n",
      "Epoch 35/50\n",
      "285/285 [==============================] - 0s 56us/step - loss: 0.5038 - acc: 0.5123\n",
      "Epoch 36/50\n",
      "285/285 [==============================] - 0s 56us/step - loss: 0.4972 - acc: 0.5053\n",
      "Epoch 37/50\n",
      "285/285 [==============================] - 0s 70us/step - loss: 0.4980 - acc: 0.4912\n",
      "Epoch 38/50\n",
      "285/285 [==============================] - 0s 56us/step - loss: 0.4935 - acc: 0.5228\n",
      "Epoch 39/50\n",
      "285/285 [==============================] - 0s 56us/step - loss: 0.4907 - acc: 0.5088\n",
      "Epoch 40/50\n",
      "285/285 [==============================] - 0s 84us/step - loss: 0.4885 - acc: 0.5228\n",
      "Epoch 41/50\n",
      "285/285 [==============================] - 0s 84us/step - loss: 0.4840 - acc: 0.5228\n",
      "Epoch 42/50\n",
      "285/285 [==============================] - 0s 56us/step - loss: 0.4819 - acc: 0.5123\n",
      "Epoch 43/50\n",
      "285/285 [==============================] - 0s 70us/step - loss: 0.4794 - acc: 0.5439\n",
      "Epoch 44/50\n",
      "285/285 [==============================] - 0s 56us/step - loss: 0.4767 - acc: 0.5368\n",
      "Epoch 45/50\n",
      "285/285 [==============================] - 0s 70us/step - loss: 0.4738 - acc: 0.5474\n",
      "Epoch 46/50\n",
      "285/285 [==============================] - 0s 56us/step - loss: 0.4724 - acc: 0.5439\n",
      "Epoch 47/50\n",
      "285/285 [==============================] - 0s 70us/step - loss: 0.4696 - acc: 0.5404\n",
      "Epoch 48/50\n",
      "285/285 [==============================] - 0s 70us/step - loss: 0.4679 - acc: 0.5474\n",
      "Epoch 49/50\n",
      "285/285 [==============================] - 0s 70us/step - loss: 0.4634 - acc: 0.5544\n",
      "Epoch 50/50\n",
      "285/285 [==============================] - 0s 70us/step - loss: 0.4621 - acc: 0.5509\n",
      "['loss', 'acc']\n",
      "95/95 [==============================] - 0s 3ms/step\n",
      "[0.7994415810233668, 0.34736841697441906]\n"
     ]
    }
   ],
   "source": [
    "import keras\n",
    "from keras.models import Sequential\n",
    "from keras.layers import Dense, Activation, Dropout\n",
    "\n",
    "def create_model(x_train,y_train):\n",
    "    \"\"\" Creates a Sequential model made out of Densely connected Neural Network layers. All parameters are configured as per specification for Q4\"\"\"\n",
    "\n",
    "    model = Sequential()\n",
    "    #Input Layer with 61 inputs corresponding to 61 features \n",
    "    model.add(Dense(20,input_dim = comps, activation = 'relu'))\n",
    "\n",
    "    model.add(Dense(100,activation = 'relu'))\n",
    "    #model.add(Dropout(0.1))\n",
    "    model.add(Dense(1,activation = 'sigmoid'))\n",
    "  \n",
    "    #Compiling the model with appropriate parameters\n",
    "    model.compile(loss = 'mse', optimizer ='adam',metrics = ['accuracy'])\n",
    "\n",
    "    result = model.fit(x_train,y_train,epochs = 50, batch_size = 50)\n",
    "\n",
    "    #Store the model, its average training accuracy and validation accuracy over 10 epochs\n",
    "\n",
    "    return model\n",
    "\n",
    "#Training neural network\n",
    "print(len(x_train))\n",
    "model = create_model(x_train,y_train)\n",
    "#pred_y = model.predict(x_test)\n",
    "print(model.metrics_names)\n",
    "score = model.evaluate(x_test,y_test)\n",
    "print(score)"
   ]
  },
  {
   "cell_type": "code",
   "execution_count": 9,
   "metadata": {},
   "outputs": [],
   "source": [
    "# #Training linear regression on the goal difference \n",
    "# from sklearn.linear_model import LinearRegression\n",
    "# import math\n",
    "# lr = LinearRegression()\n",
    "# lr.fit(x_train,y_train['Goal_Diff'])\n",
    "# y_pred = lr.predict(x_test[x_cols])\n",
    "# goals = [math.ceil(value) for value in y_pred]\n",
    "\n",
    "# pred_res = [1 if value > 0 else (-1 if value < 0 else 0) for value in goals]\n",
    "# z = accuracy_score(y_test['Result'],pred_res)\n",
    "# print(z)"
   ]
  },
  {
   "cell_type": "code",
   "execution_count": 92,
   "metadata": {},
   "outputs": [
    {
     "name": "stderr",
     "output_type": "stream",
     "text": [
      "D:\\Apps\\Anaconda3\\lib\\site-packages\\sklearn\\utils\\validation.py:752: DataConversionWarning: A column-vector y was passed when a 1d array was expected. Please change the shape of y to (n_samples, ), for example using ravel().\n",
      "  y = column_or_1d(y, warn=True)\n",
      "D:\\Apps\\Anaconda3\\lib\\site-packages\\sklearn\\svm\\base.py:196: FutureWarning: The default value of gamma will change from 'auto' to 'scale' in version 0.22 to account better for unscaled features. Set gamma explicitly to 'auto' or 'scale' to avoid this warning.\n",
      "  \"avoid this warning.\", FutureWarning)\n"
     ]
    },
    {
     "name": "stdout",
     "output_type": "stream",
     "text": [
      "0.3894736842105263\n",
      "[ 1 -1  1  1  1  1  1 -1 -1 -1 -1  1  1  0  1 -1  1  1  1  1 -1 -1 -1  1\n",
      "  1  1  0  1 -1  0 -1 -1  1  1 -1  1  1 -1  1 -1 -1 -1  1  1 -1 -1 -1 -1\n",
      " -1  1  1  1  0 -1  1 -1  1  1  1 -1  1  0  1 -1  0 -1  0  0  1  1 -1  1\n",
      "  1  1  1  0  0 -1  1 -1 -1  1 -1  1  1 -1 -1 -1 -1  1  0  1 -1  1  1]\n"
     ]
    }
   ],
   "source": [
    "#Train SVM\n",
    "from sklearn.svm import LinearSVC, SVC\n",
    "\n",
    "svm = SVC(C = 0.1, kernel = 'poly')\n",
    "svm.fit(x_train,y_train)\n",
    "# print(svm.coef_)\n",
    "# print(svm.intercept_)\n",
    "y_pred = svm.predict(x_test)\n",
    "z =accuracy_score(y_test,y_pred)\n",
    "print(z)\n",
    "print(y_pred)\n",
    "#mc = misclassification_report(full_data,y_pred,y_test)\n",
    "#print(mc[x_cols + y_cols + ['Predicted']])\n"
   ]
  },
  {
   "cell_type": "code",
   "execution_count": 84,
   "metadata": {},
   "outputs": [
    {
     "name": "stdout",
     "output_type": "stream",
     "text": [
      "0.38095238095238093\n"
     ]
    }
   ],
   "source": [
    "#Training decision tree\n",
    "from sklearn import tree\n",
    "from sklearn.tree import DecisionTreeClassifier\n",
    "from sklearn.metrics import accuracy_score\n",
    "from sklearn.metrics import confusion_matrix\n",
    "\n",
    "dt = DecisionTreeClassifier(criterion = 'entropy', max_depth = 222, random_state = 5)\n",
    "\n",
    "dt.fit(x_train,y_train)\n",
    "\n",
    "y_pred = dt.predict(x_test)\n",
    "\n",
    "#y_test_synth = [-1 if total < 0 else (1 if total > 0 else 0) for total in x_test['Total'].values] \n",
    "\n",
    "a = accuracy_score(y_test,y_pred)\n",
    "print(a)\n",
    "# print(te_y.values)\n",
    "#mc = misclassification_report(full_data, y_pred,y_test)\n",
    "#print(mc)"
   ]
  },
  {
   "cell_type": "code",
   "execution_count": null,
   "metadata": {},
   "outputs": [],
   "source": []
  },
  {
   "cell_type": "code",
   "execution_count": null,
   "metadata": {},
   "outputs": [],
   "source": []
  },
  {
   "cell_type": "code",
   "execution_count": null,
   "metadata": {},
   "outputs": [],
   "source": []
  },
  {
   "cell_type": "code",
   "execution_count": null,
   "metadata": {},
   "outputs": [],
   "source": []
  }
 ],
 "metadata": {
  "kernelspec": {
   "display_name": "Python 3",
   "language": "python",
   "name": "python3"
  },
  "language_info": {
   "codemirror_mode": {
    "name": "ipython",
    "version": 3
   },
   "file_extension": ".py",
   "mimetype": "text/x-python",
   "name": "python",
   "nbconvert_exporter": "python",
   "pygments_lexer": "ipython3",
   "version": "3.6.4"
  }
 },
 "nbformat": 4,
 "nbformat_minor": 2
}
