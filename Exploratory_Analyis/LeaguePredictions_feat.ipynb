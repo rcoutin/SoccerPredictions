{
 "cells": [
  {
   "cell_type": "code",
   "execution_count": 52,
   "metadata": {},
   "outputs": [],
   "source": [
    "import sqlite3 as db \n",
    "import pandas as pd\n",
    "conn = db.connect('soccer/database.sqlite')\n",
    "\n",
    "from sklearn.preprocessing import MinMaxScaler\n",
    "\n",
    "home_adv_factor = 1\n",
    "# #'attacking_work_rate', 'defensive_work_rate'\n",
    "# attr_cols = ['overall_rating',\n",
    "#        'potential', 'crossing', 'finishing', 'heading_accuracy',\n",
    "#        'short_passing', 'volleys', 'dribbling', 'curve', 'free_kick_accuracy',\n",
    "#        'long_passing', 'ball_control', 'acceleration', 'sprint_speed',\n",
    "#        'agility', 'reactions', 'balance', 'shot_power', 'jumping', 'stamina',\n",
    "#        'strength', 'long_shots', 'aggression', 'interceptions', 'positioning',\n",
    "#        'vision', 'penalties', 'marking', 'standing_tackle', 'sliding_tackle',\n",
    "#        'gk_diving', 'gk_handling', 'gk_kicking', 'gk_positioning',\n",
    "#        'gk_reflexes']\n",
    "\n",
    "attr_cols = ['crossing', 'finishing', 'heading_accuracy','short_passing', 'volleys', 'dribbling', 'free_kick_accuracy',\n",
    "       'long_passing', 'ball_control', 'acceleration', 'sprint_speed',\n",
    "       'agility', 'reactions', 'balance', 'shot_power', 'jumping', 'stamina',\n",
    "       'strength', 'long_shots', 'aggression', 'interceptions', 'positioning',\n",
    "       'vision', 'penalties', 'marking', 'standing_tackle', 'sliding_tackle',\n",
    "       'gk_positioning','gk_reflexes']\n",
    "\n",
    "cols = ['Position']\n",
    "        "
   ]
  },
  {
   "cell_type": "code",
   "execution_count": 53,
   "metadata": {},
   "outputs": [],
   "source": [
    "norm_team_name = {}\n",
    "norm_team_name['Man United'] = 'Manchester United'\n",
    "norm_team_name['Man City'] = 'Manchester City'\n",
    "norm_team_name['QPR'] = 'Queens Park Rangers'\n",
    "norm_team_name['West Brom'] = 'West Bromwich Albion'\n",
    "norm_team_name['West Ham'] = 'West Ham United'\n",
    "norm_team_name['Bournemouth'] = 'AFC Bournemouth'\n",
    "\n",
    "year_data = {'2014': 'statbunker-football-stats/Player Stats 2014-15.csv' , \n",
    "             '2015': 'statbunker-football-stats/Player Stats 2015-16.csv' ,\n",
    "             '2016': 'statbunker-football-stats/Player Stats 2016-17.csv'}\n"
   ]
  },
  {
   "cell_type": "code",
   "execution_count": 54,
   "metadata": {},
   "outputs": [],
   "source": [
    "def get_all_players_info(year):\n",
    "    query_str = \"\"\"select  p.player_name,pa2.* from player_attributes pa2, player p where p.player_api_id = pa2.player_api_id and\n",
    "    (pa2.player_api_id, pa2.date) in (\n",
    "    select z.player_api_id, z.date from (\n",
    "    select pa.player_api_id, pa.date, min(abs(strftime('%%s',pa.date) - strftime('%%s','%(year)s-09-01 00:00:00'))) from player_attributes pa, player p \n",
    "                                    where pa.player_api_id = p.player_api_id\n",
    "                                    and strftime('%%s',pa.date) > strftime('%%s','2014-05-14 00:00:00') \n",
    "                                    and pa.date like '%(year)s%%'\n",
    "                                    group by pa.player_api_id ) z )\"\"\"%{'year':year}\n",
    "    \n",
    "    all_player_attrs = pd.read_sql_query(query_str,conn)\n",
    "    return all_player_attrs\n"
   ]
  },
  {
   "cell_type": "code",
   "execution_count": 55,
   "metadata": {},
   "outputs": [],
   "source": [
    "def norm_team_names(team_info):\n",
    "    \n",
    "    for key,value in norm_team_name.items():\n",
    "        team_info.loc[lambda df: df['HomeTeam'] == key, 'HomeTeam'] = value\n",
    "        team_info.loc[lambda df: df['AwayTeam'] == key, 'AwayTeam'] = value\n",
    "    \n",
    "    return team_info"
   ]
  },
  {
   "cell_type": "code",
   "execution_count": 56,
   "metadata": {},
   "outputs": [],
   "source": [
    "def get_full_data(year):\n",
    "    ptm = pd.read_csv(year_data[year] , dtype = {'overall_rating':float} )\n",
    "    ptm = ptm[(ptm['Type Of Goal'] == 'Player') & (ptm['League'] == 'Premier League')]\n",
    "    \n",
    "    all_players_info  = get_all_players_info(year)\n",
    "        \n",
    "    joined = all_players_info.set_index('player_name').join(ptm.set_index('Player'), how='inner')\n",
    "    return joined\n"
   ]
  },
  {
   "cell_type": "code",
   "execution_count": 57,
   "metadata": {},
   "outputs": [],
   "source": [
    "def create_team(data, name):\n",
    "    \n",
    "    full_team = data[data['Team'].str.startswith(name)]\n",
    "    return full_team\n"
   ]
  },
  {
   "cell_type": "code",
   "execution_count": 58,
   "metadata": {},
   "outputs": [],
   "source": [
    "def agg_attrs_all(team):\n",
    "    \n",
    "    agg_attrs = {}\n",
    "    team_atts = team[attr_cols]\n",
    "    for key in team_atts.keys():\n",
    "        if key.startswith('gk'):\n",
    "            agg_attrs[key] = team.sort_values(by = [key], ascending = False)[key].head(2).mean()\n",
    "        else:\n",
    "            agg_attrs[key] = team.sort_values(by = [key], ascending = False)[key].head(4).mean()\n",
    "        \n",
    "    agg_attrs_df = pd.DataFrame([agg_attrs]).astype(float)\n",
    "    return agg_attrs_df\n",
    "\n",
    "\n",
    "def agg_attributes(team):\n",
    "    \n",
    "    team.loc[lambda df: df['Position'] == 'Goalkeeper', 'Position'] = 'Defender'\n",
    "    \n",
    "    g = team.groupby(['Position'] , as_index=False).mean()\n",
    "    return g.transpose()"
   ]
  },
  {
   "cell_type": "code",
   "execution_count": 59,
   "metadata": {},
   "outputs": [],
   "source": [
    "def get_fixtures(year):\n",
    "    f = pd.read_csv('epl-results-19932018/EPL_Set.csv')\n",
    "    f = norm_team_names(f)\n",
    "    \n",
    "    return f[f['Season'].str.startswith(year)]\n",
    "    \n"
   ]
  },
  {
   "cell_type": "code",
   "execution_count": 60,
   "metadata": {},
   "outputs": [],
   "source": [
    "def combine_metrics_4(i,row,home_attrs,away_attrs,team_form):\n",
    "   \n",
    "    def update_form(home_team_name, away_team_name, result):\n",
    "        if result == 1:\n",
    "            team_form[home_team_name] += 2\n",
    "            team_form[away_team_name] -= 2\n",
    "        elif result == 3:\n",
    "            team_form[home_team_name] -= 3\n",
    "            team_form[away_team_name] += 3\n",
    "        else:\n",
    "            team_form[home_team_name] -= 1\n",
    "            team_form[away_team_name] += 1\n",
    "        \n",
    "    norm_attrs = {}\n",
    "    \n",
    "    for key in home_attrs.keys():\n",
    "        norm_attrs['h_'+key] = float(home_attrs[key])\n",
    "        norm_attrs['a_'+key] = float(away_attrs[key])\n",
    "    \n",
    "    norm_attrs['Home_Team'] = row['HomeTeam']\n",
    "    norm_attrs['Away_Team'] = row['AwayTeam']\n",
    "    norm_attrs['Result'] = 1 if row['FTHG'] - row['FTAG'] > 0  else (3 if row['FTHG'] - row['FTAG'] < 0 else 2)\n",
    "    norm_attrs['Game_Week'] = (i//10) + 1\n",
    "    norm_attrs['FTHG'] = row['FTHG']\n",
    "    norm_attrs['FTAG'] = row['FTAG']\n",
    "    norm_attrs['h_form'] = team_form[row['HomeTeam']]\n",
    "    norm_attrs['a_form'] = team_form[row['AwayTeam']]\n",
    "                                        \n",
    "    update_form(row['HomeTeam'],row['AwayTeam'],norm_attrs['Result'])\n",
    "    \n",
    "    norm_df = pd.DataFrame(norm_attrs, index = [str(i)])\n",
    "    \n",
    "    return norm_df "
   ]
  },
  {
   "cell_type": "code",
   "execution_count": 61,
   "metadata": {},
   "outputs": [],
   "source": [
    "def get_all_team_data(year):\n",
    "    \n",
    "    data = {}\n",
    "\n",
    "    joined_data = get_full_data(year)\n",
    "\n",
    "    f = get_fixtures(year)\n",
    "    teams = f['HomeTeam'].unique() #get all unique teams\n",
    "\n",
    "    for team in teams:\n",
    "        team_data = create_team(joined_data, team)\n",
    "        team_attr = agg_attrs_all(team_data)\n",
    "        data[team] = (team_data, team_attr)\n",
    "    return data"
   ]
  },
  {
   "cell_type": "code",
   "execution_count": 62,
   "metadata": {},
   "outputs": [],
   "source": [
    "\n",
    "def construct_training_data(years):\n",
    "    \n",
    "    full_res_df = pd.DataFrame()\n",
    "    \n",
    "    for year in years:\n",
    "        \n",
    "        team_store = get_all_team_data(year)\n",
    "        i = 0\n",
    "        res_df = pd.DataFrame()\n",
    "        f = get_fixtures(year)\n",
    "    \n",
    "        team_form = {name:60 for name in f['HomeTeam'].unique()}\n",
    "        for key,row in f.iterrows():\n",
    "            home = row['HomeTeam']\n",
    "            away = row['AwayTeam']\n",
    "\n",
    "            home_attrs = team_store[home][1]\n",
    "            away_attrs = team_store[away][1]\n",
    "\n",
    "            res_df = res_df.append(combine_metrics_4(i,row,home_attrs,away_attrs,team_form))\n",
    "\n",
    "            i = i + 1\n",
    "        \n",
    "        full_res_df = full_res_df.append(res_df)\n",
    "\n",
    "    return full_res_df"
   ]
  },
  {
   "cell_type": "code",
   "execution_count": 63,
   "metadata": {},
   "outputs": [],
   "source": [
    "tr_data = construct_training_data(['2014','2015','2016'])\n",
    "tr_data['h_form'] = tr_data['h_form']/100\n",
    "tr_data['a_form'] = tr_data['a_form']/100"
   ]
  },
  {
   "cell_type": "code",
   "execution_count": 64,
   "metadata": {},
   "outputs": [],
   "source": [
    "tr_data.to_csv('Full_Data_feats_ha.csv')"
   ]
  },
  {
   "cell_type": "code",
   "execution_count": null,
   "metadata": {},
   "outputs": [],
   "source": []
  }
 ],
 "metadata": {
  "kernelspec": {
   "display_name": "Python 3",
   "language": "python",
   "name": "python3"
  },
  "language_info": {
   "codemirror_mode": {
    "name": "ipython",
    "version": 3
   },
   "file_extension": ".py",
   "mimetype": "text/x-python",
   "name": "python",
   "nbconvert_exporter": "python",
   "pygments_lexer": "ipython3",
   "version": "3.6.4"
  }
 },
 "nbformat": 4,
 "nbformat_minor": 2
}
