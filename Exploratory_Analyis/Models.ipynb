{
 "cells": [
  {
   "cell_type": "code",
   "execution_count": null,
   "metadata": {},
   "outputs": [],
   "source": [
    "import pandas as pd\n",
    "from sklearn.model_selection import train_test_split\n",
    "from sklearn.metrics import accuracy_score, mean_squared_error\n",
    "\n",
    "\n",
    "#Finding misclassifications\n",
    "\n",
    "def misclassification_report(df, y_pred, y_test ):\n",
    "    \n",
    "    misclassified = pd.DataFrame()\n",
    "    \n",
    "    for count,value  in enumerate(y_test.iterrows()):\n",
    "        \n",
    "        if y_pred[count]!=int(value[1]['Result']):\n",
    "            new_row = df.iloc[value[0]]\n",
    "            new_row['Predicted'] = y_pred[count]\n",
    "            misclassified = misclassified.append(new_row)\n",
    "    return misclassified\n"
   ]
  },
  {
   "cell_type": "code",
   "execution_count": null,
   "metadata": {},
   "outputs": [],
   "source": [
    "x_cols = ['Away_Att','Away_Def','Away_Mid','Home_Att','Home_Mid','Home_Def','Home_Form','Away_Form']\n",
    "x_diff_cols = ['Att_Score','Def_Score','Mid_Score']\n",
    "y_cols = ['Result']\n",
    "y_regression_cols = ['Goal_Diff']\n",
    "\n",
    "\n",
    "\n",
    "\n",
    "full_data = pd.read_csv('Full_Data_Form.csv' )\n",
    "full_data['Goal_Diff'] = full_data['FTHG'] - full_data['FTAG']\n",
    "print(full_data)"
   ]
  },
  {
   "cell_type": "code",
   "execution_count": null,
   "metadata": {},
   "outputs": [],
   "source": [
    "x_all = full_data[x_cols]\n",
    "y_all = full_data[y_regression_cols + ['Result']]\n",
    "print(y_all)"
   ]
  },
  {
   "cell_type": "code",
   "execution_count": 52,
   "metadata": {},
   "outputs": [],
   "source": [
    "x_train,x_test,y_train,y_test = train_test_split(x_all, y_all, test_size = 0.33, random_state = 42)\n"
   ]
  },
  {
   "cell_type": "code",
   "execution_count": 54,
   "metadata": {},
   "outputs": [
    {
     "name": "stdout",
     "output_type": "stream",
     "text": [
      "0.4509283819628647\n"
     ]
    }
   ],
   "source": [
    "#Training linear regression on the goal difference \n",
    "from sklearn.linear_model import LinearRegression\n",
    "import math\n",
    "lr = LinearRegression()\n",
    "lr.fit(x_train,y_train['Goal_Diff'])\n",
    "y_pred = lr.predict(x_test[x_cols])\n",
    "goals = [math.ceil(value) for value in y_pred]\n",
    "\n",
    "pred_res = [1 if value > 0 else (-1 if value < 0 else 0) for value in goals]\n",
    "z = accuracy_score(y_test['Result'],pred_res)\n",
    "print(z)"
   ]
  },
  {
   "cell_type": "code",
   "execution_count": null,
   "metadata": {},
   "outputs": [],
   "source": [
    "#Train SVM\n",
    "from sklearn.svm import LinearSVC, SVC\n",
    "\n",
    "svm = SVC(C = 0.1, kernel = 'linear')\n",
    "svm.fit(x_train,y_train)\n",
    "# print(svm.coef_)\n",
    "# print(svm.intercept_)\n",
    "y_pred = svm.predict(x_test)\n",
    "z =accuracy_score(y_test,y_pred)\n",
    "\n",
    "#mc = misclassification_report(full_data,y_pred,y_test)\n",
    "#print(mc[x_cols + y_cols + ['Predicted']])\n"
   ]
  },
  {
   "cell_type": "code",
   "execution_count": null,
   "metadata": {},
   "outputs": [],
   "source": [
    "#Training decision tree\n",
    "from sklearn import tree\n",
    "from sklearn.tree import DecisionTreeClassifier\n",
    "from sklearn.metrics import accuracy_score\n",
    "from sklearn.metrics import confusion_matrix\n",
    "\n",
    "dt = DecisionTreeClassifier(criterion = 'entropy', max_depth = 3, random_state = 5)\n",
    "\n",
    "dt.fit(x_train,y_train)\n",
    "\n",
    "y_pred = dt.predict(x_test)\n",
    "\n",
    "y_test_synth = [-1 if total < 0 else (1 if total > 0 else 0) for total in x_test['Total'].values] \n",
    "\n",
    "a = accuracy_score(y_test_synth,y_pred)\n",
    "print(a)\n",
    "# print(te_y.values)\n",
    "mc = misclassification_report(full_data, y_pred,y_test)\n",
    "print(mc)"
   ]
  },
  {
   "cell_type": "code",
   "execution_count": null,
   "metadata": {},
   "outputs": [],
   "source": []
  },
  {
   "cell_type": "code",
   "execution_count": null,
   "metadata": {},
   "outputs": [],
   "source": []
  },
  {
   "cell_type": "code",
   "execution_count": null,
   "metadata": {},
   "outputs": [],
   "source": []
  },
  {
   "cell_type": "code",
   "execution_count": null,
   "metadata": {},
   "outputs": [],
   "source": []
  }
 ],
 "metadata": {
  "kernelspec": {
   "display_name": "Python 3",
   "language": "python",
   "name": "python3"
  },
  "language_info": {
   "codemirror_mode": {
    "name": "ipython",
    "version": 3
   },
   "file_extension": ".py",
   "mimetype": "text/x-python",
   "name": "python",
   "nbconvert_exporter": "python",
   "pygments_lexer": "ipython3",
   "version": "3.6.4"
  }
 },
 "nbformat": 4,
 "nbformat_minor": 2
}
