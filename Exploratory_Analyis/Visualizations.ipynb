{
 "cells": [
  {
   "cell_type": "code",
   "execution_count": null,
   "metadata": {},
   "outputs": [],
   "source": [
    "import pandas as pd\n",
    "import matplotlib as plt\n",
    "import seaborn as sn"
   ]
  },
  {
   "cell_type": "code",
   "execution_count": null,
   "metadata": {},
   "outputs": [],
   "source": [
    "tr_data = pd.read_csv('Full_Data.csv')"
   ]
  },
  {
   "cell_type": "code",
   "execution_count": null,
   "metadata": {},
   "outputs": [],
   "source": [
    "\n",
    "attribute = 'Total'\n",
    "\n",
    "strong_home_winners = tr_data[(tr_data['Total'] > 0) & (tr_data['Result'] == 1)]\n",
    "\n",
    "strong_home_losers= tr_data[(tr_data['Total'] > 0) & (tr_data['Result'] == -1)]\n",
    "\n",
    "strong_home_draw = tr_data[(tr_data['Total'] > 0) &  (tr_data['Result'] == 0)]\n",
    "\n",
    "\n",
    "strong_away_winners = tr_data[(tr_data['Total'] < 0) & (tr_data['Result'] == 1)]\n",
    "\n",
    "strong_away_losers = tr_data[(tr_data['Total'] < 0) & (tr_data['Result'] == -1)]\n",
    "\n",
    "strong_away_draw = tr_data[(tr_data['Total'] < 0) &  (tr_data['Result'] == 0)]\n",
    "\n"
   ]
  },
  {
   "cell_type": "code",
   "execution_count": null,
   "metadata": {},
   "outputs": [],
   "source": [
    "disp_attrs = {'hist': True, 'kde': True, 'norm_hist':True, \"color\" : 'black', 'rug':True}\n",
    "\n",
    "\n",
    "f, axes = plt.subplots(3, 2, figsize=(13, 7), sharex=False)\n",
    "\n",
    "sns.distplot(strong_home_winners[attribute],**disp_attrs, ax = axes[0,0] )\n",
    "axes[0,0].set_title( 'Games where strong home team won - %s of 1140 '%str(len(strong_home_winners['Att_Score'])))\n",
    "\n",
    "sns.distplot(strong_home_losers[attribute],**disp_attrs, ax = axes[1,0])\n",
    "axes[1,0].set_title( 'Distribution where strong home team lost - %s of 1140'%str(len(strong_home_losers['Att_Score'])))\n",
    "\n",
    "sns.distplot(strong_home_draw[attribute],**disp_attrs, ax = axes[2,0])\n",
    "axes[2,0].set_title( 'Distribution where strong home team drew - %s of 1140'%str(len(strong_home_draw['Att_Score'])))\n",
    "\n",
    "sns.distplot(strong_away_winners[attribute],**disp_attrs,ax = axes[0,1] )\n",
    "axes[0,1].set_title( 'Games where strong away teams won - %s of 1140'%str(len(strong_away_winners['Att_Score'])))\n",
    "\n",
    "sns.distplot(strong_away_losers[attribute],**disp_attrs, ax = axes[1,1])\n",
    "axes[1,1].set_title( 'Distribution where strong away teams lost - %s of 1140'%str(len(strong_away_losers['Att_Score'])))\n",
    "\n",
    "sns.distplot(strong_away_draw[attribute],**disp_attrs, ax = axes[2,1])\n",
    "axes[2,1].set_title( 'Distribution where strong away team drew - %s of 1140'%str(len(strong_away_draw['Att_Score'])))\n",
    "\n",
    "\n",
    "plt.tight_layout()"
   ]
  },
  {
   "cell_type": "code",
   "execution_count": null,
   "metadata": {},
   "outputs": [],
   "source": [
    "\n",
    "for key, row in tr_data.iterrows():\n",
    "    \n",
    "    if (row['Total'] > 0 and row['Result'] == 1) or (row['Total'] < 0 and row['Result'] == -1):\n",
    "        color = 'bx'\n",
    "        \n",
    "    elif row['Result'] == 0:\n",
    "        color = ''\n",
    "    else:\n",
    "        color = ''\n",
    " \n",
    "    plt.plot(key, row['Total'], color)\n",
    "\n",
    "plt.show()\n",
    "\n"
   ]
  },
  {
   "cell_type": "code",
   "execution_count": null,
   "metadata": {},
   "outputs": [],
   "source": [
    "\n",
    "# for key, row in tr_data.iterrows():\n",
    "    \n",
    "#     if (row['Total'] > 0 and row['Result'] == 1) or (row['Total'] < 0 and row['Result'] == -1):\n",
    "#         color = 'bx'\n",
    "        \n",
    "#     elif row['Result'] == 0:\n",
    "#         color = ''\n",
    "#     else:\n",
    "#         color = ''\n",
    " \n",
    "#     plt.plot(key, row['Total'], color)\n",
    "\n",
    "# plt.show()\n",
    "\n",
    "\n",
    "# # attr = ['Att_Score','Def_Score','Mid_Score']\n",
    "\n",
    "\n",
    "# # for i,a in enumerate(attr):\n",
    "# #     print(\"Based on attribute %s\"%a)\n",
    "# #     strong_winners_home = tr_data[(tr_data[a] > 0) & (tr_data['Result'] == 1)]\n",
    "# #     strong_winners_away = tr_data[(tr_data[a] < 0) & (tr_data['Result'] == -1)]\n",
    "\n",
    "    \n",
    "# #     plt.plot(i,tr_data['Att_Score'],'bo',label = 'Test')\n",
    "# #     strong_draw_home = tr_data[(tr_data[a] > 0) & (tr_data['Result'] == 0)]\n",
    "# #     strong_draw_away = tr_data[(tr_data[a] < 0) & (tr_data['Result'] == 0)]\n",
    "    \n",
    "# #     weak_winner_home = tr_data[(tr_data[a] > 0) & (tr_data['Result'] == -1)]\n",
    "# #     weak_winner_away = tr_data[(tr_data[a] < 0) & (tr_data['Result'] == 1)]\n",
    " \n",
    "# #     print(len(strong_winners_away) + len(strong_winners_home) )\n",
    "\n",
    "# #     print(strong_winners_home)\n",
    "# #     print(len(strong_draw_home) + len(strong_draw_away))\n",
    "    \n",
    "# #     print(len(weak_winner_away) + len(weak_winner_home) )\n",
    "    \n",
    "    \n",
    "# # plt.show()\n",
    "\n",
    "\n"
   ]
  }
 ],
 "metadata": {
  "kernelspec": {
   "display_name": "Python 3",
   "language": "python",
   "name": "python3"
  },
  "language_info": {
   "codemirror_mode": {
    "name": "ipython",
    "version": 3
   },
   "file_extension": ".py",
   "mimetype": "text/x-python",
   "name": "python",
   "nbconvert_exporter": "python",
   "pygments_lexer": "ipython3",
   "version": "3.6.4"
  }
 },
 "nbformat": 4,
 "nbformat_minor": 2
}
