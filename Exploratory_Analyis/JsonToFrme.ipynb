{
 "cells": [
  {
   "cell_type": "code",
   "execution_count": 3,
   "metadata": {},
   "outputs": [],
   "source": [
    "import json \n",
    "from pandas.io.json import json_normalize #package for flattening json in pandas df\n",
    "import pandas as pd\n",
    "\n",
    "#filenames = {'2014': 'player_pos_14.json', '2015': 'player_pos_15.json' , '2016': 'player_pos_16.json'}\n",
    "\n",
    "file_name = 'p14_18.json'\n",
    "years = ['2014','2015','2016','2017']"
   ]
  },
  {
   "cell_type": "code",
   "execution_count": 4,
   "metadata": {},
   "outputs": [],
   "source": [
    "\n",
    "full = pd.DataFrame()\n",
    "\n",
    "    \n",
    "with open(file_name,'r') as f:\n",
    "    data = json.load(f)\n",
    "\n",
    "for year in years:\n",
    "    data_year = data[year]\n",
    "    yearly = pd.DataFrame()\n",
    "    for key,value in data_year.items():\n",
    "        df = json_normalize( data_year[key])\n",
    "        dft = df.transpose()\n",
    "        dft['Team'] = key\n",
    "        yearly = yearly.append(dft)\n",
    "    yearly['Year'] = year\n",
    "    full = full.append(yearly)\n",
    "    \n",
    "full.to_csv('p14_18.csv')"
   ]
  },
  {
   "cell_type": "code",
   "execution_count": null,
   "metadata": {},
   "outputs": [],
   "source": []
  },
  {
   "cell_type": "code",
   "execution_count": null,
   "metadata": {},
   "outputs": [],
   "source": []
  }
 ],
 "metadata": {
  "kernelspec": {
   "display_name": "Python 3",
   "language": "python",
   "name": "python3"
  },
  "language_info": {
   "codemirror_mode": {
    "name": "ipython",
    "version": 3
   },
   "file_extension": ".py",
   "mimetype": "text/x-python",
   "name": "python",
   "nbconvert_exporter": "python",
   "pygments_lexer": "ipython3",
   "version": "3.6.4"
  }
 },
 "nbformat": 4,
 "nbformat_minor": 2
}
