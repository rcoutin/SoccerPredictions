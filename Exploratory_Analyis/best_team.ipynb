{
 "cells": [
  {
   "cell_type": "code",
   "execution_count": 16,
   "metadata": {},
   "outputs": [],
   "source": [
    "import pandas as pd"
   ]
  },
  {
   "cell_type": "code",
   "execution_count": 17,
   "metadata": {},
   "outputs": [],
   "source": [
    "def get_player_attribute_data(year):\n",
    "    import sqlite3 as db \n",
    "    conn = db.connect('soccer/database.sqlite')\n",
    "    query_str = \"\"\"select  p.player_name,pa2.* from player_attributes pa2, player p where p.player_api_id = pa2.player_api_id and\n",
    "    (pa2.player_api_id, pa2.date) in (\n",
    "    select z.player_api_id, z.date from (\n",
    "    select pa.player_api_id, pa.date, min(abs(strftime('%%s',pa.date) - strftime('%%s','%(year)s-09-01 00:00:00'))) from player_attributes pa, player p \n",
    "                                    where pa.player_api_id = p.player_api_id\n",
    "                                    and strftime('%%s',pa.date) > strftime('%%s','2014-05-14 00:00:00') \n",
    "                                    and pa.date like '%(year)s%%'\n",
    "                                    group by pa.player_api_id ) z )\"\"\"%{'year':year}\n",
    "    \n",
    "    all_player_attrs = pd.read_sql_query(query_str,conn)\n",
    "    return all_player_attrs\n"
   ]
  },
  {
   "cell_type": "code",
   "execution_count": 84,
   "metadata": {},
   "outputs": [],
   "source": [
    "\n",
    "def get_player_attr_pos(year):\n",
    "    \"\"\"JOIN player attribute data with player position data based on PLAYER_NAME \"\"\"\n",
    "    player_position_data = pd.read_csv('player_pos_year.csv', dtype = {'overall_rating':float} )\n",
    "    player_position_data = player_position_data[player_position_data['Year'] == (int(year) + 1)]\n",
    "    \n",
    "    player_attribute_data  = get_player_attribute_data(year)\n",
    "        \n",
    "    joined = player_attribute_data.merge(player_position_data,on = \"player_name\" , how='inner')\n",
    "    return joined"
   ]
  },
  {
   "cell_type": "code",
   "execution_count": null,
   "metadata": {},
   "outputs": [],
   "source": []
  },
  {
   "cell_type": "code",
   "execution_count": 85,
   "metadata": {},
   "outputs": [],
   "source": [
    "\n",
    "def create_best_team(full_team):\n",
    "    pos_index = {0:[0],1:[1,2],2:[3],3:[4,6], 4:[5],5:[7],6:[8],7:[9],8:[10]}\n",
    "\n",
    "    field_pos = {0:[['LB', 'LWB'],1], 1:[['CB'],2], 2:[['RB', 'RWB'],1], 3:[['CM'],2], 4: [['CAM', 'CDM'],1],5: [['LM', 'LW'],1], 6: [['CF', 'ST'],1], 7:[['RM', 'RW'],1], 8:[['GK'],1]}    \n",
    "\n",
    "    alt_pos = {3: ['CAM','CDM', 'LM', 'RM'], 4 : ['CM'], 5: ['RM','RW','CF','ST'], 6 : ['RM','LM'], 7 : ['LM','LW','ST','CF']}\n",
    "\n",
    "    iter_count = 0\n",
    "    df_start = pd.DataFrame()\n",
    "    #full_team = data[data['Team'].str.startswith(name)]\n",
    "    full_team_size = len(full_team)\n",
    "    temp_team = full_team.sort_values(by = ['player_name','overall_rating']).drop_duplicates(subset = ['player_name'], keep = 'first').copy()\n",
    "    \n",
    "    find_alternate = False\n",
    "    \n",
    "    while field_pos:\n",
    "        if iter_count == full_team_size:\n",
    "            return None\n",
    "        for key in list(field_pos.keys()):\n",
    "\n",
    "            (positions, count) = field_pos[key]\n",
    "            \n",
    "            if find_alternate:\n",
    "                positions = alt_pos[key]\n",
    "                pos_players = temp_team[temp_team['Position'].isin(positions)].sort_values(by = ['overall_rating'], ascending = False).head(count)\n",
    "            else:\n",
    "                pos_players = temp_team[temp_team['Position'].isin(positions)].sort_values(by = ['overall_rating'], ascending = False).head(count)\n",
    "                \n",
    "            if len(pos_players) > 0:\n",
    "                \n",
    "                shirt_numbers = pos_index[key][:len(pos_players)]\n",
    "                \n",
    "                pos_players['pos_index'] = shirt_numbers\n",
    "                pos_index[key] = pos_index[key][len(pos_players):]\n",
    "                df_start = df_start.append(pos_players)\n",
    "                temp_team = temp_team[~temp_team['player_name'].isin(pos_players['player_name'])]\n",
    "\n",
    "                if len(pos_players)!=count:\n",
    "                    missing_count = count - len(pos_players)\n",
    "                    field_pos[key][1] = missing_count\n",
    "                else:\n",
    "                    del field_pos[key]\n",
    "        find_alternate = True\n",
    "        iter_count +=1\n",
    "        \n",
    "    return df_start"
   ]
  },
  {
   "cell_type": "code",
   "execution_count": 103,
   "metadata": {},
   "outputs": [
    {
     "name": "stdout",
     "output_type": "stream",
     "text": [
      "pos_index         0     1     2     3     4     5     7     8     9     10  \\\n",
      "overall_rating  73.0  78.0  73.0  74.0  76.0  76.0  81.0  78.0  81.0  78.0   \n",
      "\n",
      "pos_index         6   \n",
      "overall_rating  80.0  \n"
     ]
    }
   ],
   "source": [
    "data = get_player_attr_pos('2015')\n",
    "# all_teams = data['Team'].unique()\n",
    "\n",
    "# for team in all_teams:\n",
    "#     full = data[data['Team'] == team]\n",
    "#     start = create_best_team(full)\n",
    "#     print(start[['player_name','Position','overall_rating','pos_index']])\n",
    "#     if start is None:\n",
    "#         print(\"ERROR==========\")\n",
    "\n",
    "\n",
    "west_ham = data[data['Team'].str.startswith('West Ham United')]\n",
    "\n",
    "starting = create_best_team(west_ham)\n",
    "print(starting[['overall_rating','pos_index']].set_index(['pos_index']).transpose())"
   ]
  },
  {
   "cell_type": "code",
   "execution_count": null,
   "metadata": {},
   "outputs": [],
   "source": [
    "def get_all_team_data(year):\n",
    "    \n",
    "    data = {}\n",
    "\n",
    "    joined_data = get_full_data(year)\n",
    "\n",
    "    f = get_fixtures(year)\n",
    "    teams = f['HomeTeam'].unique() #get all unique teams\n",
    "\n",
    "    for team in teams:\n",
    "        team_data = create_team(joined_data, team)\n",
    "        team_attr = agg_attrs_all(team_data)\n",
    "        data[team] = (team_data, team_attr)\n",
    "    return data"
   ]
  }
 ],
 "metadata": {
  "kernelspec": {
   "display_name": "Python 3",
   "language": "python",
   "name": "python3"
  },
  "language_info": {
   "codemirror_mode": {
    "name": "ipython",
    "version": 3
   },
   "file_extension": ".py",
   "mimetype": "text/x-python",
   "name": "python",
   "nbconvert_exporter": "python",
   "pygments_lexer": "ipython3",
   "version": "3.6.4"
  }
 },
 "nbformat": 4,
 "nbformat_minor": 2
}
