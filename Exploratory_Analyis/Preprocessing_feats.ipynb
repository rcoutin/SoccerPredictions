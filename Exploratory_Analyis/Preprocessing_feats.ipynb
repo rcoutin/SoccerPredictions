{
 "cells": [
  {
   "cell_type": "code",
   "execution_count": 13,
   "metadata": {},
   "outputs": [],
   "source": [
    "import pandas as pd\n",
    "pd.set_option('display.height', 1000)\n",
    "pd.set_option('display.max_rows', 500)\n",
    "pd.set_option('display.max_columns', 500)\n",
    "pd.set_option('display.width', 1000)\n",
    "from sklearn.model_selection import train_test_split\n",
    "\n",
    "# #'attacking_work_rate', 'defensive_work_rate'\n",
    "# attr_cols = ['overall_rating',\n",
    "#        'potential', 'crossing', 'finishing', 'heading_accuracy',\n",
    "#        'short_passing', 'volleys', 'dribbling', 'curve', 'free_kick_accuracy',\n",
    "#        'long_passing', 'ball_control', 'acceleration', 'sprint_speed',\n",
    "#        'agility', 'reactions', 'balance', 'shot_power', 'jumping', 'stamina',\n",
    "#        'strength', 'long_shots', 'aggression', 'interceptions', 'positioning',\n",
    "#        'vision', 'penalties', 'marking', 'standing_tackle', 'sliding_tackle',\n",
    "#        'gk_diving', 'gk_handling', 'gk_kicking', 'gk_positioning',\n",
    "#        'gk_reflexes']\n",
    "\n",
    "attr_cols = ['crossing', 'finishing', 'heading_accuracy','short_passing', 'volleys', 'dribbling', 'free_kick_accuracy',\n",
    "       'long_passing', 'ball_control', 'acceleration', 'sprint_speed',\n",
    "       'agility', 'reactions', 'balance', 'shot_power', 'jumping', 'stamina',\n",
    "       'strength', 'long_shots', 'aggression', 'interceptions', 'positioning',\n",
    "       'vision', 'penalties', 'marking', 'standing_tackle', 'sliding_tackle',\n",
    "       'gk_positioning','gk_reflexes','form']\n",
    "\n",
    "x_cols = [ \"%s_%s\"%(c,attr)  for c in ['h','a'] for attr in attr_cols ]\n",
    "x_form_cols = ['Home_Form','Away_Form']\n",
    "\n",
    "y_cols = ['Result']\n",
    "\n",
    "bins= [0.0,0.2,0.4,0.6,0.8,1.0]\n",
    "labels = [0,1,2,3]"
   ]
  },
  {
   "cell_type": "code",
   "execution_count": 14,
   "metadata": {},
   "outputs": [],
   "source": [
    "def quantile_bin(df):\n",
    "    #Trying a Kbins discretizer\n",
    "# from sklearn.preprocessing import KBinsDiscretizer\n",
    "\n",
    "# dis = KBinsDiscretizer(n_bins = 5, encode = 'onehot', strategy = 'uniform')\n",
    "\n",
    "# x_all_disc = dis.fit_transform(x_all)\n",
    "\n",
    "#print(x_all_binned)\n",
    "    for key in df:\n",
    "        if key in x_norm_cols:\n",
    "            bins = df[key].quantile([0, .25, .5, .75, 1.])\n",
    "            df[key]= pd.cut(df[key],bins.values, labels = labels, include_lowest = True)\n",
    "            \n",
    "    return df    \n",
    "\n",
    "x_norm_cols = x_cols\n",
    "\n",
    "def normalize(df):\n",
    "    for key in df:\n",
    "        if key in x_norm_cols:\n",
    "            mn = df[key].min()\n",
    "            mx = df[key].max()\n",
    "            diff = mx - mn\n",
    "            \n",
    "            df[key] = df[key].apply(lambda x : (x-mn)/diff)\n",
    "    return df\n",
    "        \n",
    "def stdize(df):\n",
    "    for key in df:\n",
    "        if key in x_norm_cols:\n",
    "            mean = df[key].mean()\n",
    "            std = df[key].std()\n",
    "            df[key ] = df[key].apply(lambda x : (x-mean)/std)\n",
    "    return df"
   ]
  },
  {
   "cell_type": "code",
   "execution_count": 41,
   "metadata": {},
   "outputs": [
    {
     "name": "stdout",
     "output_type": "stream",
     "text": [
      "[[1. 0. 0.]\n",
      " [0. 1. 0.]\n",
      " [0. 0. 1.]\n",
      " ...\n",
      " [0. 0. 1.]\n",
      " [1. 0. 0.]\n",
      " [0. 0. 1.]]\n"
     ]
    },
    {
     "name": "stderr",
     "output_type": "stream",
     "text": [
      "D:\\Apps\\Anaconda3\\lib\\site-packages\\sklearn\\preprocessing\\_encoders.py:363: FutureWarning: The handling of integer data will change in version 0.22. Currently, the categories are determined based on the range [0, max(values)], while in the future they will be determined based on the unique values.\n",
      "If you want the future behaviour and silence this warning, you can specify \"categories='auto'\".\n",
      "In case you used a LabelEncoder before this OneHotEncoder to convert the categories to integers, then you can now use the OneHotEncoder directly.\n",
      "  warnings.warn(msg, FutureWarning)\n"
     ]
    }
   ],
   "source": []
  },
  {
   "cell_type": "code",
   "execution_count": 12,
   "metadata": {},
   "outputs": [],
   "source": [
    "\n",
    "tr_data = normalize(data)\n",
    "\n",
    "#take difference and store data \n",
    "tr_data_copy = tr_data.copy()\n",
    "\n",
    "\n",
    "for i in attr_cols:\n",
    "    tr_data['%s'%i] = tr_data[\"h_%s\"%i] - tr_data[\"a_%s\"%i]\n",
    "    \n",
    "tr_data_diff = tr_data[attr_cols + y_cols]\n",
    "\n",
    "tr_data_diff.to_csv('feats_norm_diff.csv')"
   ]
  },
  {
   "cell_type": "code",
   "execution_count": 29,
   "metadata": {},
   "outputs": [],
   "source": []
  },
  {
   "cell_type": "code",
   "execution_count": null,
   "metadata": {},
   "outputs": [],
   "source": []
  }
 ],
 "metadata": {
  "kernelspec": {
   "display_name": "Python 3",
   "language": "python",
   "name": "python3"
  },
  "language_info": {
   "codemirror_mode": {
    "name": "ipython",
    "version": 3
   },
   "file_extension": ".py",
   "mimetype": "text/x-python",
   "name": "python",
   "nbconvert_exporter": "python",
   "pygments_lexer": "ipython3",
   "version": "3.6.4"
  }
 },
 "nbformat": 4,
 "nbformat_minor": 2
}
