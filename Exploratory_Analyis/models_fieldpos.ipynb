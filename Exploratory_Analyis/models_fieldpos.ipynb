{
 "cells": [
  {
   "cell_type": "code",
   "execution_count": 1,
   "metadata": {},
   "outputs": [],
   "source": [
    "import pandas as pd\n",
    "from sklearn.model_selection import train_test_split\n",
    "from sklearn.metrics import accuracy_score, mean_squared_error\n",
    "\n",
    "x_home_cols =  [\"h_%s\"%i  for i in range(0,11)]\n",
    "x_away_cols =  [\"a_%s\"%i  for i in range(0,11)]\n",
    "x_diff_cols =  [\"diff_%s\"%i  for i in range(0,11)]\n",
    "x_cols = x_home_cols + x_away_cols\n",
    "x_form_cols = ['Home_Form','Away_Form']\n",
    "y_cols = ['Result']\n",
    "\n",
    "full_data = pd.read_csv('field_pos_diff.csv' )\n",
    "\n",
    "#Finding misclassifications\n",
    "\n",
    "def misclassification_report(df, y_pred, y_test ):\n",
    "    \n",
    "    misclassified = pd.DataFrame()\n",
    "    \n",
    "    for count,value  in enumerate(y_test.iterrows()):\n",
    "        \n",
    "        if y_pred[count]!=int(value[1]['Result']):\n",
    "            new_row = df.iloc[value[0]]\n",
    "            new_row['Predicted'] = y_pred[count]\n",
    "            misclassified = misclassified.append(new_row)\n",
    "    return misclassified\n",
    "\n"
   ]
  },
  {
   "cell_type": "code",
   "execution_count": 28,
   "metadata": {},
   "outputs": [
    {
     "name": "stdout",
     "output_type": "stream",
     "text": [
      "(380, 6)\n"
     ]
    },
    {
     "name": "stderr",
     "output_type": "stream",
     "text": [
      "D:\\Apps\\Anaconda3\\lib\\site-packages\\sklearn\\utils\\validation.py:752: DataConversionWarning: A column-vector y was passed when a 1d array was expected. Please change the shape of y to (n_samples, ), for example using ravel().\n",
      "  y = column_or_1d(y, warn=True)\n"
     ]
    }
   ],
   "source": [
    "from sklearn.feature_selection import f_classif, SelectKBest\n",
    "\n",
    "sel_feats = SelectKBest(k = 6).fit_transform(full_data[x_diff_cols],full_data[y_cols])\n",
    "print(sel_feats.shape)\n",
    "\n",
    "\n",
    "#x_all = sel_feats[x_diff_cols]\n",
    "x_all = sel_feats\n",
    "y_all = full_data[y_cols]\n"
   ]
  },
  {
   "cell_type": "code",
   "execution_count": 29,
   "metadata": {},
   "outputs": [],
   "source": [
    "# from sklearn.decomposition import PCA\n",
    "# comps = 10\n",
    "# pca = PCA(n_components=comps, svd_solver='full')\n",
    "# x_pca = pca.fit_transform(x_all)  \n",
    "# print(x_pca.shape)"
   ]
  },
  {
   "cell_type": "code",
   "execution_count": 30,
   "metadata": {},
   "outputs": [],
   "source": [
    "x_train,x_test,y_train,y_test = train_test_split(x_all, y_all, test_size = 0.25, random_state = 42)\n"
   ]
  },
  {
   "cell_type": "code",
   "execution_count": null,
   "metadata": {},
   "outputs": [],
   "source": [
    "import keras\n",
    "from keras.models import Sequential\n",
    "from keras.layers import Dense, Activation, Dropout\n",
    "\n",
    "def create_model(x_train,y_train):\n",
    "    \"\"\" Creates a Sequential model made out of Densely connected Neural Network layers. All parameters are configured as per specification for Q4\"\"\"\n",
    "\n",
    "    model = Sequential()\n",
    "    model.add(Dense(20,input_dim = 6, activation = 'relu'))\n",
    "\n",
    "    model.add(Dense(100,activation = 'relu'))\n",
    "    #model.add(Dropout(0.1))\n",
    "    model.add(Dense(1,activation = 'sigmoid'))\n",
    "    model.compile(loss = 'sparse_categorical_crossentropy', optimizer ='adam',metrics = ['accuracy'])\n",
    "\n",
    "    result = model.fit(x_train,y_train,epochs = 50, batch_size = 50)\n",
    "\n",
    "    #Store the model, its average training accuracy and validation accuracy over 10 epochs\n",
    "\n",
    "    return model\n",
    "\n",
    "#Training neural network\n",
    "model = create_model(x_train,y_train)\n",
    "#pred_y = model.predict(x_test)\n",
    "print(model.metrics_names)\n",
    "score = model.evaluate(x_test,y_test)\n",
    "print(score)"
   ]
  },
  {
   "cell_type": "code",
   "execution_count": 33,
   "metadata": {},
   "outputs": [],
   "source": [
    "# #Training linear regression on the goal difference \n",
    "# from sklearn.linear_model import LinearRegression\n",
    "# import math\n",
    "# lr = LinearRegression()\n",
    "# lr.fit(x_train,y_train['Goal_Diff'])\n",
    "# y_pred = lr.predict(x_test[x_cols])\n",
    "# goals = [math.ceil(value) for value in y_pred]\n",
    "\n",
    "# pred_res = [1 if value > 0 else (-1 if value < 0 else 0) for value in goals]\n",
    "# z = accuracy_score(y_test['Result'],pred_res)\n",
    "# print(z)"
   ]
  },
  {
   "cell_type": "code",
   "execution_count": 20,
   "metadata": {},
   "outputs": [
    {
     "name": "stdout",
     "output_type": "stream",
     "text": [
      "0.5157894736842106\n",
      "[ 1  1  1  1  1  1  1  1  1  1  1  1  1  1  1  1  1  1  1  1  1  1  1  1\n",
      "  1  1  1  1 -1  1 -1 -1  1  1  1  1 -1  1  1  1 -1  1  1  1  1 -1  1  1\n",
      "  1  1  1  1  1 -1  1  1  1 -1  1 -1  1 -1  1  1 -1 -1  1  1  1  1 -1  1\n",
      "  1  1 -1  1 -1  1 -1  1 -1  1  1  1  1  1  1  1  1  1 -1  1 -1  1  1]\n"
     ]
    },
    {
     "name": "stderr",
     "output_type": "stream",
     "text": [
      "D:\\Apps\\Anaconda3\\lib\\site-packages\\sklearn\\utils\\validation.py:752: DataConversionWarning: A column-vector y was passed when a 1d array was expected. Please change the shape of y to (n_samples, ), for example using ravel().\n",
      "  y = column_or_1d(y, warn=True)\n"
     ]
    }
   ],
   "source": [
    "#Train SVM\n",
    "from sklearn.svm import LinearSVC, SVC\n",
    "\n",
    "svm = SVC(C = 1, kernel = 'linear')\n",
    "svm.fit(x_train,y_train)\n",
    "# print(svm.coef_)\n",
    "# print(svm.intercept_)\n",
    "y_pred = svm.predict(x_test)\n",
    "z =accuracy_score(y_test,y_pred)\n",
    "print(z)\n",
    "print(y_pred)\n",
    "#mc = misclassification_report(full_data,y_pred,y_test)\n",
    "#print(mc[x_cols + y_cols + ['Predicted']])\n"
   ]
  },
  {
   "cell_type": "code",
   "execution_count": 19,
   "metadata": {},
   "outputs": [
    {
     "name": "stdout",
     "output_type": "stream",
     "text": [
      "0.3684210526315789\n"
     ]
    }
   ],
   "source": [
    "#Training decision tree\n",
    "from sklearn import tree\n",
    "from sklearn.tree import DecisionTreeClassifier\n",
    "from sklearn.metrics import accuracy_score\n",
    "from sklearn.metrics import confusion_matrix\n",
    "\n",
    "dt = DecisionTreeClassifier(criterion = 'entropy', max_depth = 222, random_state = 5)\n",
    "\n",
    "dt.fit(x_train,y_train)\n",
    "\n",
    "y_pred = dt.predict(x_test)\n",
    "\n",
    "#y_test_synth = [-1 if total < 0 else (1 if total > 0 else 0) for total in x_test['Total'].values] \n",
    "\n",
    "a = accuracy_score(y_test,y_pred)\n",
    "print(a)\n",
    "# print(te_y.values)\n",
    "#mc = misclassification_report(full_data, y_pred,y_test)\n",
    "#print(mc)"
   ]
  },
  {
   "cell_type": "code",
   "execution_count": 18,
   "metadata": {},
   "outputs": [
    {
     "name": "stdout",
     "output_type": "stream",
     "text": [
      "0.4631578947368421\n"
     ]
    },
    {
     "name": "stderr",
     "output_type": "stream",
     "text": [
      "D:\\Apps\\Anaconda3\\lib\\site-packages\\ipykernel_launcher.py:5: DataConversionWarning: A column-vector y was passed when a 1d array was expected. Please change the shape of y to (n_samples, ), for example using ravel().\n",
      "  \"\"\"\n"
     ]
    }
   ],
   "source": [
    "from sklearn.neighbors import KNeighborsClassifier\n",
    "\n",
    "\n",
    "knn = KNeighborsClassifier(n_neighbors=8)\n",
    "knn.fit(x_train,y_train)\n",
    "knn_pred = knn.predict(x_test)\n",
    "ak = accuracy_score(y_test,knn_pred)\n",
    "\n",
    "print(ak)\n"
   ]
  },
  {
   "cell_type": "code",
   "execution_count": null,
   "metadata": {},
   "outputs": [],
   "source": []
  },
  {
   "cell_type": "code",
   "execution_count": null,
   "metadata": {},
   "outputs": [],
   "source": []
  },
  {
   "cell_type": "code",
   "execution_count": null,
   "metadata": {},
   "outputs": [],
   "source": []
  }
 ],
 "metadata": {
  "kernelspec": {
   "display_name": "Python 3",
   "language": "python",
   "name": "python3"
  },
  "language_info": {
   "codemirror_mode": {
    "name": "ipython",
    "version": 3
   },
   "file_extension": ".py",
   "mimetype": "text/x-python",
   "name": "python",
   "nbconvert_exporter": "python",
   "pygments_lexer": "ipython3",
   "version": "3.6.4"
  }
 },
 "nbformat": 4,
 "nbformat_minor": 2
}
