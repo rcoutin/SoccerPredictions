{
 "cells": [
  {
   "cell_type": "code",
   "execution_count": 28,
   "metadata": {},
   "outputs": [],
   "source": [
    "import pandas as pd\n",
    "pd.set_option('display.height', 1000)\n",
    "pd.set_option('display.max_rows', 500)\n",
    "pd.set_option('display.max_columns', 500)\n",
    "pd.set_option('display.width', 1000)\n",
    "from sklearn.model_selection import train_test_split\n",
    "x_home_cols =  [\"h_%s\"%i  for i in range(0,11)]\n",
    "x_away_cols =  [\"a_%s\"%i  for i in range(0,11)]\n",
    "x_diff_cols =  [\"diff_%s\"%i  for i in range(0,11)]\n",
    "x_cols = x_home_cols + x_away_cols\n",
    "x_form_cols = ['Home_Form','Away_Form']\n",
    "y_cols = ['Result']\n",
    "\n",
    "bins= [0.0,0.2,0.4,0.6,0.8,1.0]\n",
    "labels = [0,1,2,3]"
   ]
  },
  {
   "cell_type": "code",
   "execution_count": 29,
   "metadata": {},
   "outputs": [],
   "source": [
    "def quantile_bin(df):\n",
    "    #Trying a Kbins discretizer\n",
    "# from sklearn.preprocessing import KBinsDiscretizer\n",
    "\n",
    "# dis = KBinsDiscretizer(n_bins = 5, encode = 'onehot', strategy = 'uniform')\n",
    "\n",
    "# x_all_disc = dis.fit_transform(x_all)\n",
    "\n",
    "#print(x_all_binned)\n",
    "    for key in df:\n",
    "        if key in x_norm_cols:\n",
    "            bins = df[key].quantile([0, .25, .5, .75, 1.])\n",
    "            df[key]= pd.cut(df[key],bins.values, labels = labels, include_lowest = True)\n",
    "            \n",
    "    return df    \n",
    "\n",
    "x_norm_cols = x_cols\n",
    "\n",
    "def normalize(df):\n",
    "    for key in df:\n",
    "        if key in x_norm_cols:\n",
    "            mn = df[key].min()\n",
    "            mx = df[key].max()\n",
    "            diff = mx - mn\n",
    "            \n",
    "            df[key] = df[key].apply(lambda x : (x-mn)/diff)\n",
    "    return df\n",
    "        \n",
    "def stdize(df):\n",
    "    for key in df:\n",
    "        if key in x_norm_cols:\n",
    "            mean = df[key].mean()\n",
    "            std = df[key].std()\n",
    "            df[key ] = df[key].apply(lambda x : (x-mean)/std)\n",
    "    return df"
   ]
  },
  {
   "cell_type": "code",
   "execution_count": 38,
   "metadata": {},
   "outputs": [],
   "source": [
    "data = pd.read_csv('Full_Data_fieldpos_all.csv')\n",
    "\n",
    "tr_data = normalize(data)\n",
    "#take difference and store data \n",
    "tr_data_copy = tr_data.copy()\n",
    "\n",
    "\n",
    "for i in range(0,11):\n",
    "    tr_data['diff_%s'%i] = tr_data[\"h_%s\"%i] - tr_data[\"a_%s\"%i]\n",
    "    \n",
    "    \n",
    "data_diff = tr_data[x_diff_cols + y_cols]\n",
    "\n",
    "#data_diff.to_csv('field_pos_diff.csv')\n",
    "#print(tr_data[x_home_cols[:3] + x_away_cols[:3] + x_diff_cols[:3] + y_cols])"
   ]
  },
  {
   "cell_type": "code",
   "execution_count": 43,
   "metadata": {},
   "outputs": [
    {
     "name": "stdout",
     "output_type": "stream",
     "text": [
      "(380, 10)\n"
     ]
    },
    {
     "name": "stderr",
     "output_type": "stream",
     "text": [
      "D:\\Apps\\Anaconda3\\lib\\site-packages\\sklearn\\utils\\validation.py:752: DataConversionWarning: A column-vector y was passed when a 1d array was expected. Please change the shape of y to (n_samples, ), for example using ravel().\n",
      "  y = column_or_1d(y, warn=True)\n"
     ]
    }
   ],
   "source": []
  },
  {
   "cell_type": "code",
   "execution_count": null,
   "metadata": {},
   "outputs": [],
   "source": []
  },
  {
   "cell_type": "code",
   "execution_count": null,
   "metadata": {},
   "outputs": [],
   "source": []
  }
 ],
 "metadata": {
  "kernelspec": {
   "display_name": "Python 3",
   "language": "python",
   "name": "python3"
  },
  "language_info": {
   "codemirror_mode": {
    "name": "ipython",
    "version": 3
   },
   "file_extension": ".py",
   "mimetype": "text/x-python",
   "name": "python",
   "nbconvert_exporter": "python",
   "pygments_lexer": "ipython3",
   "version": "3.6.4"
  }
 },
 "nbformat": 4,
 "nbformat_minor": 2
}
