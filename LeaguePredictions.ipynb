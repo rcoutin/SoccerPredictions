{
 "cells": [
  {
   "cell_type": "code",
   "execution_count": 1,
   "metadata": {},
   "outputs": [],
   "source": [
    "import sqlite3 as db \n",
    "import pandas as pd\n",
    "conn = db.connect('soccer/database.sqlite')\n",
    "\n",
    "\n",
    "from sklearn.preprocessing import MinMaxScaler\n",
    "scaler = MinMaxScaler()"
   ]
  },
  {
   "cell_type": "code",
   "execution_count": 2,
   "metadata": {},
   "outputs": [],
   "source": [
    "norm_team_name = {}\n",
    "norm_team_name['Man United'] = 'Manchester United'\n",
    "norm_team_name['Man City'] = 'Manchester City'\n",
    "norm_team_name['QPR'] = 'Queens Park Rangers'\n",
    "norm_team_name['West Brom'] = 'West Bromwich Albion'\n",
    "norm_team_name['West Ham'] = 'West Ham United'\n",
    "norm_team_name['Bournemouth'] = 'AFC Bournemouth'\n",
    "\n",
    "year_data = {'2014': 'statbunker-football-stats/Player Stats 2014-15.csv' , \n",
    "             '2015': 'statbunker-football-stats/Player Stats 2015-16.csv' ,\n",
    "             '2016': 'statbunker-football-stats/Player Stats 2016-17.csv'}\n"
   ]
  },
  {
   "cell_type": "code",
   "execution_count": 3,
   "metadata": {},
   "outputs": [],
   "source": [
    "def get_all_players_info(year):\n",
    "    query_str = \"\"\"select  p.player_name,pa2.* from player_attributes pa2, player p where p.player_api_id = pa2.player_api_id and\n",
    "    (pa2.player_api_id, pa2.date) in (\n",
    "    select z.player_api_id, z.date from (\n",
    "    select pa.player_api_id, pa.date, min(abs(strftime('%%s',pa.date) - strftime('%%s','%(year)s-09-01 00:00:00'))) from player_attributes pa, player p \n",
    "                                    where pa.player_api_id = p.player_api_id\n",
    "                                    and strftime('%%s',pa.date) > strftime('%%s','2014-05-14 00:00:00') \n",
    "                                    and pa.date like '%(year)s%%'\n",
    "                                    group by pa.player_api_id ) z )\"\"\"%{'year':year}\n",
    "    \n",
    "    all_player_attrs = pd.read_sql_query(query_str,conn)\n",
    "    \n",
    "    return all_player_attrs\n"
   ]
  },
  {
   "cell_type": "code",
   "execution_count": 4,
   "metadata": {},
   "outputs": [],
   "source": [
    "def norm_player_names(all_players_info):\n",
    "    \n",
    "    for key,value in norm_team_name.items():\n",
    "        all_players_info.loc[lambda df: df['HomeTeam'] == key, 'HomeTeam'] = value\n",
    "        all_players_info.loc[lambda df: df['AwayTeam'] == key, 'AwayTeam'] = value\n",
    "    \n",
    "    return all_players_info"
   ]
  },
  {
   "cell_type": "code",
   "execution_count": 5,
   "metadata": {},
   "outputs": [],
   "source": [
    "def get_full_data(year):\n",
    "    ptm = pd.read_csv(year_data[year] , dtype = {'overall_rating':float} )\n",
    "   \n",
    "    ptm = ptm[(ptm['Type Of Goal'] == 'Player') & (ptm['League'] == 'Premier League')]\n",
    "    \n",
    "    all_players_info  = get_all_players_info(year)\n",
    "        \n",
    "    joined = all_players_info.set_index('player_name').join(ptm.set_index('Player'), how='inner')\n",
    "    return joined"
   ]
  },
  {
   "cell_type": "code",
   "execution_count": 6,
   "metadata": {},
   "outputs": [],
   "source": [
    "def create_team(data, name):\n",
    "    \n",
    "    full_team = data[data['Team'].str.startswith(name)]\n",
    "        \n",
    "    team_agg = {}\n",
    "    \n",
    "    team_df = {}\n",
    "    \n",
    "    df_start = full_team[full_team['Team'] == 'THIS DOES NOT EXIST']\n",
    "    \n",
    "    pos_sel = {'Defender': 4, 'Midfielder': 4, 'Forward': 2, 'Goalkeeper':1}\n",
    "\n",
    "    \n",
    "    \n",
    "#     if (len(df_start[df_start['Position'] == 'Forward']) < 3 ):\n",
    "#         forwards = len(df_start[df_start['Position'] == 'Forward'])\n",
    "#         print(forwards)\n",
    "#         pos_sel['Forward'] = forwards\n",
    "#         pos_sel['Midfielder'] = 6 - forwards\n",
    "\n",
    "    for key,value in pos_sel.items():\n",
    "        \n",
    "        grp = full_team[full_team['Position'] == key].sort_values(by = ['overall_rating'], ascending = False).head(value)\n",
    "        df_start = df_start.append(grp)\n",
    "        avg = grp.mean()\n",
    "        team_agg[key] = avg\n",
    "    \n",
    "    return df_start"
   ]
  },
  {
   "cell_type": "code",
   "execution_count": 7,
   "metadata": {},
   "outputs": [],
   "source": [
    "def agg_attributes(team):\n",
    "    #team[team['Position'] == 'Goalkeeper']['Position'] = 'Defender'\n",
    "    \n",
    "    team.loc[lambda df: df['Position'] == 'Goalkeeper', 'Position'] = 'Defender'\n",
    "       \n",
    "    \n",
    "    g = team.groupby(['Position'] , as_index=False).mean()\n",
    "    #print(g['overall_rating'])\n",
    "    #g = g.reset_index().set_index('index')\n",
    "    \n",
    "    return g.transpose()"
   ]
  },
  {
   "cell_type": "code",
   "execution_count": 8,
   "metadata": {},
   "outputs": [],
   "source": [
    "def get_fixtures(year):\n",
    "    f = pd.read_csv('epl-results-19932018/EPL_Set.csv')\n",
    "    f = norm_player_names(f)\n",
    "    \n",
    "    return f[f['Season'].str.startswith(year)]\n",
    "    \n"
   ]
  },
  {
   "cell_type": "code",
   "execution_count": 9,
   "metadata": {},
   "outputs": [],
   "source": [
    "def combine_metrics_2(home_attrs,away_attrs,i):\n",
    "    ### D - D , A - A ###\n",
    "    norm_attrs = {}\n",
    "    norm_attrs['Home_Def'] = home_attrs[0]['overall_rating']\n",
    "    norm_attrs['Home_Att'] = home_attrs[1]['overall_rating']\n",
    "    norm_attrs['Home_Mid'] = home_attrs[2]['overall_rating']\n",
    "    \n",
    "    norm_attrs['Away_Def'] = away_attrs[0]['overall_rating']\n",
    "    norm_attrs['Away_Att'] = away_attrs[1]['overall_rating']\n",
    "    norm_attrs['Away_Mid'] = away_attrs[2]['overall_rating']\n",
    "\n",
    "    norm_attrs['Def_Score'] = home_attrs[0]['overall_rating'] - away_attrs[0]['overall_rating']\n",
    "    norm_attrs['Att_Score'] = home_attrs[1]['overall_rating'] - away_attrs[1]['overall_rating']\n",
    "    norm_attrs['Mid_Score'] = home_attrs[2]['overall_rating'] - away_attrs[2]['overall_rating']\n",
    "    norm_attrs['Result'] = 1 if row['FTHG'] - row['FTAG'] > 0  else (-1 if row['FTHG'] - row['FTAG'] < 0 else 0)\n",
    "    \n",
    "    norm_df = pd.DataFrame(norm_attrs, index = [str(i)])\n",
    "    \n",
    "    return norm_df\n",
    "\n",
    "def combine_metrics_1(home_attrs,away_attrs,i):\n",
    "    \"\"\" D-A  \"\"\"\n",
    "    norm_attrs = {}\n",
    "    \n",
    "    norm_attrs['Home_Def'] = home_attrs[0]['overall_rating']\n",
    "    norm_attrs['Home_Att'] = home_attrs[1]['overall_rating']\n",
    "    norm_attrs['Home_Mid'] = home_attrs[2]['overall_rating']\n",
    "    \n",
    "    norm_attrs['Away_Def'] = away_attrs[0]['overall_rating']\n",
    "    norm_attrs['Away_Att'] = away_attrs[1]['overall_rating']\n",
    "    norm_attrs['Away_Mid'] = away_attrs[2]['overall_rating']\n",
    "    \n",
    "    norm_attrs['Def_Score'] = home_attrs[0]['overall_rating'] - away_attrs[1]['overall_rating']\n",
    "    norm_attrs['Att_Score'] = home_attrs[1]['overall_rating'] - away_attrs[0]['overall_rating']\n",
    "    norm_attrs['Mid_Score'] = home_attrs[2]['overall_rating'] - away_attrs[2]['overall_rating']\n",
    "    norm_attrs['Result'] = 1 if row['FTHG'] - row['FTAG'] > 0  else (-1 if row['FTHG'] - row['FTAG'] < 0 else 0)\n",
    "    \n",
    "    norm_df = pd.DataFrame(norm_attrs, index = [str(i)])\n",
    "    \n",
    "    return norm_df"
   ]
  },
  {
   "cell_type": "code",
   "execution_count": 10,
   "metadata": {},
   "outputs": [],
   "source": [
    "def get_all_team_data(year):\n",
    "    \n",
    "    data = {}\n",
    "\n",
    "    joined_data = get_full_data(year)\n",
    "\n",
    "    f = get_fixtures(year)\n",
    "    teams = f['HomeTeam'].unique()\n",
    "\n",
    "    for team in teams:\n",
    "        team_data = create_team(joined_data, team)\n",
    "        team_attr = agg_attributes(team_data)\n",
    "        data[team] = (team_data, team_attr)\n",
    "\n",
    "    return data"
   ]
  },
  {
   "cell_type": "code",
   "execution_count": 11,
   "metadata": {},
   "outputs": [],
   "source": [
    "def attr_normalize(df, attr,column):\n",
    "        \n",
    "    mx = max(df[column])\n",
    "    mn = min(df[column])\n",
    "    diff = (mx) - (mn)\n",
    "\n",
    "    #df[attr] = df[attr]/diff\n",
    "    return df[attr].apply(lambda x : x/diff)\n",
    "    \n",
    "    #df[attr].apply(lambda x : x/diff)\n",
    "\n"
   ]
  },
  {
   "cell_type": "code",
   "execution_count": 12,
   "metadata": {},
   "outputs": [],
   "source": [
    "team_store = get_all_team_data('2016')\n",
    "\n",
    "j = get_full_data('2016')\n"
   ]
  },
  {
   "cell_type": "code",
   "execution_count": 13,
   "metadata": {},
   "outputs": [],
   "source": [
    "from matplotlib import pyplot as plt\n",
    "\n",
    "i = 0\n",
    "res_df = pd.DataFrame()\n",
    "f = get_fixtures('2016')\n",
    "for key,row in f.iterrows():\n",
    "#     print(\"MATCHING UP: %s vs %s\"%(row['HomeTeam'], row['AwayTeam']))\n",
    "    home = row['HomeTeam']\n",
    "    away = row['AwayTeam']\n",
    "    \n",
    "    home_attrs = team_store[home][1]\n",
    "    away_attrs = team_store[away][1]\n",
    "\n",
    "    res_df = res_df.append(combine_metrics_2(home_attrs,away_attrs,i))\n",
    "    \n",
    "    i = i + 1\n",
    "    "
   ]
  },
  {
   "cell_type": "code",
   "execution_count": 14,
   "metadata": {},
   "outputs": [],
   "source": [
    "res_df['Att_Score'] = attr_normalize(res_df, 'Att_Score','Home_Att' )\n",
    "   "
   ]
  },
  {
   "cell_type": "code",
   "execution_count": 15,
   "metadata": {},
   "outputs": [],
   "source": [
    "\n",
    "res_df['Att_Score'] = attr_normalize(res_df, 'Att_Score','Home_Att' )\n",
    "res_df['Def_Score'] = attr_normalize(res_df, 'Def_Score','Home_Def' )\n",
    "res_df['Mid_Score'] = attr_normalize(res_df, 'Mid_Score','Home_Mid' )\n",
    "\n",
    "res_df.pop('Home_Att')\n",
    "res_df.pop('Home_Mid')\n",
    "res_df.pop('Home_Def')\n",
    "res_df.pop('Away_Att')\n",
    "res_df.pop('Away_Mid')\n",
    "d = res_df.pop('Away_Def')\n",
    "\n",
    "\n",
    "# number of times the stronger team has won against the weaker team"
   ]
  },
  {
   "cell_type": "code",
   "execution_count": 16,
   "metadata": {},
   "outputs": [
    {
     "name": "stdout",
     "output_type": "stream",
     "text": [
      "     Def_Score  Att_Score  Mid_Score  Result\n",
      "0    -0.309091  -0.010519  -0.250000      -1\n",
      "1     0.418182   0.038133   0.022727      -1\n",
      "2    -0.654545   0.000000  -0.136364       0\n",
      "3    -0.236364  -0.017094  -0.113636       1\n",
      "4     0.836364   0.017094   0.659091       1\n",
      "5    -0.272727  -0.007890  -0.318182       0\n",
      "6     0.254545   0.000000   0.272727       0\n",
      "7     0.727273   0.021039   0.045455      -1\n",
      "8    -0.886364  -0.015779  -0.931818      -1\n",
      "9     0.236364   0.007890   0.363636       1\n",
      "10    0.327273  -0.001315   0.681818       1\n",
      "11   -0.218182  -0.011834  -0.613636       1\n",
      "12   -0.454545  -0.011834  -0.431818       0\n",
      "13   -0.509091  -0.013149  -0.477273      -1\n",
      "14    0.054545   0.006575   0.136364      -1\n",
      "15    0.272727  -0.001315   0.340909       1\n",
      "16   -0.418182  -0.011834  -1.000000      -1\n",
      "17   -0.036364  -0.036818  -0.227273      -1\n",
      "18   -0.054545   0.003945   0.136364      -1\n",
      "19    0.486364   0.021039   0.613636       1\n",
      "20    0.745455   0.027613   0.863636       1\n",
      "21    0.540909   0.023669   0.295455       0\n",
      "22   -0.309091  -0.001315   0.068182       1\n",
      "23   -0.654545  -0.010519  -0.704545      -1\n",
      "24    0.181818   0.010519  -0.022727       1\n",
      "25    0.418182  -0.002630   0.000000       0\n",
      "26    0.618182   0.009204  -0.090909       0\n",
      "27   -0.618182  -0.017094  -0.795455      -1\n",
      "28    0.490909   0.015779   0.295455       1\n",
      "29   -0.072727  -0.030243   0.159091       0\n",
      "..         ...        ...        ...     ...\n",
      "350   0.127273  -0.010519  -0.136364       1\n",
      "351   0.036364   0.018409  -0.159091       1\n",
      "352  -0.363636  -0.003945   0.477273       0\n",
      "353   0.527273   0.013149   0.863636       1\n",
      "354  -0.363636  -0.017094  -0.522727      -1\n",
      "355  -0.145455   0.005260   0.522727       1\n",
      "356  -0.600000  -0.043393  -0.704545      -1\n",
      "357   0.022727  -0.001315  -0.113636       1\n",
      "358   0.509091   0.014464   0.568182       1\n",
      "359  -0.363636  -0.001315  -0.136364      -1\n",
      "360  -0.454545  -0.010519  -0.340909      -1\n",
      "361  -0.145455   0.007890  -0.113636      -1\n",
      "362   0.309091   0.018409   0.068182       1\n",
      "363  -0.072727   0.006575  -0.295455       1\n",
      "364   0.290909   0.007890  -0.113636      -1\n",
      "365   0.418182   0.011834   1.000000       1\n",
      "366   0.781818   0.014464   0.522727       1\n",
      "367   0.854545   0.051282   0.636364       1\n",
      "368  -0.327273   0.001315  -0.681818       0\n",
      "369  -0.345455   0.000000  -0.295455      -1\n",
      "370   0.763636   0.011834   0.272727       1\n",
      "371  -0.509091  -0.019724  -0.500000      -1\n",
      "372   0.581818   0.009204   0.727273       1\n",
      "373  -0.581818  -0.017094  -0.409091      -1\n",
      "374   0.468182   0.022354   0.340909       0\n",
      "375   0.000000  -0.002630   0.613636       1\n",
      "376   0.345455  -0.007890   0.636364       1\n",
      "377   0.090909  -0.006575  -0.181818      -1\n",
      "378   0.163636   0.026298   0.090909       1\n",
      "379  -0.672727  -0.019724  -0.931818      -1\n",
      "\n",
      "[380 rows x 4 columns]\n"
     ]
    }
   ],
   "source": [
    "print(res_df)"
   ]
  },
  {
   "cell_type": "code",
   "execution_count": 19,
   "metadata": {},
   "outputs": [
    {
     "name": "stderr",
     "output_type": "stream",
     "text": [
      "C:\\ProgramData\\Anaconda3\\lib\\site-packages\\matplotlib\\axes\\_axes.py:6462: UserWarning: The 'normed' kwarg is deprecated, and has been replaced by the 'density' kwarg.\n",
      "  warnings.warn(\"The 'normed' kwarg is deprecated, and has been \"\n",
      "C:\\ProgramData\\Anaconda3\\lib\\site-packages\\matplotlib\\axes\\_axes.py:6462: UserWarning: The 'normed' kwarg is deprecated, and has been replaced by the 'density' kwarg.\n",
      "  warnings.warn(\"The 'normed' kwarg is deprecated, and has been \"\n",
      "C:\\ProgramData\\Anaconda3\\lib\\site-packages\\matplotlib\\axes\\_axes.py:6462: UserWarning: The 'normed' kwarg is deprecated, and has been replaced by the 'density' kwarg.\n",
      "  warnings.warn(\"The 'normed' kwarg is deprecated, and has been \"\n",
      "C:\\ProgramData\\Anaconda3\\lib\\site-packages\\matplotlib\\axes\\_axes.py:6462: UserWarning: The 'normed' kwarg is deprecated, and has been replaced by the 'density' kwarg.\n",
      "  warnings.warn(\"The 'normed' kwarg is deprecated, and has been \"\n",
      "C:\\ProgramData\\Anaconda3\\lib\\site-packages\\matplotlib\\axes\\_axes.py:6462: UserWarning: The 'normed' kwarg is deprecated, and has been replaced by the 'density' kwarg.\n",
      "  warnings.warn(\"The 'normed' kwarg is deprecated, and has been \"\n",
      "C:\\ProgramData\\Anaconda3\\lib\\site-packages\\matplotlib\\axes\\_axes.py:6462: UserWarning: The 'normed' kwarg is deprecated, and has been replaced by the 'density' kwarg.\n",
      "  warnings.warn(\"The 'normed' kwarg is deprecated, and has been \"\n"
     ]
    },
    {
     "data": {
      "image/png": "[encoded data removed]",
      "text/plain": [
       "<Figure size 936x504 with 6 Axes>"
      ]
     },
     "metadata": {},
     "output_type": "display_data"
    }
   ],
   "source": [
    "import seaborn as sns\n",
    "\n",
    "\n",
    "\n",
    "strong_home_winners = res_df[(res_df['Att_Score'] > 0) & (res_df['Result'] == 1)]\n",
    "\n",
    "strong_home_losers= res_df[(res_df['Att_Score'] > 0) & (res_df['Result'] == -1)]\n",
    "\n",
    "strong_home_draw = res_df[(res_df['Att_Score'] > 0) &  (res_df['Result'] == 0)]\n",
    "\n",
    "\n",
    "strong_away_winners = res_df[(res_df['Att_Score'] < 0) & (res_df['Result'] == 1)]\n",
    "\n",
    "strong_away_losers = res_df[(res_df['Att_Score'] < 0) & (res_df['Result'] == -1)]\n",
    "\n",
    "strong_away_draw = res_df[(res_df['Att_Score'] < 0) &  (res_df['Result'] == 0)]\n",
    "\n",
    "\n",
    "attribute = 'Att_Score'\n",
    "\n",
    "disp_attrs = {'hist': True, 'kde': True, 'norm_hist':True, \"color\" : 'black', 'rug':True}\n",
    "\n",
    "# hist = True\n",
    "# bins = 20\n",
    "# kde = False\n",
    "# norm_hist = False\n",
    "\n",
    "f, axes = plt.subplots(3, 2, figsize=(13, 7), sharex=False)\n",
    "\n",
    "\n",
    "sns.distplot(strong_home_winners['Att_Score'],**disp_attrs, ax = axes[0,0] )\n",
    "axes[0,0].set_title( 'Games where strong home team won - %s %%'%str(len(strong_home_winners['Att_Score'])/3.8))\n",
    "\n",
    "sns.distplot(strong_home_losers['Att_Score'],**disp_attrs, ax = axes[1,0])\n",
    "axes[1,0].set_title( 'Distribution where strong home team lost - %s %%'%str(len(strong_home_losers['Att_Score'])/3.8))\n",
    "\n",
    "sns.distplot(strong_home_draw['Att_Score'],**disp_attrs, ax = axes[2,0])\n",
    "axes[2,0].set_title( 'Distribution where strong home team drew - %s %%'%str(len(strong_home_draw['Att_Score'])/3.8))\n",
    "\n",
    "sns.distplot(strong_away_winners['Att_Score'],**disp_attrs,ax = axes[0,1] )\n",
    "axes[0,1].set_title( 'Games where strong away teams won - %s %%'%str(len(strong_away_winners['Att_Score'])/3.8))\n",
    "\n",
    "sns.distplot(strong_away_losers['Att_Score'],**disp_attrs, ax = axes[1,1])\n",
    "axes[1,1].set_title( 'Distribution where strong away teams lost - %s %%'%str(len(strong_away_losers['Att_Score'])/3.8))\n",
    "\n",
    "sns.distplot(strong_away_draw['Att_Score'],**disp_attrs, ax = axes[2,1])\n",
    "axes[2,1].set_title( 'Distribution where strong away team drew - %s %%'%str(len(strong_away_draw['Att_Score'])/3.8))\n",
    "\n",
    "\n",
    "plt.tight_layout()\n",
    "\n",
    "\n",
    "# for key, row in res_df.iterrows():\n",
    "    \n",
    "#     if (row['Def_Score'] > 0 and row['Result'] == 1) or (row['Def_Score'] < 0 and row['Result'] == -1):\n",
    "#         color = ''\n",
    "        \n",
    "#     elif row['Result'] == 0:\n",
    "#         color = ''\n",
    "#     else:\n",
    "#         color = 'bx'\n",
    " \n",
    "#     plt.plot(key, row['Att_Score'], color)\n",
    "\n",
    "# plt.show()\n",
    "# attr = ['Att_Score','Def_Score','Mid_Score']\n",
    "\n",
    "\n",
    "\n",
    "\n",
    "# for a in enumerate(attr):\n",
    "#     print(\"Based on attribute %s\"%a)\n",
    "#     strong_winners_home = res_df[(res_df[a] > 0) & (res_df['Result'] == 1)]\n",
    "#     strong_winners_away = res_df[(res_df[a] < 0) & (res_df['Result'] == -1)]\n",
    "\n",
    "    \n",
    "#     plt.plot(i,res_df['Att_Score'],'bo',label = 'Test')\n",
    "#     strong_draw_home = res_df[(res_df[a] > 0) & (res_df['Result'] == 0)]\n",
    "#     strong_draw_away = res_df[(res_df[a] < 0) & (res_df['Result'] == 0)]\n",
    "    \n",
    "#     weak_winner_home = res_df[(res_df[a] > 0) & (res_df['Result'] == -1)]\n",
    "#     weak_winner_away = res_df[(res_df[a] < 0) & (res_df['Result'] == 1)]\n",
    " \n",
    "# #     print(len(strong_winners_away) + len(strong_winners_home) )\n",
    "\n",
    "# #     #print(strong_winners_home\n",
    "# #     print(len(strong_draw_home) + len(strong_draw_away))\n",
    "    \n",
    "# #     print(len(weak_winner_away) + len(weak_winner_home) )\n",
    "    \n",
    "    \n",
    "# #plt.show()"
   ]
  },
  {
   "cell_type": "code",
   "execution_count": null,
   "metadata": {},
   "outputs": [],
   "source": []
  },
  {
   "cell_type": "code",
   "execution_count": 20,
   "metadata": {},
   "outputs": [],
   "source": [
    "# import keras\n",
    "# print(keras.__version__)\n",
    "# from keras.models import Sequential\n",
    "# from keras.layers import Dense, Activation"
   ]
  },
  {
   "cell_type": "code",
   "execution_count": 21,
   "metadata": {},
   "outputs": [],
   "source": [
    "# def create_model(x_train,y_train):\n",
    "#   \"\"\" Creates a Sequential model made out of Densely connected Neural Network layers. All parameters are configured as per specification for Q4\"\"\"\n",
    "  \n",
    "#   model = Sequential()\n",
    "#   #Input Layer with 61 inputs corresponding to 61 features \n",
    "#   model.add(Dense(10,input_dim = 3, activation = 'relu'))\n",
    "  \n",
    "#   model.add(Dense(1,activation = 'sigmoid'))\n",
    "  \n",
    "#   #Compiling the model with appropriate parameters\n",
    "#   model.compile(loss = 'mse', optimizer ='sgd',metrics = ['accuracy'])\n",
    "  \n",
    "#   result = model.fit(x_train,y_train,epochs = 5, batch_size = 50)\n",
    "  \n",
    "#   #Store the model, its average training accuracy and validation accuracy over 10 epochs\n",
    "  \n",
    "#   return model\n"
   ]
  },
  {
   "cell_type": "code",
   "execution_count": 22,
   "metadata": {},
   "outputs": [
    {
     "name": "stdout",
     "output_type": "stream",
     "text": [
      "     Def_Score  Att_Score  Mid_Score  Result\n",
      "0    -0.309091  -0.010519  -0.250000      -1\n",
      "1     0.418182   0.038133   0.022727      -1\n",
      "2    -0.654545   0.000000  -0.136364       0\n",
      "3    -0.236364  -0.017094  -0.113636       1\n",
      "4     0.836364   0.017094   0.659091       1\n",
      "5    -0.272727  -0.007890  -0.318182       0\n",
      "6     0.254545   0.000000   0.272727       0\n",
      "7     0.727273   0.021039   0.045455      -1\n",
      "8    -0.886364  -0.015779  -0.931818      -1\n",
      "9     0.236364   0.007890   0.363636       1\n",
      "10    0.327273  -0.001315   0.681818       1\n",
      "11   -0.218182  -0.011834  -0.613636       1\n",
      "12   -0.454545  -0.011834  -0.431818       0\n",
      "13   -0.509091  -0.013149  -0.477273      -1\n",
      "14    0.054545   0.006575   0.136364      -1\n",
      "15    0.272727  -0.001315   0.340909       1\n",
      "16   -0.418182  -0.011834  -1.000000      -1\n",
      "17   -0.036364  -0.036818  -0.227273      -1\n",
      "18   -0.054545   0.003945   0.136364      -1\n",
      "19    0.486364   0.021039   0.613636       1\n",
      "20    0.745455   0.027613   0.863636       1\n",
      "21    0.540909   0.023669   0.295455       0\n",
      "22   -0.309091  -0.001315   0.068182       1\n",
      "23   -0.654545  -0.010519  -0.704545      -1\n",
      "24    0.181818   0.010519  -0.022727       1\n",
      "25    0.418182  -0.002630   0.000000       0\n",
      "26    0.618182   0.009204  -0.090909       0\n",
      "27   -0.618182  -0.017094  -0.795455      -1\n",
      "28    0.490909   0.015779   0.295455       1\n",
      "29   -0.072727  -0.030243   0.159091       0\n",
      "..         ...        ...        ...     ...\n",
      "350   0.127273  -0.010519  -0.136364       1\n",
      "351   0.036364   0.018409  -0.159091       1\n",
      "352  -0.363636  -0.003945   0.477273       0\n",
      "353   0.527273   0.013149   0.863636       1\n",
      "354  -0.363636  -0.017094  -0.522727      -1\n",
      "355  -0.145455   0.005260   0.522727       1\n",
      "356  -0.600000  -0.043393  -0.704545      -1\n",
      "357   0.022727  -0.001315  -0.113636       1\n",
      "358   0.509091   0.014464   0.568182       1\n",
      "359  -0.363636  -0.001315  -0.136364      -1\n",
      "360  -0.454545  -0.010519  -0.340909      -1\n",
      "361  -0.145455   0.007890  -0.113636      -1\n",
      "362   0.309091   0.018409   0.068182       1\n",
      "363  -0.072727   0.006575  -0.295455       1\n",
      "364   0.290909   0.007890  -0.113636      -1\n",
      "365   0.418182   0.011834   1.000000       1\n",
      "366   0.781818   0.014464   0.522727       1\n",
      "367   0.854545   0.051282   0.636364       1\n",
      "368  -0.327273   0.001315  -0.681818       0\n",
      "369  -0.345455   0.000000  -0.295455      -1\n",
      "370   0.763636   0.011834   0.272727       1\n",
      "371  -0.509091  -0.019724  -0.500000      -1\n",
      "372   0.581818   0.009204   0.727273       1\n",
      "373  -0.581818  -0.017094  -0.409091      -1\n",
      "374   0.468182   0.022354   0.340909       0\n",
      "375   0.000000  -0.002630   0.613636       1\n",
      "376   0.345455  -0.007890   0.636364       1\n",
      "377   0.090909  -0.006575  -0.181818      -1\n",
      "378   0.163636   0.026298   0.090909       1\n",
      "379  -0.672727  -0.019724  -0.931818      -1\n",
      "\n",
      "[380 rows x 4 columns]\n"
     ]
    }
   ],
   "source": [
    "from sklearn.model_selection import train_test_split\n",
    "\n",
    "full_copy = res_df.copy()\n",
    "print(full_copy)\n",
    "#full_copy = full_copy[full_copy['Result'] !=0]\n",
    "#full_copy[full_copy['Result'] == 1]\n",
    "# print(full_copy[full_copy['Result'] == 1])\n",
    "# print(full_copy[full_copy['Result'] == 0])\n",
    "# print(full_copy[full_copy['Result'] == -1])\n",
    "\n",
    "full_y = full_copy.pop('Result')\n",
    "full_x = full_copy\n",
    "\n",
    "# tr_data = full_copy.iloc[:300]\n",
    "# te_data =  full_copy.iloc[300:381]\n",
    "\n",
    "x_train,te_x,y_train,te_y = train_test_split(full_x, full_y, test_size = 0.25, stratify = full_y)\n",
    "\n",
    "\n",
    "# y_train = tr_data.pop('Result')\n",
    "# x_train = tr_data\n",
    "\n",
    "# te_y = te_data.pop('Result')\n",
    "# te_x = te_data\n"
   ]
  },
  {
   "cell_type": "code",
   "execution_count": 23,
   "metadata": {},
   "outputs": [],
   "source": [
    "# #Training neural network\n",
    "\n",
    "# model = create_model(x_train,y_train)\n",
    "# #pred_y = model.predict(te_x)\n",
    "# score = model.evaluate(te_x,te_y)\n"
   ]
  },
  {
   "cell_type": "code",
   "execution_count": 24,
   "metadata": {},
   "outputs": [],
   "source": [
    "#Training SVM"
   ]
  },
  {
   "cell_type": "code",
   "execution_count": 25,
   "metadata": {},
   "outputs": [
    {
     "name": "stdout",
     "output_type": "stream",
     "text": [
      "[ 1 -1  1  1  1 -1  1 -1  1  1  1 -1  1 -1  1 -1  1  1  1  1 -1  1  1 -1\n",
      "  1 -1 -1  1  1 -1  1  1  1  1  1 -1  1 -1  1  1  1 -1  1  1 -1  1 -1 -1\n",
      "  1 -1  1 -1  1  1  1  1 -1  1  1  1  1  1 -1  1 -1  1  1  1 -1  1  1  1\n",
      "  1  1  1  1 -1 -1  1  1 -1 -1  1 -1  1  1  1  1  1 -1  1  1 -1  1  1]\n",
      "0.6\n"
     ]
    }
   ],
   "source": [
    "from sklearn.svm import LinearSVC, SVC\n",
    "from sklearn.metrics import accuracy_score\n",
    "\n",
    "svm = LinearSVC(C = 10)\n",
    "\n",
    "\n",
    "svm.fit(x_train,y_train)\n",
    "# print(svm.coef_)\n",
    "# print(svm.intercept_)\n",
    "y_pred = svm.predict(te_x)\n",
    "print(y_pred)\n",
    "z =accuracy_score(te_y,y_pred)\n",
    "print(z)"
   ]
  },
  {
   "cell_type": "code",
   "execution_count": 30,
   "metadata": {},
   "outputs": [
    {
     "name": "stdout",
     "output_type": "stream",
     "text": [
      "0.4\n",
      "[-1  1  1  0  1  1 -1  0 -1  1  1  1  1 -1 -1 -1 -1  1  1  1 -1  1  1  1\n",
      " -1 -1 -1  1 -1  1  0  1  1  0  1 -1  1  1  1  1  0 -1  1 -1  1  1 -1  1\n",
      "  1 -1  0 -1  1  0  1  0  1  1  1  1  0 -1 -1  1  1  1  0  1 -1 -1  1  1\n",
      "  1  1 -1  1  0  0  1 -1 -1  1 -1 -1 -1  1  1  1  1  1  0  1 -1 -1  1]\n"
     ]
    }
   ],
   "source": [
    "#Training decision tree\n",
    "from sklearn import tree\n",
    "from sklearn.tree import DecisionTreeClassifier\n",
    "from sklearn.metrics import accuracy_score\n",
    "from sklearn.metrics import confusion_matrix\n",
    "\n",
    "dt = DecisionTreeClassifier(criterion = 'entropy', max_depth = 8, random_state = 5)\n",
    "\n",
    "dt.fit(x_train['Att_Score'].values.reshape(-1,1),y_train)\n",
    "\n",
    "y_pred = dt.predict(te_x['Att_Score'].values.reshape(-1,1))\n",
    "\n",
    "a = accuracy_score(te_y,y_pred)\n",
    "print(a)\n",
    "# print(te_y.values)\n",
    "print(y_pred)\n",
    "\n",
    "cnf_matrix = confusion_matrix(y_pred, te_y, labels = [1,0,-1])\n",
    "\n",
    "# import graphviz \n",
    "\n",
    "\n",
    "# dot_data = tree.export_graphviz(dt, out_file='test',feature_names = ['Att_Score'] ,class_names = ['0','-1','1'])\n",
    "\n",
    "# graphviz.render('dot','png','test', quiet = False)"
   ]
  },
  {
   "cell_type": "code",
   "execution_count": 31,
   "metadata": {},
   "outputs": [
    {
     "name": "stdout",
     "output_type": "stream",
     "text": [
      "0.5263157894736842\n"
     ]
    }
   ],
   "source": [
    "#Training Gaussian NB\n",
    "\n",
    "from sklearn.naive_bayes import GaussianNB\n",
    "\n",
    "\n",
    "gnb = GaussianNB()\n",
    "\n",
    "\n",
    "gnb.fit(x_train['Att_Score'].values.reshape(-1,1),y_train)\n",
    "\n",
    "y_pred = gnb.predict(te_x['Att_Score'].values.reshape(-1,1))\n",
    "\n",
    "ac = accuracy_score(te_y,y_pred)\n",
    "print(ac)\n"
   ]
  },
  {
   "cell_type": "code",
   "execution_count": 32,
   "metadata": {},
   "outputs": [],
   "source": [
    "import itertools\n",
    "import numpy as np\n",
    "import matplotlib.pyplot as plt\n",
    "def plot_confusion_matrix(cm, classes,\n",
    "                          normalize=False,\n",
    "                          title='Confusion matrix',\n",
    "                          cmap=plt.cm.Blues):\n",
    "    \"\"\"\n",
    "    This function prints and plots the confusion matrix.\n",
    "    Normalization can be applied by setting `normalize=True`.\n",
    "    \"\"\"\n",
    "    if normalize:\n",
    "        cm = cm.astype('float') / cm.sum(axis=1)[:, np.newaxis]\n",
    "        print(\"Normalized confusion matrix\")\n",
    "    else:\n",
    "        print('Confusion matrix, without normalization')\n",
    "\n",
    "    print(cm)\n",
    "\n",
    "    plt.imshow(cm, interpolation='nearest', cmap=cmap)\n",
    "    plt.title(title)\n",
    "    plt.colorbar()\n",
    "    tick_marks = np.arange(len(classes))\n",
    "    plt.xticks(tick_marks, classes, rotation=45)\n",
    "    plt.yticks(tick_marks, classes)\n",
    "\n",
    "    fmt = '.2f' if normalize else 'd'\n",
    "    thresh = cm.max() / 2.\n",
    "    for i, j in itertools.product(range(cm.shape[0]), range(cm.shape[1])):\n",
    "        plt.text(j, i, format(cm[i, j], fmt),\n",
    "                 horizontalalignment=\"center\",\n",
    "                 color=\"white\" if cm[i, j] > thresh else \"black\")\n",
    "\n",
    "    plt.ylabel('True label')\n",
    "    plt.xlabel('Predicted label')\n",
    "    plt.tight_layout()"
   ]
  },
  {
   "cell_type": "code",
   "execution_count": 33,
   "metadata": {},
   "outputs": [
    {
     "name": "stdout",
     "output_type": "stream",
     "text": [
      "Confusion matrix, without normalization\n",
      "[[26 11 15]\n",
      " [ 7  3  3]\n",
      " [14  7  9]]\n",
      "Normalized confusion matrix\n",
      "[[0.5        0.21153846 0.28846154]\n",
      " [0.53846154 0.23076923 0.23076923]\n",
      " [0.46666667 0.23333333 0.3       ]]\n"
     ]
    },
    {
     "data": {
      "image/png": "[encoded data removed]",
      "text/plain": [
       "<Figure size 432x288 with 2 Axes>"
      ]
     },
     "metadata": {},
     "output_type": "display_data"
    },
    {
     "data": {
      "image/png": "[encoded data removed]",
      "text/plain": [
       "<Figure size 432x288 with 2 Axes>"
      ]
     },
     "metadata": {},
     "output_type": "display_data"
    }
   ],
   "source": [
    "plt.figure()\n",
    "plot_confusion_matrix(cnf_matrix, classes=['1','0','-1'],\n",
    "                      title='Confusion matrix, without normalization')\n",
    "\n",
    "# Plot normalized confusion matrix\n",
    "plt.figure()\n",
    "plot_confusion_matrix(cnf_matrix, classes=['1','0','-1'], normalize=True,\n",
    "                      title='Normalized confusion matrix')\n",
    "\n",
    "plt.show()"
   ]
  },
  {
   "cell_type": "code",
   "execution_count": null,
   "metadata": {},
   "outputs": [],
   "source": []
  }
 ],
 "metadata": {
  "kernelspec": {
   "display_name": "Python 3",
   "language": "python",
   "name": "python3"
  },
  "language_info": {
   "codemirror_mode": {
    "name": "ipython",
    "version": 3
   },
   "file_extension": ".py",
   "mimetype": "text/x-python",
   "name": "python",
   "nbconvert_exporter": "python",
   "pygments_lexer": "ipython3",
   "version": "3.6.5"
  }
 },
 "nbformat": 4,
 "nbformat_minor": 2
}
