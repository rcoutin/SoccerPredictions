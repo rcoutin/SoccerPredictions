{
 "cells": [
  {
   "cell_type": "code",
   "execution_count": 1,
   "metadata": {},
   "outputs": [],
   "source": [
    "import sqlite3 as db \n",
    "import pandas as pd\n",
    "conn = db.connect('soccer/database.sqlite')\n",
    "\n",
    "\n",
    "from sklearn.preprocessing import MinMaxScaler\n",
    "scaler = MinMaxScaler()"
   ]
  },
  {
   "cell_type": "code",
   "execution_count": 2,
   "metadata": {},
   "outputs": [],
   "source": [
    "norm_team_name = {}\n",
    "norm_team_name['Man United'] = 'Manchester United'\n",
    "norm_team_name['Man City'] = 'Manchester City'\n",
    "norm_team_name['QPR'] = 'Queens Park Rangers'\n",
    "norm_team_name['West Brom'] = 'West Bromwich Albion'\n",
    "norm_team_name['West Ham'] = 'West Ham United'\n",
    "norm_team_name['Bournemouth'] = 'AFC Bournemouth'\n",
    "\n",
    "year_data = {'2014': 'statbunker-football-stats/Player Stats 2014-15.csv' , \n",
    "             '2015': 'statbunker-football-stats/Player Stats 2015-16.csv' ,\n",
    "             '2016': 'statbunker-football-stats/Player Stats 2016-17.csv'}\n"
   ]
  },
  {
   "cell_type": "code",
   "execution_count": 3,
   "metadata": {},
   "outputs": [],
   "source": [
    "def get_all_players_info(year):\n",
    "    query_str = \"\"\"select  p.player_name,pa2.* from player_attributes pa2, player p where p.player_api_id = pa2.player_api_id and\n",
    "    (pa2.player_api_id, pa2.date) in (\n",
    "    select z.player_api_id, z.date from (\n",
    "    select pa.player_api_id, pa.date, min(abs(strftime('%%s',pa.date) - strftime('%%s','%(year)s-09-01 00:00:00'))) from player_attributes pa, player p \n",
    "                                    where pa.player_api_id = p.player_api_id\n",
    "                                    and strftime('%%s',pa.date) > strftime('%%s','2014-05-14 00:00:00') \n",
    "                                    and pa.date like '%(year)s%%'\n",
    "                                    group by pa.player_api_id ) z )\"\"\"%{'year':year}\n",
    "    \n",
    "    all_player_attrs = pd.read_sql_query(query_str,conn)\n",
    "    \n",
    "    return all_player_attrs\n"
   ]
  },
  {
   "cell_type": "code",
   "execution_count": 4,
   "metadata": {},
   "outputs": [],
   "source": [
    "def norm_player_names(all_players_info):\n",
    "    \n",
    "    for key,value in norm_team_name.items():\n",
    "        all_players_info.loc[lambda df: df['HomeTeam'] == key, 'HomeTeam'] = value\n",
    "        all_players_info.loc[lambda df: df['AwayTeam'] == key, 'AwayTeam'] = value\n",
    "    \n",
    "    return all_players_info"
   ]
  },
  {
   "cell_type": "code",
   "execution_count": 5,
   "metadata": {},
   "outputs": [],
   "source": [
    "def get_full_data(year):\n",
    "    ptm = pd.read_csv(year_data[year] , dtype = {'overall_rating':float} )\n",
    "   \n",
    "    ptm = ptm[(ptm['Type Of Goal'] == 'Player') & (ptm['League'] == 'Premier League')]\n",
    "    \n",
    "    all_players_info  = get_all_players_info(year)\n",
    "        \n",
    "    joined = all_players_info.set_index('player_name').join(ptm.set_index('Player'), how='inner')\n",
    "    return joined"
   ]
  },
  {
   "cell_type": "code",
   "execution_count": 6,
   "metadata": {},
   "outputs": [],
   "source": [
    "def create_team(data, name):\n",
    "    \n",
    "    full_team = data[data['Team'].str.startswith(name)]\n",
    "        \n",
    "    team_agg = {}\n",
    "    \n",
    "    team_df = {}\n",
    "    \n",
    "    df_start = full_team[full_team['Team'] == 'THIS DOES NOT EXIST']\n",
    "    \n",
    "    pos_sel = {'Defender': 4, 'Midfielder': 4, 'Forward': 2, 'Goalkeeper':1}\n",
    "\n",
    "    \n",
    "    \n",
    "#     if (len(df_start[df_start['Position'] == 'Forward']) < 3 ):\n",
    "#         forwards = len(df_start[df_start['Position'] == 'Forward'])\n",
    "#         print(forwards)\n",
    "#         pos_sel['Forward'] = forwards\n",
    "#         pos_sel['Midfielder'] = 6 - forwards\n",
    "\n",
    "    for key,value in pos_sel.items():\n",
    "        \n",
    "        grp = full_team[full_team['Position'] == key].sort_values(by = ['overall_rating'], ascending = False).head(value)\n",
    "        df_start = df_start.append(grp)\n",
    "        avg = grp.mean()\n",
    "        team_agg[key] = avg\n",
    "    \n",
    "    return df_start"
   ]
  },
  {
   "cell_type": "code",
   "execution_count": 7,
   "metadata": {},
   "outputs": [],
   "source": [
    "def agg_attributes(team):\n",
    "    #team[team['Position'] == 'Goalkeeper']['Position'] = 'Defender'\n",
    "    \n",
    "    team.loc[lambda df: df['Position'] == 'Goalkeeper', 'Position'] = 'Defender'\n",
    "       \n",
    "    \n",
    "    g = team.groupby(['Position'] , as_index=False).mean()\n",
    "    #print(g['overall_rating'])\n",
    "    #g = g.reset_index().set_index('index')\n",
    "    \n",
    "    return g.transpose()"
   ]
  },
  {
   "cell_type": "code",
   "execution_count": 8,
   "metadata": {},
   "outputs": [],
   "source": [
    "def get_fixtures(year):\n",
    "    f = pd.read_csv('epl-results-19932018/EPL_Set.csv')\n",
    "    f = norm_player_names(f)\n",
    "    \n",
    "    return f[f['Season'].str.startswith(year)]\n",
    "    \n"
   ]
  },
  {
   "cell_type": "code",
   "execution_count": 9,
   "metadata": {},
   "outputs": [],
   "source": [
    "def combine_metrics_2(home_attrs,away_attrs,i):\n",
    "    ### D - D , A - A ###\n",
    "    norm_attrs = {}\n",
    "    norm_attrs['Home_Def'] = home_attrs[0]['overall_rating']\n",
    "    norm_attrs['Home_Att'] = home_attrs[2]['overall_rating']\n",
    "    norm_attrs['Home_Mid'] = home_attrs[1]['overall_rating']\n",
    "    \n",
    "    norm_attrs['Away_Def'] = away_attrs[0]['overall_rating']\n",
    "    norm_attrs['Away_Att'] = away_attrs[2]['overall_rating']\n",
    "    norm_attrs['Away_Mid'] = away_attrs[1]['overall_rating']\n",
    "\n",
    "    norm_attrs['Def_Score'] = home_attrs[0]['overall_rating'] - away_attrs[0]['overall_rating']\n",
    "    norm_attrs['Mid_Score'] = home_attrs[2]['overall_rating'] - away_attrs[2]['overall_rating']\n",
    "    norm_attrs['Att_Score'] = home_attrs[1]['overall_rating'] - away_attrs[1]['overall_rating']\n",
    "    norm_attrs['Result'] = 1 if row['FTHG'] - row['FTAG'] > 0  else (-1 if row['FTHG'] - row['FTAG'] < 0 else 0)\n",
    "    \n",
    "    norm_df = pd.DataFrame(norm_attrs, index = [str(i)])\n",
    "    \n",
    "    return norm_df\n",
    "\n",
    "def combine_metrics_1(home_attrs,away_attrs,i):\n",
    "    \"\"\" D-A  \"\"\"\n",
    "    norm_attrs = {}\n",
    "    \n",
    "    norm_attrs['Home_Def'] = home_attrs[0]['overall_rating']\n",
    "    norm_attrs['Home_Att'] = home_attrs[2]['overall_rating']\n",
    "    norm_attrs['Home_Mid'] = home_attrs[1]['overall_rating']\n",
    "    \n",
    "    norm_attrs['Away_Def'] = away_attrs[0]['overall_rating']\n",
    "    norm_attrs['Away_Att'] = away_attrs[2]['overall_rating']\n",
    "    norm_attrs['Away_Mid'] = away_attrs[1]['overall_rating']\n",
    "    \n",
    "    norm_attrs['Def_Score'] = home_attrs[0]['overall_rating'] - away_attrs[1]['overall_rating']\n",
    "    norm_attrs['Mid_Score'] = home_attrs[2]['overall_rating'] - away_attrs[2]['overall_rating']\n",
    "    norm_attrs['Att_Score'] = home_attrs[1]['overall_rating'] - away_attrs[0]['overall_rating']\n",
    "    norm_attrs['Result'] = 1 if row['FTHG'] - row['FTAG'] > 0  else (-1 if row['FTHG'] - row['FTAG'] < 0 else 0)\n",
    "    \n",
    "    norm_df = pd.DataFrame(norm_attrs, index = [str(i)])\n",
    "    \n",
    "    return norm_df"
   ]
  },
  {
   "cell_type": "code",
   "execution_count": 10,
   "metadata": {},
   "outputs": [],
   "source": [
    "def get_all_team_data(year):\n",
    "    \n",
    "    data = {}\n",
    "\n",
    "    joined_data = get_full_data(year)\n",
    "\n",
    "    f = get_fixtures(year)\n",
    "    teams = f['HomeTeam'].unique()\n",
    "\n",
    "    for team in teams:\n",
    "        team_data = create_team(joined_data, team)\n",
    "        team_attr = agg_attributes(team_data)\n",
    "        data[team] = (team_data, team_attr)\n",
    "\n",
    "    return data"
   ]
  },
  {
   "cell_type": "code",
   "execution_count": 11,
   "metadata": {},
   "outputs": [],
   "source": [
    "def attr_normalize(df, attr,column):\n",
    "        \n",
    "    mx = max(df[column])\n",
    "    mn = min(df[column])\n",
    "    diff = (mx) - (mn)\n",
    "\n",
    "    df[attr] = df[attr].apply(lambda x : x/diff)\n",
    "    return df[attr]"
   ]
  },
  {
   "cell_type": "code",
   "execution_count": 12,
   "metadata": {},
   "outputs": [],
   "source": [
    "team_store = get_all_team_data('2016')\n",
    "\n",
    "j = get_full_data('2016')\n"
   ]
  },
  {
   "cell_type": "code",
   "execution_count": 13,
   "metadata": {},
   "outputs": [],
   "source": [
    "from matplotlib import pyplot as plt\n",
    "\n",
    "i = 0\n",
    "res_df = pd.DataFrame()\n",
    "f = get_fixtures('2016')\n",
    "for key,row in f.iterrows():\n",
    "#     print(\"MATCHING UP: %s vs %s\"%(row['HomeTeam'], row['AwayTeam']))\n",
    "    home = row['HomeTeam']\n",
    "    away = row['AwayTeam']\n",
    "    \n",
    "    home_attrs = team_store[home][1]\n",
    "    away_attrs = team_store[away][1]\n",
    "\n",
    "    res_df = res_df.append(combine_metrics_2(home_attrs,away_attrs,i))\n",
    "    \n",
    "    i = i + 1\n",
    "    "
   ]
  },
  {
   "cell_type": "code",
   "execution_count": 14,
   "metadata": {},
   "outputs": [],
   "source": [
    "\n",
    "res_df['Att_Score'] = attr_normalize(res_df, 'Att_Score','Home_Att' )\n",
    "res_df['Def_Score'] = attr_normalize(res_df, 'Def_Score','Home_Def' )\n",
    "res_df['Mid_Score'] = attr_normalize(res_df, 'Mid_Score','Home_Mid' )\n",
    "\n",
    "res_df.pop('Home_Att')\n",
    "res_df.pop('Home_Mid')\n",
    "res_df.pop('Home_Def')\n",
    "res_df.pop('Away_Att')\n",
    "res_df.pop('Away_Mid')\n",
    "d = res_df.pop('Away_Def')\n",
    "\n",
    "\n",
    "# number of times the stronger team has won against the weaker team"
   ]
  },
  {
   "cell_type": "code",
   "execution_count": 15,
   "metadata": {},
   "outputs": [
    {
     "name": "stdout",
     "output_type": "stream",
     "text": [
      "     Att_Score  Def_Score  Mid_Score  Result\n",
      "0    -0.363636  -0.309091  -0.141026      -1\n",
      "1     1.318182   0.418182   0.012821      -1\n",
      "2     0.000000  -0.654545  -0.076923       0\n",
      "3    -0.590909  -0.236364  -0.064103       1\n",
      "4     0.590909   0.836364   0.371795       1\n",
      "5    -0.272727  -0.272727  -0.179487       0\n",
      "6     0.000000   0.254545   0.153846       0\n",
      "7     0.727273   0.727273   0.025641      -1\n",
      "8    -0.545455  -0.886364  -0.525641      -1\n",
      "9     0.272727   0.236364   0.205128       1\n",
      "10   -0.045455   0.327273   0.384615       1\n",
      "11   -0.409091  -0.218182  -0.346154       1\n",
      "12   -0.409091  -0.454545  -0.243590       0\n",
      "13   -0.454545  -0.509091  -0.269231      -1\n",
      "14    0.227273   0.054545   0.076923      -1\n",
      "15   -0.045455   0.272727   0.192308       1\n",
      "16   -0.409091  -0.418182  -0.564103      -1\n",
      "17   -1.272727  -0.036364  -0.128205      -1\n",
      "18    0.136364  -0.054545   0.076923      -1\n",
      "19    0.727273   0.486364   0.346154       1\n",
      "20    0.954545   0.745455   0.487179       1\n",
      "21    0.818182   0.540909   0.166667       0\n",
      "22   -0.045455  -0.309091   0.038462       1\n",
      "23   -0.363636  -0.654545  -0.397436      -1\n",
      "24    0.363636   0.181818  -0.012821       1\n",
      "25   -0.090909   0.418182   0.000000       0\n",
      "26    0.318182   0.618182  -0.051282       0\n",
      "27   -0.590909  -0.618182  -0.448718      -1\n",
      "28    0.545455   0.490909   0.166667       1\n",
      "29   -1.045455  -0.072727   0.089744       0\n",
      "..         ...        ...        ...     ...\n",
      "350  -0.363636   0.127273  -0.076923       1\n",
      "351   0.636364   0.036364  -0.089744       1\n",
      "352  -0.136364  -0.363636   0.269231       0\n",
      "353   0.454545   0.527273   0.487179       1\n",
      "354  -0.590909  -0.363636  -0.294872      -1\n",
      "355   0.181818  -0.145455   0.294872       1\n",
      "356  -1.500000  -0.600000  -0.397436      -1\n",
      "357  -0.045455   0.022727  -0.064103       1\n",
      "358   0.500000   0.509091   0.320513       1\n",
      "359  -0.045455  -0.363636  -0.076923      -1\n",
      "360  -0.363636  -0.454545  -0.192308      -1\n",
      "361   0.272727  -0.145455  -0.064103      -1\n",
      "362   0.636364   0.309091   0.038462       1\n",
      "363   0.227273  -0.072727  -0.166667       1\n",
      "364   0.272727   0.290909  -0.064103      -1\n",
      "365   0.409091   0.418182   0.564103       1\n",
      "366   0.500000   0.781818   0.294872       1\n",
      "367   1.772727   0.854545   0.358974       1\n",
      "368   0.045455  -0.327273  -0.384615       0\n",
      "369   0.000000  -0.345455  -0.166667      -1\n",
      "370   0.409091   0.763636   0.153846       1\n",
      "371  -0.681818  -0.509091  -0.282051      -1\n",
      "372   0.318182   0.581818   0.410256       1\n",
      "373  -0.590909  -0.581818  -0.230769      -1\n",
      "374   0.772727   0.468182   0.192308       0\n",
      "375  -0.090909   0.000000   0.346154       1\n",
      "376  -0.272727   0.345455   0.358974       1\n",
      "377  -0.227273   0.090909  -0.102564      -1\n",
      "378   0.909091   0.163636   0.051282       1\n",
      "379  -0.681818  -0.672727  -0.525641      -1\n",
      "\n",
      "[380 rows x 4 columns]\n"
     ]
    }
   ],
   "source": [
    "print(res_df)"
   ]
  },
  {
   "cell_type": "code",
   "execution_count": 16,
   "metadata": {},
   "outputs": [
    {
     "name": "stdout",
     "output_type": "stream",
     "text": [
      "0.4921052631578947\n",
      "0.22105263157894736\n",
      "0.2868421052631579\n",
      "0.22105263157894736\n",
      "0.2868421052631579\n",
      "0.48157894736842105\n"
     ]
    },
    {
     "data": {
      "text/plain": [
       "<matplotlib.axes._subplots.AxesSubplot at 0x1e556fa8400>"
      ]
     },
     "execution_count": 16,
     "metadata": {},
     "output_type": "execute_result"
    },
    {
     "data": {
      "image/png": "[encoded data removed]",
      "text/plain": [
       "<matplotlib.figure.Figure at 0x1e556fa85f8>"
      ]
     },
     "metadata": {},
     "output_type": "display_data"
    }
   ],
   "source": [
    "import seaborn as sns\n",
    "\n",
    "\n",
    "plt.figure(figsize = (20,10))\n",
    "plt.xlabel('Games')\n",
    "plt.ylabel('Parameter')\n",
    "\n",
    "strong_winners = res_df[(res_df['Att_Score'] > 0) & (res_df['Result'] == 1)].append(res_df[(res_df['Def_Score'] < 0) & (res_df['Result'] == -1)])\n",
    "\n",
    "weak_winners = res_df[(res_df['Att_Score'] < 0) & (res_df['Result'] == 1)].append(res_df[(res_df['Def_Score'] > 0) & (res_df['Result'] == -1)])\n",
    "\n",
    "\n",
    "plt.subplot()\n",
    "sns.distplot(strong_winners['Att_Score'], norm_hist = False, kde = False)\n",
    "\n",
    "# for key, row in res_df.iterrows():\n",
    "    \n",
    "#     if (row['Def_Score'] > 0 and row['Result'] == 1) or (row['Def_Score'] < 0 and row['Result'] == -1):\n",
    "#         color = ''\n",
    "        \n",
    "#     elif row['Result'] == 0:\n",
    "#         color = ''\n",
    "#     else:\n",
    "#         color = 'bx'\n",
    " \n",
    "#     plt.plot(key, row['Att_Score'], color)\n",
    "\n",
    "# plt.show()\n",
    "# attr = ['Att_Score','Def_Score','Mid_Score']\n",
    "\n",
    "\n",
    "\n",
    "\n",
    "# for a in enumerate(attr):\n",
    "#     print(\"Based on attribute %s\"%a)\n",
    "#     strong_winners_home = res_df[(res_df[a] > 0) & (res_df['Result'] == 1)]\n",
    "#     strong_winners_away = res_df[(res_df[a] < 0) & (res_df['Result'] == -1)]\n",
    "\n",
    "    \n",
    "#     plt.plot(i,res_df['Att_Score'],'bo',label = 'Test')\n",
    "#     strong_draw_home = res_df[(res_df[a] > 0) & (res_df['Result'] == 0)]\n",
    "#     strong_draw_away = res_df[(res_df[a] < 0) & (res_df['Result'] == 0)]\n",
    "    \n",
    "#     weak_winner_home = res_df[(res_df[a] > 0) & (res_df['Result'] == -1)]\n",
    "#     weak_winner_away = res_df[(res_df[a] < 0) & (res_df['Result'] == 1)]\n",
    " \n",
    "# #     print(len(strong_winners_away) + len(strong_winners_home) )\n",
    "\n",
    "# #     #print(strong_winners_home\n",
    "# #     print(len(strong_draw_home) + len(strong_draw_away))\n",
    "    \n",
    "# #     print(len(weak_winner_away) + len(weak_winner_home) )\n",
    "    \n",
    "    \n",
    "# #plt.show()"
   ]
  },
  {
   "cell_type": "code",
   "execution_count": null,
   "metadata": {},
   "outputs": [],
   "source": []
  },
  {
   "cell_type": "code",
   "execution_count": 17,
   "metadata": {},
   "outputs": [
    {
     "name": "stderr",
     "output_type": "stream",
     "text": [
      "D:\\Apps\\Anaconda3\\lib\\site-packages\\h5py\\__init__.py:36: FutureWarning: Conversion of the second argument of issubdtype from `float` to `np.floating` is deprecated. In future, it will be treated as `np.float64 == np.dtype(float).type`.\n",
      "  from ._conv import register_converters as _register_converters\n",
      "Using TensorFlow backend.\n"
     ]
    },
    {
     "name": "stdout",
     "output_type": "stream",
     "text": [
      "2.2.4\n"
     ]
    }
   ],
   "source": [
    "import keras\n",
    "print(keras.__version__)\n",
    "from keras.models import Sequential\n",
    "from keras.layers import Dense, Activation"
   ]
  },
  {
   "cell_type": "code",
   "execution_count": 18,
   "metadata": {},
   "outputs": [],
   "source": [
    "def create_model(x_train,y_train):\n",
    "  \"\"\" Creates a Sequential model made out of Densely connected Neural Network layers. All parameters are configured as per specification for Q4\"\"\"\n",
    "  \n",
    "  model = Sequential()\n",
    "  #Input Layer with 61 inputs corresponding to 61 features \n",
    "  model.add(Dense(10,input_dim = 3, activation = 'relu'))\n",
    "  \n",
    "  model.add(Dense(1,activation = 'sigmoid'))\n",
    "  \n",
    "  #Compiling the model with appropriate parameters\n",
    "  model.compile(loss = 'mse', optimizer ='sgd',metrics = ['accuracy'])\n",
    "  \n",
    "  result = model.fit(x_train,y_train,epochs = 5, batch_size = 50)\n",
    "  \n",
    "  #Store the model, its average training accuracy and validation accuracy over 10 epochs\n",
    "  \n",
    "  return model\n"
   ]
  },
  {
   "cell_type": "code",
   "execution_count": 19,
   "metadata": {},
   "outputs": [
    {
     "name": "stdout",
     "output_type": "stream",
     "text": [
      "     Att_Score  Def_Score  Mid_Score  Result\n",
      "0    -0.363636  -0.309091  -0.141026      -1\n",
      "1     1.318182   0.418182   0.012821      -1\n",
      "2     0.000000  -0.654545  -0.076923       0\n",
      "3    -0.590909  -0.236364  -0.064103       1\n",
      "4     0.590909   0.836364   0.371795       1\n",
      "5    -0.272727  -0.272727  -0.179487       0\n",
      "6     0.000000   0.254545   0.153846       0\n",
      "7     0.727273   0.727273   0.025641      -1\n",
      "8    -0.545455  -0.886364  -0.525641      -1\n",
      "9     0.272727   0.236364   0.205128       1\n",
      "10   -0.045455   0.327273   0.384615       1\n",
      "11   -0.409091  -0.218182  -0.346154       1\n",
      "12   -0.409091  -0.454545  -0.243590       0\n",
      "13   -0.454545  -0.509091  -0.269231      -1\n",
      "14    0.227273   0.054545   0.076923      -1\n",
      "15   -0.045455   0.272727   0.192308       1\n",
      "16   -0.409091  -0.418182  -0.564103      -1\n",
      "17   -1.272727  -0.036364  -0.128205      -1\n",
      "18    0.136364  -0.054545   0.076923      -1\n",
      "19    0.727273   0.486364   0.346154       1\n",
      "20    0.954545   0.745455   0.487179       1\n",
      "21    0.818182   0.540909   0.166667       0\n",
      "22   -0.045455  -0.309091   0.038462       1\n",
      "23   -0.363636  -0.654545  -0.397436      -1\n",
      "24    0.363636   0.181818  -0.012821       1\n",
      "25   -0.090909   0.418182   0.000000       0\n",
      "26    0.318182   0.618182  -0.051282       0\n",
      "27   -0.590909  -0.618182  -0.448718      -1\n",
      "28    0.545455   0.490909   0.166667       1\n",
      "29   -1.045455  -0.072727   0.089744       0\n",
      "..         ...        ...        ...     ...\n",
      "350  -0.363636   0.127273  -0.076923       1\n",
      "351   0.636364   0.036364  -0.089744       1\n",
      "352  -0.136364  -0.363636   0.269231       0\n",
      "353   0.454545   0.527273   0.487179       1\n",
      "354  -0.590909  -0.363636  -0.294872      -1\n",
      "355   0.181818  -0.145455   0.294872       1\n",
      "356  -1.500000  -0.600000  -0.397436      -1\n",
      "357  -0.045455   0.022727  -0.064103       1\n",
      "358   0.500000   0.509091   0.320513       1\n",
      "359  -0.045455  -0.363636  -0.076923      -1\n",
      "360  -0.363636  -0.454545  -0.192308      -1\n",
      "361   0.272727  -0.145455  -0.064103      -1\n",
      "362   0.636364   0.309091   0.038462       1\n",
      "363   0.227273  -0.072727  -0.166667       1\n",
      "364   0.272727   0.290909  -0.064103      -1\n",
      "365   0.409091   0.418182   0.564103       1\n",
      "366   0.500000   0.781818   0.294872       1\n",
      "367   1.772727   0.854545   0.358974       1\n",
      "368   0.045455  -0.327273  -0.384615       0\n",
      "369   0.000000  -0.345455  -0.166667      -1\n",
      "370   0.409091   0.763636   0.153846       1\n",
      "371  -0.681818  -0.509091  -0.282051      -1\n",
      "372   0.318182   0.581818   0.410256       1\n",
      "373  -0.590909  -0.581818  -0.230769      -1\n",
      "374   0.772727   0.468182   0.192308       0\n",
      "375  -0.090909   0.000000   0.346154       1\n",
      "376  -0.272727   0.345455   0.358974       1\n",
      "377  -0.227273   0.090909  -0.102564      -1\n",
      "378   0.909091   0.163636   0.051282       1\n",
      "379  -0.681818  -0.672727  -0.525641      -1\n",
      "\n",
      "[380 rows x 4 columns]\n"
     ]
    }
   ],
   "source": [
    "from sklearn.model_selection import train_test_split\n",
    "\n",
    "full_copy = res_df.copy()\n",
    "print(full_copy)\n",
    "#full_copy = full_copy[full_copy['Result'] !=0]\n",
    "#full_copy[full_copy['Result'] == 1]\n",
    "# print(full_copy[full_copy['Result'] == 1])\n",
    "# print(full_copy[full_copy['Result'] == 0])\n",
    "# print(full_copy[full_copy['Result'] == -1])\n",
    "\n",
    "full_y = full_copy.pop('Result')\n",
    "full_x = full_copy\n",
    "\n",
    "# tr_data = full_copy.iloc[:300]\n",
    "# te_data =  full_copy.iloc[300:381]\n",
    "\n",
    "x_train,te_x,y_train,te_y = train_test_split(full_x, full_y, test_size = 0.25, stratify = full_y)\n",
    "\n",
    "\n",
    "# y_train = tr_data.pop('Result')\n",
    "# x_train = tr_data\n",
    "\n",
    "# te_y = te_data.pop('Result')\n",
    "# te_x = te_data\n"
   ]
  },
  {
   "cell_type": "code",
   "execution_count": 25,
   "metadata": {},
   "outputs": [
    {
     "name": "stdout",
     "output_type": "stream",
     "text": [
      "Epoch 1/5\n",
      "285/285 [==============================] - 0s 406us/step - loss: 0.8584 - acc: 0.4877\n",
      "Epoch 2/5\n",
      "285/285 [==============================] - 0s 28us/step - loss: 0.8556 - acc: 0.4842\n",
      "Epoch 3/5\n",
      "285/285 [==============================] - 0s 42us/step - loss: 0.8530 - acc: 0.4737\n",
      "Epoch 4/5\n",
      "285/285 [==============================] - 0s 42us/step - loss: 0.8505 - acc: 0.4702\n",
      "Epoch 5/5\n",
      "285/285 [==============================] - 0s 28us/step - loss: 0.8479 - acc: 0.4596\n",
      "95/95 [==============================] - 0s 336us/step\n"
     ]
    }
   ],
   "source": [
    "#Training neural network\n",
    "\n",
    "model = create_model(x_train,y_train)\n",
    "#pred_y = model.predict(te_x)\n",
    "score = model.evaluate(te_x,te_y)\n"
   ]
  },
  {
   "cell_type": "code",
   "execution_count": 26,
   "metadata": {},
   "outputs": [],
   "source": [
    "#Training SVM"
   ]
  },
  {
   "cell_type": "code",
   "execution_count": 29,
   "metadata": {},
   "outputs": [
    {
     "name": "stdout",
     "output_type": "stream",
     "text": [
      "[ 1  1 -1 -1  1  1 -1  1 -1  1  1 -1  1  1  1  1  1  1  1  1  1  1 -1  1\n",
      "  1  1  1 -1  1  1  1  1 -1  1  1  1  1 -1  1  1  1 -1  1  1 -1  1 -1  1\n",
      " -1  1 -1  1  1  1 -1  1  1  1 -1  1  1  1  1  1 -1 -1 -1  1 -1  1  1  1\n",
      " -1  1  1 -1  1 -1  1  1  1  1  1  1  1  1 -1 -1  1  1  1 -1 -1  1 -1]\n",
      "0.5894736842105263\n"
     ]
    }
   ],
   "source": [
    "from sklearn.svm import LinearSVC, SVC\n",
    "from sklearn.metrics import accuracy_score\n",
    "\n",
    "svm = LinearSVC(C = 0.1)\n",
    "\n",
    "\n",
    "svm.fit(x_train,y_train)\n",
    "# print(svm.coef_)\n",
    "# print(svm.intercept_)\n",
    "y_pred = svm.predict(te_x)\n",
    "print(y_pred)\n",
    "z =accuracy_score(te_y,y_pred)\n",
    "print(z)"
   ]
  },
  {
   "cell_type": "code",
   "execution_count": 28,
   "metadata": {},
   "outputs": [
    {
     "name": "stdout",
     "output_type": "stream",
     "text": [
      "0.4421052631578947\n",
      "[ 1  1  1  1 -1  1  1  1 -1  1 -1 -1  1  1  1 -1 -1  1 -1  1  1  0  1  0\n",
      "  1 -1  1  1  1  1 -1  1  1 -1  0  1  1  1  1  1  1  1  1  1  1  1  1 -1\n",
      "  1  1 -1  1  0 -1 -1  1  1  0  1  1  1  1  1  1  1 -1 -1 -1 -1 -1  1  1\n",
      "  1  1 -1  1  1 -1 -1 -1 -1 -1  1  1  1  1 -1  1  1  1  1  1 -1  1  1]\n"
     ]
    },
    {
     "data": {
      "text/plain": [
       "array([[30, 17, 16],\n",
       "       [ 2,  2,  1],\n",
       "       [15,  2, 10]], dtype=int64)"
      ]
     },
     "execution_count": 28,
     "metadata": {},
     "output_type": "execute_result"
    }
   ],
   "source": [
    "#Training decision tree\n",
    "from sklearn import tree\n",
    "from sklearn.tree import DecisionTreeClassifier\n",
    "from sklearn.metrics import accuracy_score\n",
    "from sklearn.metrics import confusion_matrix\n",
    "\n",
    "dt = DecisionTreeClassifier(criterion = 'entropy', max_depth = 8, random_state = 5)\n",
    "\n",
    "dt.fit(x_train['Att_Score'].values.reshape(-1,1),y_train)\n",
    "\n",
    "y_pred = dt.predict(te_x['Att_Score'].values.reshape(-1,1))\n",
    "\n",
    "a = accuracy_score(te_y,y_pred)\n",
    "print(a)\n",
    "# print(te_y.values)\n",
    "print(y_pred)\n",
    "\n",
    "confusion_matrix(y_pred, te_y, labels = [1,0,-1])\n",
    "\n",
    "# import graphviz \n",
    "\n",
    "\n",
    "# dot_data = tree.export_graphviz(dt, out_file='test',feature_names = ['Att_Score'] ,class_names = ['0','-1','1'])\n",
    "\n",
    "# graphviz.render('dot','png','test', quiet = False)"
   ]
  },
  {
   "cell_type": "code",
   "execution_count": null,
   "metadata": {},
   "outputs": [],
   "source": [
    "\n",
    "\n"
   ]
  },
  {
   "cell_type": "code",
   "execution_count": null,
   "metadata": {},
   "outputs": [],
   "source": []
  }
 ],
 "metadata": {
  "kernelspec": {
   "display_name": "Python 3",
   "language": "python",
   "name": "python3"
  },
  "language_info": {
   "codemirror_mode": {
    "name": "ipython",
    "version": 3
   },
   "file_extension": ".py",
   "mimetype": "text/x-python",
   "name": "python",
   "nbconvert_exporter": "python",
   "pygments_lexer": "ipython3",
   "version": "3.6.4"
  }
 },
 "nbformat": 4,
 "nbformat_minor": 2
}
