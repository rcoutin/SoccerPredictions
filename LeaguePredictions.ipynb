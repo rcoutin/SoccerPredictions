{
 "cells": [
  {
   "cell_type": "code",
   "execution_count": 1,
   "metadata": {},
   "outputs": [],
   "source": [
    "import sqlite3 as db \n",
    "import pandas as pd\n",
    "conn = db.connect('soccer/database.sqlite')"
   ]
  },
  {
   "cell_type": "code",
   "execution_count": 2,
   "metadata": {},
   "outputs": [
    {
     "name": "stdout",
     "output_type": "stream",
     "text": [
      "<sqlite3.Connection object at 0x000001F4C0274B90>\n"
     ]
    }
   ],
   "source": [
    "print(conn)"
   ]
  },
  {
   "cell_type": "code",
   "execution_count": 3,
   "metadata": {},
   "outputs": [],
   "source": [
    "\n",
    "\n",
    "all_players_info = pd.read_sql_query(\"\"\"select  p.player_name,pa2.* from player_attributes pa2, player p where p.player_api_id = pa2.player_api_id and\n",
    "(pa2.player_api_id, pa2.date) in (\n",
    "select z.player_api_id, z.date from (\n",
    "select pa.player_api_id, pa.date, min(abs(strftime('%s',pa.date) - strftime('%s','2014-09-01 00:00:00'))) from player_attributes pa, player p \n",
    "                                where pa.player_api_id = p.player_api_id\n",
    "                                and strftime('%s',pa.date) > strftime('%s','2014-05-14 00:00:00') \n",
    "                                and pa.date like '2014 %'\n",
    "                                group by pa.player_api_id ) z )\"\"\",conn)\n"
   ]
  },
  {
   "cell_type": "code",
   "execution_count": 109,
   "metadata": {},
   "outputs": [
    {
     "name": "stdout",
     "output_type": "stream",
     "text": [
      "Leighton Baines    82.0\n",
      "Seamus Coleman     79.0\n",
      "Antolin Alcaraz    74.0\n",
      "John Stones        73.0\n",
      "Gareth Barry       80.0\n",
      "Aaron Lennon       79.0\n",
      "James McCarthy     79.0\n",
      "Samuel Eto'o       81.0\n",
      "Kevin Mirallas     80.0\n",
      "Romelu Lukaku      80.0\n",
      "Tim Howard         82.0\n",
      "Name: overall_rating, dtype: float64\n",
      "     Position             id  player_fifa_api_id  player_api_id  \\\n",
      "0    Defender  106162.200000       140524.800000   81878.000000   \n",
      "1     Forward  135408.333333       124785.333333   80355.333333   \n",
      "2  Midfielder   45849.333333       115942.000000   51956.333333   \n",
      "\n",
      "   overall_rating  potential   crossing  finishing  heading_accuracy  \\\n",
      "0       78.000000  80.800000  59.200000  45.600000         61.800000   \n",
      "1       80.333333  82.666667  73.000000  81.000000         72.666667   \n",
      "2       79.333333  80.666667  75.666667  64.333333         54.666667   \n",
      "\n",
      "   short_passing          ...            Min/goal  Assists  % Assists  \\\n",
      "0           66.2          ...                 NaN      9.0       20.0   \n",
      "1           73.0          ...               245.5      NaN        NaN   \n",
      "2           82.0          ...                 NaN      NaN        NaN   \n",
      "\n",
      "   Recipient Goals   CS  Hat Tricks  Yelow - Minutes Played  Sent Off  \\\n",
      "0              2.0  7.0         NaN             2249.000000       1.0   \n",
      "1              NaN  NaN         NaN             1694.000000       NaN   \n",
      "2              NaN  NaN         NaN             2192.666667       1.0   \n",
      "\n",
      "   Red - Minutes Played  Minutes per Red Cards  \n",
      "0                 526.0                  526.0  \n",
      "1                   NaN                    NaN  \n",
      "2                2827.0                 2827.0  \n",
      "\n",
      "[3 rows x 57 columns]\n"
     ]
    }
   ],
   "source": [
    "\n",
    "year_data = {'2014': 'statbunker-football-stats/Player Stats 2014-15.csv' , \n",
    "             '2015': 'statbunker-football-stats/Player Stats 2015-16.csv' ,\n",
    "             '2016': 'statbunker-football-stats/Player Stats 2016-17.csv'}\n",
    "\n",
    "#ptm = pd.read_csv('statbunker-football-stats/Player Stats 2014-15.csv', )\n",
    "\n",
    "\n",
    "# #caller.set_index('key').join(other.set_index('key'))\n",
    "# joined = all_players_info.set_index('player_name').join(ptm.set_index('Player'), how='inner')\n",
    "\n",
    "\n",
    "\n",
    "def agg_attributes(team):\n",
    "    #team[team['Position'] == 'Goalkeeper']['Position'] = 'Defender'\n",
    "    \n",
    "    team.loc[lambda df: df['Position'] == 'Goalkeeper', 'Position'] = 'Defender'\n",
    "       \n",
    "    print(team['overall_rating'])\n",
    "    g = team.groupby(['Position'] , as_index=False)\n",
    "    print(g.mean())\n",
    "\n",
    "def create_team( name, year):\n",
    "    \n",
    "    ptm = pd.read_csv(year_data[year] , dtype = {'overall_rating':float} )\n",
    "   \n",
    "    ptm = ptm[(ptm['Type Of Goal'] == 'Player') & (ptm['League'] == 'Premier League')]\n",
    "    joined = all_players_info.set_index('player_name').join(ptm.set_index('Player'), how='inner')\n",
    "    full_team = joined[joined['Team'] == name]\n",
    "        \n",
    "    pos_sel = {'Defender': 4, 'Midfielder': 3, 'Forward': 3, 'Goalkeeper':1}\n",
    "    team_agg = {}\n",
    "    \n",
    "    team_df = {}\n",
    "    \n",
    "    df_start = full_team[full_team['Team'] == 'THIS DOES NOT EXIST']\n",
    "    \n",
    "    for key,value in pos_sel.items():\n",
    "        \n",
    "        grp = full_team[full_team['Position'] == key].sort_values(by = ['overall_rating'], ascending = False).head(value)\n",
    "        df_start = df_start.append(grp)\n",
    "        avg = grp.mean()\n",
    "        team_agg[key] = avg\n",
    "    \n",
    "    return df_start\n",
    "    \n",
    "start11 = create_team('Everton', '2014')\n",
    "\n",
    "agg_attributes(start11)\n"
   ]
  },
  {
   "cell_type": "code",
   "execution_count": null,
   "metadata": {},
   "outputs": [],
   "source": []
  }
 ],
 "metadata": {
  "kernelspec": {
   "display_name": "Python 3",
   "language": "python",
   "name": "python3"
  },
  "language_info": {
   "codemirror_mode": {
    "name": "ipython",
    "version": 3
   },
   "file_extension": ".py",
   "mimetype": "text/x-python",
   "name": "python",
   "nbconvert_exporter": "python",
   "pygments_lexer": "ipython3",
   "version": "3.6.4"
  }
 },
 "nbformat": 4,
 "nbformat_minor": 2
}
